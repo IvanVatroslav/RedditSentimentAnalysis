{
 "cells": [
  {
   "cell_type": "code",
   "execution_count": 1,
   "id": "initial_id",
   "metadata": {
    "collapsed": true,
    "ExecuteTime": {
     "end_time": "2024-02-01T19:13:52.230495300Z",
     "start_time": "2024-02-01T19:13:47.765974900Z"
    }
   },
   "outputs": [],
   "source": [
    "from selenium import webdriver\n",
    "from selenium.webdriver.common.by import By\n",
    "from selenium.webdriver.support.ui import WebDriverWait\n",
    "from selenium.webdriver.support import expected_conditions as EC\n",
    "import time\n",
    "from selenium.common import NoSuchElementException\n",
    "from selenium.common import TimeoutException\n",
    "import numpy as np\n",
    "from selenium.webdriver import ActionChains\n",
    "import pandas as pd\n",
    "import re"
   ]
  },
  {
   "cell_type": "code",
   "outputs": [],
   "source": [
    "# Initialize a variable to store the text of the last review from the previous iteration\n",
    "previous_last_review_text = None\n",
    "return_to_first_review()\n",
    "\n",
    "while True:\n",
    "    short_wait.until(EC.invisibility_of_element_located(loading_text))\n",
    "\n",
    "    review_elements = driver.find_elements(By.XPATH, \"//*[@data-hveid='2']/following-sibling::*//div[@class='OA1nbd']\")\n",
    "\n",
    "    if not review_elements:\n",
    "        break  # Break if no reviews are found\n",
    "\n",
    "    # Get the text of the last review element\n",
    "    current_last_review_text = review_elements[-1].text.strip()\n",
    "\n",
    "    # Check if the last review element is empty\n",
    "    if not current_last_review_text:\n",
    "        print(\"Empty review encountered.\")\n",
    "        break  # Break if the last review is empty\n",
    "    short_wait.until(EC.invisibility_of_element_located(loading_text))\n",
    "    last_element = review_elements[-1]\n",
    "    last_element.location_once_scrolled_into_view\n",
    "    #time.sleep(2)  # Waiting for potential loading of new reviews\n",
    "    #short_wait.until(EC.visibility_of_element_located(loading_text))\n",
    "    short_wait.until(EC.invisibility_of_element_located(loading_text))\n",
    "\n",
    "    # Check if the last non-empty review text is the same as in the previous iteration\n",
    "    if current_last_review_text == previous_last_review_text:\n",
    "        total_reviews_with_text = [elem for elem in review_elements if elem.text.strip()]\n",
    "        print(len(total_reviews_with_text), \"reviews found.\")\n",
    "        break  # Break the loop if we are seeing the same last non-empty review as before\n",
    "\n",
    "    previous_last_review_text = current_last_review_text  # Update the last review text for the next iteration\n"
   ],
   "metadata": {
    "collapsed": false
   },
   "id": "66b5b1136497c8f2"
  },
  {
   "cell_type": "code",
   "outputs": [],
   "source": [
    "def return_to_first_review():\n",
    "    first_review = driver.find_element(By.XPATH,\n",
    "                                       \"//div[@data-attrid='kc:/local:all reviews']//div[3]/div/div[1]//div[@class='OA1nbd']\")\n",
    "    first_review.location_once_scrolled_into_view\n",
    "    driver.execute_script(\"arguments[0].scrollIntoView();\", first_review)\n"
   ],
   "metadata": {
    "collapsed": false
   },
   "id": "539df34d2d21cf1c"
  },
  {
   "cell_type": "code",
   "outputs": [],
   "source": [
    "# Fetch all review elements\n",
    "review_elements_xpath = \"//div[@data-attrid='kc:/local:all reviews']//div[3]/div/div//div[@class='OA1nbd']\"\n",
    "review_elements = driver.find_elements(By.XPATH, review_elements_xpath)\n",
    "\n",
    "# First pass: Click all 'Translate' buttons\n",
    "for i in range(1, len(review_elements) + 1):\n",
    "    translate_button_xpath = f\"//div[@data-attrid='kc:/local:all reviews']//div[3]/div/div[{i}]/div[3]//button[contains(@class, 'qGGAec') and .//span[contains(text(), 'Translated by Google')]]\"\n",
    "    translate_buttons = driver.find_elements(By.XPATH, translate_button_xpath)\n",
    "    if translate_buttons:\n",
    "        translate_buttons[0].click()\n",
    "        #time.sleep(1)  # Adjust timing as necessary"
   ],
   "metadata": {
    "collapsed": false
   },
   "id": "820d7efe8ff36d70"
  },
  {
   "cell_type": "code",
   "outputs": [],
   "source": [
    "# Second pass: Click all 'More' buttons\n",
    "for i in range(1, len(review_elements) + 1):\n",
    "    more_button_xpath = f\"//div[@data-attrid='kc:/local:all reviews']//div[3]/div/div[{i}]//div[@class='OA1nbd']//a[@role='button' and contains(text(), 'More')]\"\n",
    "    more_buttons = driver.find_elements(By.XPATH, more_button_xpath)\n",
    "    if more_buttons and more_buttons[0].is_displayed():\n",
    "        driver.execute_script(\"arguments[0].scrollIntoView();\", more_buttons[0])\n",
    "        try:\n",
    "            more_buttons[0].click()\n",
    "        except Exception as e:\n",
    "            print(f\"Skipping a non-interactable 'More' button at index {i}: {e}\")\n"
   ],
   "metadata": {
    "collapsed": false
   },
   "id": "b17ad286926ef9db"
  },
  {
   "cell_type": "code",
   "outputs": [],
   "source": [
    "def extract_rating(aria_label):\n",
    "    match = re.search(r\"Rated (\\d+(\\.\\d+)?) out of 5\", aria_label)\n",
    "    return float(match.group(1)) if match else None"
   ],
   "metadata": {
    "collapsed": false
   },
   "id": "e91a6135fdf74b5c"
  },
  {
   "cell_type": "code",
   "outputs": [],
   "source": [
    "reviews_df = pd.DataFrame(columns=['Review', 'Rating'])\n",
    "reviews_df.reset_index(drop=True, inplace=True)\n",
    "return_to_first_review()\n",
    "i = 1\n",
    "count_non_empty_reviews = 0\n",
    "\n",
    "while count_non_empty_reviews <= len(total_reviews_with_text):\n",
    "    try:\n",
    "        review_xpath = f\"//div[@data-attrid='kc:/local:all reviews']//div[3]/div/div[{i}]//div[@class='OA1nbd']\"\n",
    "        rating_xpath = f\"//div[@data-attrid='kc:/local:all reviews']//div[3]/div/div[{i}]//div[contains(@aria-label, 'Rated') and contains(@role, 'img')]\"\n",
    "\n",
    "        review_element = driver.find_element(By.XPATH, review_xpath)\n",
    "        rating_element = driver.find_element(By.XPATH, rating_xpath)\n",
    "\n",
    "        review_text = review_element.text.strip()\n",
    "        if review_text:\n",
    "            review_rating = extract_rating(rating_element.get_attribute('aria-label'))\n",
    "            reviews_df.loc[len(reviews_df)] = [review_text, review_rating]\n",
    "            count_non_empty_reviews += 1\n",
    "\n",
    "    except NoSuchElementException:\n",
    "        print(\"No more reviews found.\")\n",
    "\n",
    "    i += 1\n",
    "\n",
    "print(reviews_df.head())\n",
    "\n",
    "reviews_df.to_csv('reviews_and_ratings.csv', index=False)"
   ],
   "metadata": {
    "collapsed": false
   },
   "id": "5065304c0f7fc450"
  }
 ],
 "metadata": {
  "kernelspec": {
   "display_name": "Python 3",
   "language": "python",
   "name": "python3"
  },
  "language_info": {
   "codemirror_mode": {
    "name": "ipython",
    "version": 2
   },
   "file_extension": ".py",
   "mimetype": "text/x-python",
   "name": "python",
   "nbconvert_exporter": "python",
   "pygments_lexer": "ipython2",
   "version": "2.7.6"
  }
 },
 "nbformat": 4,
 "nbformat_minor": 5
}
