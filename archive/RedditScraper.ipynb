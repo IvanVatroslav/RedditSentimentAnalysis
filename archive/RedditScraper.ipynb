{
 "cells": [
  {
   "cell_type": "code",
   "execution_count": 1,
   "id": "initial_id",
   "metadata": {
    "collapsed": true,
    "ExecuteTime": {
     "end_time": "2024-01-29T10:42:29.262119500Z",
     "start_time": "2024-01-29T10:42:28.234842400Z"
    }
   },
   "outputs": [],
   "source": [
    "import praw\n",
    "from vaderSentiment.vaderSentiment import SentimentIntensityAnalyzer\n"
   ]
  },
  {
   "cell_type": "code",
   "outputs": [],
   "source": [
    "import config\n",
    "\n",
    "reddit = praw.Reddit(client_id=config.client_id,\n",
    "                     client_secret=config.client_secret,\n",
    "                     user_agent=config.user_agent)"
   ],
   "metadata": {
    "collapsed": false,
    "ExecuteTime": {
     "end_time": "2024-01-29T10:43:02.867210200Z",
     "start_time": "2024-01-29T10:43:01.577001100Z"
    }
   },
   "id": "9188a3f3f8fbaf4d",
   "execution_count": 2
  },
  {
   "cell_type": "code",
   "outputs": [
    {
     "name": "stdout",
     "output_type": "stream",
     "text": [
      "Jedna prigodna za danasnje vrijeme otkaza i teskog nalazenja posla\n",
      "Istina\n",
      "Najkraći razgovor za posao ikad\n",
      "Popis firmi koje su davale otkaz 2023\n",
      "IT stručnjak iz Osijeka napisao knjigu o Linuxu na 1200 stranica i poklanja ju svima\n",
      "Infobip - Novi prodavači magle?\n",
      "Microsoft Teams me provocira\n",
      "Ajmo pomoći juniorima\n",
      "živa istina\n",
      "Preoštri komentari\n",
      "Q je u potrazi za 30 novih ljudi /s\n",
      "Koji je vaš IT guilty pleasure?\n",
      "YugoAuto - Napravio sam i mobilni app za besplatnu alternativu za BlaBlaCar\n",
      "Naš omiljeni influencer Petric i bagra s njegovih komentara\n",
      "Izbacio sam svoju prvu igricu \"Liyf\" na Steam. (Info u komentaru)\n"
     ]
    }
   ],
   "source": [
    "subreddit = reddit.subreddit('CroIT')\n",
    "\n",
    "for post in subreddit.top(limit=10):  # You can use .hot(), \n",
    "    print(post.title)  \n"
   ],
   "metadata": {
    "collapsed": false,
    "ExecuteTime": {
     "end_time": "2024-01-29T10:43:24.851950800Z",
     "start_time": "2024-01-29T10:43:24.303059Z"
    }
   },
   "id": "727fef23c31f8f77",
   "execution_count": 6
  },
  {
   "cell_type": "code",
   "outputs": [
    {
     "name": "stdout",
     "output_type": "stream",
     "text": [
      "Jedna prigodna za danasnje vrijeme otkaza i teskog nalazenja posla: {'neg': 0.0, 'neu': 1.0, 'pos': 0.0, 'compound': 0.0}\n",
      "Istina: {'neg': 0.0, 'neu': 1.0, 'pos': 0.0, 'compound': 0.0}\n",
      "Najkraći razgovor za posao ikad: {'neg': 0.0, 'neu': 1.0, 'pos': 0.0, 'compound': 0.0}\n",
      "Popis firmi koje su davale otkaz 2023: {'neg': 0.0, 'neu': 1.0, 'pos': 0.0, 'compound': 0.0}\n",
      "IT stručnjak iz Osijeka napisao knjigu o Linuxu na 1200 stranica i poklanja ju svima: {'neg': 0.0, 'neu': 1.0, 'pos': 0.0, 'compound': 0.0}\n",
      "Infobip - Novi prodavači magle?: {'neg': 0.0, 'neu': 1.0, 'pos': 0.0, 'compound': 0.0}\n",
      "Microsoft Teams me provocira: {'neg': 0.0, 'neu': 1.0, 'pos': 0.0, 'compound': 0.0}\n",
      "Ajmo pomoći juniorima: {'neg': 0.0, 'neu': 1.0, 'pos': 0.0, 'compound': 0.0}\n",
      "živa istina: {'neg': 0.0, 'neu': 1.0, 'pos': 0.0, 'compound': 0.0}\n",
      "Preoštri komentari: {'neg': 0.0, 'neu': 1.0, 'pos': 0.0, 'compound': 0.0}\n"
     ]
    }
   ],
   "source": [
    "analyzer = SentimentIntensityAnalyzer()\n",
    "\n",
    "for post in subreddit.top(limit=10):\n",
    "    sentiment = analyzer.polarity_scores(post.title)\n",
    "    print(f\"{post.title}: {sentiment}\")\n"
   ],
   "metadata": {
    "collapsed": false,
    "ExecuteTime": {
     "end_time": "2024-01-29T11:54:23.674907600Z",
     "start_time": "2024-01-29T11:54:22.330000200Z"
    }
   },
   "id": "eb5030dd4a9a7955",
   "execution_count": 11
  },
  {
   "cell_type": "code",
   "outputs": [],
   "source": [],
   "metadata": {
    "collapsed": false,
    "ExecuteTime": {
     "end_time": "2024-01-29T12:03:21.651609200Z",
     "start_time": "2024-01-29T12:03:21.598904200Z"
    }
   },
   "id": "673c5bc2512e753d",
   "execution_count": 11
  },
  {
   "cell_type": "code",
   "outputs": [],
   "source": [],
   "metadata": {
    "collapsed": false,
    "ExecuteTime": {
     "end_time": "2024-01-29T12:03:24.073916300Z",
     "start_time": "2024-01-29T12:03:24.024768800Z"
    }
   },
   "id": "98761eb7edd1d1d4",
   "execution_count": 11
  },
  {
   "cell_type": "code",
   "outputs": [],
   "source": [],
   "metadata": {
    "collapsed": false,
    "ExecuteTime": {
     "end_time": "2024-01-29T12:03:15.672729900Z",
     "start_time": "2024-01-29T12:03:15.630855Z"
    }
   },
   "id": "f89423866f09965e",
   "execution_count": 11
  },
  {
   "cell_type": "code",
   "outputs": [],
   "source": [],
   "metadata": {
    "collapsed": false
   },
   "id": "c1f259bfc65717e0"
  }
 ],
 "metadata": {
  "kernelspec": {
   "display_name": "Python 3",
   "language": "python",
   "name": "python3"
  },
  "language_info": {
   "codemirror_mode": {
    "name": "ipython",
    "version": 2
   },
   "file_extension": ".py",
   "mimetype": "text/x-python",
   "name": "python",
   "nbconvert_exporter": "python",
   "pygments_lexer": "ipython2",
   "version": "2.7.6"
  }
 },
 "nbformat": 4,
 "nbformat_minor": 5
}
