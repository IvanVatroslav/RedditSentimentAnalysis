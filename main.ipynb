{
 "cells": [
  {
   "cell_type": "code",
   "execution_count": 1,
   "id": "initial_id",
   "metadata": {
    "collapsed": true,
    "ExecuteTime": {
     "end_time": "2024-02-01T22:32:02.028153600Z",
     "start_time": "2024-02-01T22:32:01.150505800Z"
    }
   },
   "outputs": [],
   "source": [
    "from selenium.webdriver.common.by import By\n",
    "from selenium.webdriver.support.ui import WebDriverWait\n",
    "from selenium.webdriver.support import expected_conditions as EC\n",
    "from selenium.common.exceptions import NoSuchElementException\n",
    "import pandas as pd\n",
    "import re\n",
    "import sys\n",
    "sys.path.append('googlereviewscraper')\n",
    "# Assuming you've defined DriverInit and ReviewScraper in .py files in the same directory as your notebook\n",
    "from googlereviewscraper.driver_init import DriverInit\n",
    "from googlereviewscraper.review_scraper import ReviewScraper\n"
   ]
  },
  {
   "cell_type": "code",
   "outputs": [],
   "source": [
    "url = 'https://www.google.com/search?rlz=1C1GCEA_enHR1085HR1085&q=Casablanca%20Reviews&rflfq=1&num=20&stick=H4sIAAAAAAAAAONgkxI2sTQzMjUzsDC2NDUzMTMzN7W03MDI-IpRyDmxODEpJzEvOVEhKLUsM7W8eBErFkEAULFNy0QAAAA&rldimm=4962560839564667599&tbm=lcl&hl=en&sa=X&ved=0CAYQ5foLahcKEwiAzYbJzIKEAxUAAAAAHQAAAAAQCg&biw=1536&bih=729&dpr=1.25#lkt=LocalPoiReviews&arid=ChZDSUhNMG9nS0VJQ0FnSURSNWJlRUhnEAE'"
   ],
   "metadata": {
    "collapsed": false,
    "ExecuteTime": {
     "end_time": "2024-02-01T22:32:02.029151400Z",
     "start_time": "2024-02-01T22:32:02.018181Z"
    }
   },
   "id": "badf223f19cdd4b",
   "execution_count": 2
  },
  {
   "cell_type": "code",
   "outputs": [
    {
     "ename": "NameError",
     "evalue": "name 'driver_init' is not defined",
     "output_type": "error",
     "traceback": [
      "\u001B[1;31m---------------------------------------------------------------------------\u001B[0m",
      "\u001B[1;31mNameError\u001B[0m                                 Traceback (most recent call last)",
      "Cell \u001B[1;32mIn[3], line 1\u001B[0m\n\u001B[1;32m----> 1\u001B[0m \u001B[43mdriver_init\u001B[49m\u001B[38;5;241m.\u001B[39mclose_browser()\n",
      "\u001B[1;31mNameError\u001B[0m: name 'driver_init' is not defined"
     ]
    }
   ],
   "source": [
    "driver_init.close_browser()"
   ],
   "metadata": {
    "collapsed": false,
    "ExecuteTime": {
     "end_time": "2024-02-01T22:32:02.702351400Z",
     "start_time": "2024-02-01T22:32:02.038126900Z"
    }
   },
   "id": "9e445898ed6928ed",
   "execution_count": 3
  },
  {
   "cell_type": "code",
   "outputs": [],
   "source": [
    "driver_init = DriverInit()\n",
    "driver_init.navigate_to_url(url)"
   ],
   "metadata": {
    "collapsed": false,
    "ExecuteTime": {
     "end_time": "2024-02-01T22:32:16.422533Z",
     "start_time": "2024-02-01T22:32:13.019772600Z"
    }
   },
   "id": "cfc0026ba3c9dff0",
   "execution_count": 4
  },
  {
   "cell_type": "code",
   "outputs": [],
   "source": [],
   "metadata": {
    "collapsed": false,
    "ExecuteTime": {
     "end_time": "2024-02-01T22:32:18.148920500Z",
     "start_time": "2024-02-01T22:32:18.124994400Z"
    }
   },
   "id": "29b190428e7a1677",
   "execution_count": 4
  },
  {
   "cell_type": "code",
   "outputs": [],
   "source": [
    "driver_init.navigate_to_reviews_tab()"
   ],
   "metadata": {
    "collapsed": false,
    "ExecuteTime": {
     "end_time": "2024-02-01T22:32:20.695292200Z",
     "start_time": "2024-02-01T22:32:19.992986700Z"
    }
   },
   "id": "6598a1317ee2ce9a",
   "execution_count": 5
  },
  {
   "cell_type": "code",
   "outputs": [],
   "source": [
    "review_scraper = ReviewScraper(driver_init)"
   ],
   "metadata": {
    "collapsed": false,
    "ExecuteTime": {
     "end_time": "2024-02-01T22:32:21.663973200Z",
     "start_time": "2024-02-01T22:32:21.633057200Z"
    }
   },
   "id": "de7cf350d63d7552",
   "execution_count": 6
  },
  {
   "cell_type": "code",
   "outputs": [
    {
     "ename": "TimeoutException",
     "evalue": "Message: \n",
     "output_type": "error",
     "traceback": [
      "\u001B[1;31m---------------------------------------------------------------------------\u001B[0m",
      "\u001B[1;31mTimeoutException\u001B[0m                          Traceback (most recent call last)",
      "Cell \u001B[1;32mIn[7], line 1\u001B[0m\n\u001B[1;32m----> 1\u001B[0m \u001B[43mreview_scraper\u001B[49m\u001B[38;5;241;43m.\u001B[39;49m\u001B[43mload_reviews\u001B[49m\u001B[43m(\u001B[49m\u001B[43m)\u001B[49m\n",
      "File \u001B[1;32m~\\DataspellProjects\\RedditSentimentAnalysis\\googlereviewscraper\\review_scraper.py:40\u001B[0m, in \u001B[0;36mReviewScraper.load_reviews\u001B[1;34m(self)\u001B[0m\n\u001B[0;32m     37\u001B[0m \u001B[38;5;28mself\u001B[39m\u001B[38;5;241m.\u001B[39mreturn_to_first_review()\n\u001B[0;32m     39\u001B[0m \u001B[38;5;28;01mwhile\u001B[39;00m \u001B[38;5;28;01mTrue\u001B[39;00m:\n\u001B[1;32m---> 40\u001B[0m     \u001B[38;5;28;43mself\u001B[39;49m\u001B[38;5;241;43m.\u001B[39;49m\u001B[43mshort_wait\u001B[49m\u001B[38;5;241;43m.\u001B[39;49m\u001B[43muntil\u001B[49m\u001B[43m(\u001B[49m\n\u001B[0;32m     41\u001B[0m \u001B[43m        \u001B[49m\u001B[38;5;28;43;01mlambda\u001B[39;49;00m\u001B[43m \u001B[49m\u001B[43mdriver\u001B[49m\u001B[43m:\u001B[49m\u001B[43m \u001B[49m\u001B[38;5;28;43mself\u001B[39;49m\u001B[38;5;241;43m.\u001B[39;49m\u001B[43mdriver\u001B[49m\u001B[38;5;241;43m.\u001B[39;49m\u001B[43mfind_elements\u001B[49m\u001B[43m(\u001B[49m\u001B[43mBy\u001B[49m\u001B[38;5;241;43m.\u001B[39;49m\u001B[43mXPATH\u001B[49m\u001B[43m,\u001B[49m\u001B[43m \u001B[49m\u001B[38;5;28;43mself\u001B[39;49m\u001B[38;5;241;43m.\u001B[39;49m\u001B[43mREVIEW_ELEMENTS_XPATH\u001B[49m\u001B[43m)\u001B[49m\u001B[43m)\u001B[49m\n\u001B[0;32m     43\u001B[0m     review_elements \u001B[38;5;241m=\u001B[39m \u001B[38;5;28mself\u001B[39m\u001B[38;5;241m.\u001B[39mdriver\u001B[38;5;241m.\u001B[39mfind_elements(By\u001B[38;5;241m.\u001B[39mXPATH, \u001B[38;5;28mself\u001B[39m\u001B[38;5;241m.\u001B[39mREVIEW_ELEMENTS_XPATH)\n\u001B[0;32m     45\u001B[0m     \u001B[38;5;28;01mif\u001B[39;00m \u001B[38;5;129;01mnot\u001B[39;00m review_elements:\n",
      "File \u001B[1;32m~\\DataspellProjects\\RedditSentimentAnalysis\\venv\\lib\\site-packages\\selenium\\webdriver\\support\\wait.py:105\u001B[0m, in \u001B[0;36mWebDriverWait.until\u001B[1;34m(self, method, message)\u001B[0m\n\u001B[0;32m    103\u001B[0m     \u001B[38;5;28;01mif\u001B[39;00m time\u001B[38;5;241m.\u001B[39mmonotonic() \u001B[38;5;241m>\u001B[39m end_time:\n\u001B[0;32m    104\u001B[0m         \u001B[38;5;28;01mbreak\u001B[39;00m\n\u001B[1;32m--> 105\u001B[0m \u001B[38;5;28;01mraise\u001B[39;00m TimeoutException(message, screen, stacktrace)\n",
      "\u001B[1;31mTimeoutException\u001B[0m: Message: \n"
     ]
    }
   ],
   "source": [
    "review_scraper.load_reviews()"
   ],
   "metadata": {
    "collapsed": false,
    "ExecuteTime": {
     "end_time": "2024-02-01T22:32:28.947502200Z",
     "start_time": "2024-02-01T22:32:23.608775300Z"
    }
   },
   "id": "9bd4c45d8bc71801",
   "execution_count": 7
  },
  {
   "cell_type": "code",
   "outputs": [],
   "source": [],
   "metadata": {
    "collapsed": false,
    "ExecuteTime": {
     "start_time": "2024-02-01T22:30:48.632237500Z"
    }
   },
   "id": "a044d6bec9476f40"
  }
 ],
 "metadata": {
  "kernelspec": {
   "display_name": "Python 3",
   "language": "python",
   "name": "python3"
  },
  "language_info": {
   "codemirror_mode": {
    "name": "ipython",
    "version": 2
   },
   "file_extension": ".py",
   "mimetype": "text/x-python",
   "name": "python",
   "nbconvert_exporter": "python",
   "pygments_lexer": "ipython2",
   "version": "2.7.6"
  }
 },
 "nbformat": 4,
 "nbformat_minor": 5
}
