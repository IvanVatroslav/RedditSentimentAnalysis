{
 "cells": [
  {
   "cell_type": "code",
   "execution_count": 1,
   "id": "initial_id",
   "metadata": {
    "collapsed": true,
    "ExecuteTime": {
     "end_time": "2024-02-01T19:13:52.226508200Z",
     "start_time": "2024-02-01T19:13:50.140637400Z"
    }
   },
   "outputs": [],
   "source": [
    "from selenium import webdriver\n",
    "from selenium.webdriver.common.by import By\n",
    "from selenium.webdriver.support.ui import WebDriverWait\n",
    "from selenium.webdriver.support import expected_conditions as EC\n",
    "import time\n",
    "from selenium.common import NoSuchElementException\n",
    "from selenium.common import TimeoutException\n",
    "import numpy as np\n",
    "from selenium.webdriver import ActionChains\n",
    "import pandas as pd\n",
    "import re"
   ]
  },
  {
   "cell_type": "code",
   "outputs": [],
   "source": [
    "def start_driver(url):\n",
    "    driver = webdriver.Chrome()\n",
    "    wait = WebDriverWait(driver, 10)\n",
    "    short_wait = WebDriverWait(driver, 5, poll_frequency=0.5)  # Shorter wait for the final check\n",
    "    \n",
    "    driver.get(url)\n",
    "    \n",
    "    AcceptCookies = wait.until(EC.element_to_be_clickable((By.XPATH, \"//button[contains(., 'Accept all')]\")))\n",
    "    AcceptCookies.click()\n",
    "    driver.maximize_window()"
   ],
   "metadata": {
    "collapsed": false,
    "ExecuteTime": {
     "end_time": "2024-02-01T19:14:56.171669400Z",
     "start_time": "2024-02-01T19:14:56.156714900Z"
    }
   },
   "id": "bd2b3004aade7014",
   "execution_count": 2
  },
  {
   "cell_type": "code",
   "outputs": [],
   "source": [
    "url = 'https://www.google.com/search?rlz=1C1GCEA_enHR1085HR1085&q=Casablanca%20Reviews&rflfq=1&num=20&stick=H4sIAAAAAAAAAONgkxI2sTQzMjUzsDC2NDUzMTMzN7W03MDI-IpRyDmxODEpJzEvOVEhKLUsM7W8eBErFkEAULFNy0QAAAA&rldimm=4962560839564667599&tbm=lcl&hl=en&sa=X&ved=0CAYQ5foLahcKEwiAzYbJzIKEAxUAAAAAHQAAAAAQCg&biw=1536&bih=729&dpr=1.25#lkt=LocalPoiReviews&arid=ChZDSUhNMG9nS0VJQ0FnSURSNWJlRUhnEAE'"
   ],
   "metadata": {
    "collapsed": false,
    "ExecuteTime": {
     "end_time": "2024-02-01T19:15:11.489249500Z",
     "start_time": "2024-02-01T19:15:11.460326700Z"
    }
   },
   "id": "babb57d097114e91",
   "execution_count": 3
  },
  {
   "cell_type": "code",
   "outputs": [],
   "source": [
    "start_driver(url)"
   ],
   "metadata": {
    "collapsed": false
   },
   "id": "623aa584df8f73c1"
  },
  {
   "cell_type": "code",
   "outputs": [],
   "source": [
    "def navigate_to_reviews_tab():\n",
    "    ReviewsTab = wait.until(EC.element_to_be_clickable(\n",
    "    (By.XPATH, \"//div[contains(@class, 'SVWlSe') and contains(@class, 't35a5d')]//span[text()='Reviews']\")))\n",
    "    ReviewsTab.click()"
   ],
   "metadata": {
    "collapsed": false
   },
   "id": "fc1ac7677063e30a"
  },
  {
   "cell_type": "code",
   "outputs": [],
   "source": [],
   "metadata": {
    "collapsed": false
   },
   "id": "4790cf7205fcb609"
  }
 ],
 "metadata": {
  "kernelspec": {
   "display_name": "Python 3",
   "language": "python",
   "name": "python3"
  },
  "language_info": {
   "codemirror_mode": {
    "name": "ipython",
    "version": 2
   },
   "file_extension": ".py",
   "mimetype": "text/x-python",
   "name": "python",
   "nbconvert_exporter": "python",
   "pygments_lexer": "ipython2",
   "version": "2.7.6"
  }
 },
 "nbformat": 4,
 "nbformat_minor": 5
}
