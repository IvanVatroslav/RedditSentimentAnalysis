{
 "cells": [
  {
   "cell_type": "code",
   "execution_count": 176,
   "id": "initial_id",
   "metadata": {
    "collapsed": true,
    "ExecuteTime": {
     "end_time": "2024-02-01T17:35:56.196230600Z",
     "start_time": "2024-02-01T17:35:56.174288400Z"
    }
   },
   "outputs": [],
   "source": [
    "from selenium import webdriver\n",
    "from selenium.webdriver.common.by import By\n",
    "from selenium.webdriver.support.ui import WebDriverWait\n",
    "from selenium.webdriver.support import expected_conditions as EC\n",
    "import time\n",
    "from selenium.common import NoSuchElementException\n",
    "from selenium.common import TimeoutException\n",
    "import numpy as np\n",
    "from selenium.webdriver import ActionChains\n",
    "import pandas as pd\n",
    "import re"
   ]
  },
  {
   "cell_type": "code",
   "outputs": [],
   "source": [
    "url = 'https://www.google.com/search?rlz=1C1GCEA_enHR1085HR1085&q=Casablanca%20Reviews&rflfq=1&num=20&stick=H4sIAAAAAAAAAONgkxI2sTQzMjUzsDC2NDUzMTMzN7W03MDI-IpRyDmxODEpJzEvOVEhKLUsM7W8eBErFkEAULFNy0QAAAA&rldimm=4962560839564667599&tbm=lcl&hl=en&sa=X&ved=0CAYQ5foLahcKEwiAzYbJzIKEAxUAAAAAHQAAAAAQCg&biw=1536&bih=729&dpr=1.25#lkt=LocalPoiReviews&arid=ChZDSUhNMG9nS0VJQ0FnSURSNWJlRUhnEAE'"
   ],
   "metadata": {
    "collapsed": false,
    "ExecuteTime": {
     "end_time": "2024-02-01T17:35:56.590187300Z",
     "start_time": "2024-02-01T17:35:56.570231Z"
    }
   },
   "id": "de5ac36b4c8fdcbc",
   "execution_count": 177
  },
  {
   "cell_type": "code",
   "outputs": [],
   "source": [
    "driver.quit()\n"
   ],
   "metadata": {
    "collapsed": false,
    "ExecuteTime": {
     "end_time": "2024-02-01T17:35:54.706184900Z",
     "start_time": "2024-02-01T17:35:52.174716100Z"
    }
   },
   "id": "a0ed085d6aacb9ca",
   "execution_count": 175
  },
  {
   "cell_type": "code",
   "outputs": [],
   "source": [
    "driver = webdriver.Chrome()\n",
    "wait = WebDriverWait(driver, 10)\n",
    "short_wait = WebDriverWait(driver, 5, poll_frequency=0.5)  # Shorter wait for the final check\n",
    "\n",
    "driver.get(url)\n",
    "\n",
    "AcceptCookies = wait.until(EC.element_to_be_clickable((By.XPATH, \"//button[contains(., 'Accept all')]\")))\n",
    "AcceptCookies.click()\n",
    "driver.maximize_window()"
   ],
   "metadata": {
    "collapsed": false,
    "ExecuteTime": {
     "end_time": "2024-02-01T17:36:06.403312Z",
     "start_time": "2024-02-01T17:35:58.732451100Z"
    }
   },
   "id": "961fc9816f15ada",
   "execution_count": 178
  },
  {
   "cell_type": "code",
   "outputs": [],
   "source": [
    "ReviewsTab = wait.until(EC.element_to_be_clickable(\n",
    "    (By.XPATH, \"//div[contains(@class, 'SVWlSe') and contains(@class, 't35a5d')]//span[text()='Reviews']\")))\n",
    "ReviewsTab.click()"
   ],
   "metadata": {
    "collapsed": false,
    "ExecuteTime": {
     "end_time": "2024-02-01T17:36:16.421419400Z",
     "start_time": "2024-02-01T17:36:16.248882500Z"
    }
   },
   "id": "ba1a346bf6dc84a8",
   "execution_count": 179
  },
  {
   "cell_type": "code",
   "outputs": [],
   "source": [],
   "metadata": {
    "collapsed": false,
    "ExecuteTime": {
     "end_time": "2024-02-01T13:23:37.306357600Z",
     "start_time": "2024-02-01T13:23:37.257453700Z"
    }
   },
   "id": "fcf3bd714a7f32f1",
   "execution_count": 34
  },
  {
   "cell_type": "code",
   "outputs": [],
   "source": [
    "%%sql\n"
   ],
   "metadata": {
    "collapsed": false,
    "SqlCellData": {
     "variableName$1": "df_sql"
    },
    "ExecuteTime": {
     "start_time": "2024-01-29T21:34:46.570529200Z"
    }
   },
   "id": "558ce0f34e3a3e09"
  },
  {
   "cell_type": "code",
   "outputs": [
    {
     "name": "stdout",
     "output_type": "stream",
     "text": [
      "278 reviews found.\n"
     ]
    }
   ],
   "source": [
    "# Initialize a variable to store the text of the last review from the previous iteration\n",
    "previous_last_review_text = None\n",
    "return_to_first_review()\n",
    "\n",
    "while True:\n",
    "    short_wait.until(EC.invisibility_of_element_located(loading_text))\n",
    "\n",
    "    review_elements = driver.find_elements(By.XPATH, \"//*[@data-hveid='2']/following-sibling::*//div[@class='OA1nbd']\")\n",
    "\n",
    "    if not review_elements:\n",
    "        break  # Break if no reviews are found\n",
    "\n",
    "    # Get the text of the last review element\n",
    "    current_last_review_text = review_elements[-1].text.strip()\n",
    "\n",
    "    # Check if the last review element is empty\n",
    "    if not current_last_review_text:\n",
    "        print(\"Empty review encountered.\")\n",
    "        break  # Break if the last review is empty\n",
    "    short_wait.until(EC.invisibility_of_element_located(loading_text))\n",
    "    last_element = review_elements[-1]\n",
    "    last_element.location_once_scrolled_into_view\n",
    "    #time.sleep(2)  # Waiting for potential loading of new reviews\n",
    "    #short_wait.until(EC.visibility_of_element_located(loading_text))\n",
    "    short_wait.until(EC.invisibility_of_element_located(loading_text))\n",
    "\n",
    "    # Check if the last non-empty review text is the same as in the previous iteration\n",
    "    if current_last_review_text == previous_last_review_text:\n",
    "        total_reviews_with_text = [elem for elem in review_elements if elem.text.strip()]\n",
    "        print(len(total_reviews_with_text), \"reviews found.\")\n",
    "        break  # Break the loop if we are seeing the same last non-empty review as before\n",
    "\n",
    "    previous_last_review_text = current_last_review_text  # Update the last review text for the next iteration\n"
   ],
   "metadata": {
    "collapsed": false,
    "ExecuteTime": {
     "end_time": "2024-02-01T17:36:50.410090300Z",
     "start_time": "2024-02-01T17:36:21.115870Z"
    }
   },
   "id": "d6f31527b75a061c",
   "execution_count": 180
  },
  {
   "cell_type": "code",
   "outputs": [],
   "source": [
    "short_wait=WebDriverWait(driver, 5, poll_frequency=0.5)"
   ],
   "metadata": {
    "collapsed": false,
    "ExecuteTime": {
     "end_time": "2024-02-01T17:36:52.472603500Z",
     "start_time": "2024-02-01T17:36:52.451634Z"
    }
   },
   "id": "9c9df5825d1d03c3",
   "execution_count": 181
  },
  {
   "cell_type": "code",
   "outputs": [
    {
     "data": {
      "text/plain": "278"
     },
     "execution_count": 194,
     "metadata": {},
     "output_type": "execute_result"
    }
   ],
   "source": [],
   "metadata": {
    "collapsed": false,
    "ExecuteTime": {
     "end_time": "2024-02-01T17:47:01.136804Z",
     "start_time": "2024-02-01T17:47:01.103892600Z"
    }
   },
   "id": "a97142ed6c90ec12",
   "execution_count": 194
  },
  {
   "cell_type": "code",
   "outputs": [],
   "source": [
    "def return_to_first_review():\n",
    "    first_review = driver.find_element(By.XPATH,\n",
    "                                       \"//div[@data-attrid='kc:/local:all reviews']//div[3]/div/div[1]//div[@class='OA1nbd']\")\n",
    "    first_review.location_once_scrolled_into_view\n",
    "    driver.execute_script(\"arguments[0].scrollIntoView();\", first_review)\n"
   ],
   "metadata": {
    "collapsed": false,
    "ExecuteTime": {
     "end_time": "2024-02-01T17:36:57.060452200Z",
     "start_time": "2024-02-01T17:36:57.041471500Z"
    }
   },
   "id": "e6f05305b74ddaa1",
   "execution_count": 183
  },
  {
   "cell_type": "code",
   "outputs": [],
   "source": [
    "return_to_first_review()"
   ],
   "metadata": {
    "collapsed": false,
    "ExecuteTime": {
     "end_time": "2024-02-01T17:36:58.521515900Z",
     "start_time": "2024-02-01T17:36:58.417791900Z"
    }
   },
   "id": "e53c5c44569e0e42",
   "execution_count": 184
  },
  {
   "cell_type": "code",
   "outputs": [],
   "source": [
    "# Fetch all review elements\n",
    "review_elements_xpath = \"//div[@data-attrid='kc:/local:all reviews']//div[3]/div/div//div[@class='OA1nbd']\"\n",
    "review_elements = driver.find_elements(By.XPATH, review_elements_xpath)\n",
    "\n",
    "# First pass: Click all 'Translate' buttons\n",
    "for i in range(1, len(review_elements) + 1):\n",
    "    translate_button_xpath = f\"//div[@data-attrid='kc:/local:all reviews']//div[3]/div/div[{i}]/div[3]//button[contains(@class, 'qGGAec') and .//span[contains(text(), 'Translated by Google')]]\"\n",
    "    translate_buttons = driver.find_elements(By.XPATH, translate_button_xpath)\n",
    "    if translate_buttons:\n",
    "        translate_buttons[0].click()\n",
    "        #time.sleep(1)  # Adjust timing as necessary"
   ],
   "metadata": {
    "collapsed": false,
    "ExecuteTime": {
     "end_time": "2024-02-01T17:37:33.901022Z",
     "start_time": "2024-02-01T17:36:59.510878Z"
    }
   },
   "id": "ccebc51438fddc4",
   "execution_count": 185
  },
  {
   "cell_type": "code",
   "outputs": [],
   "source": [
    "return_to_first_review()\n"
   ],
   "metadata": {
    "collapsed": false,
    "ExecuteTime": {
     "end_time": "2024-02-01T17:37:33.979813500Z",
     "start_time": "2024-02-01T17:37:33.903016800Z"
    }
   },
   "id": "f6e91c19bb0e406a",
   "execution_count": 186
  },
  {
   "cell_type": "code",
   "outputs": [],
   "source": [
    "# Second pass: Click all 'More' buttons\n",
    "for i in range(1, len(review_elements) + 1):\n",
    "    more_button_xpath = f\"//div[@data-attrid='kc:/local:all reviews']//div[3]/div/div[{i}]//div[@class='OA1nbd']//a[@role='button' and contains(text(), 'More')]\"\n",
    "    more_buttons = driver.find_elements(By.XPATH, more_button_xpath)\n",
    "    if more_buttons and more_buttons[0].is_displayed():\n",
    "        driver.execute_script(\"arguments[0].scrollIntoView();\", more_buttons[0])\n",
    "        try:\n",
    "            more_buttons[0].click()\n",
    "        except Exception as e:\n",
    "            print(f\"Skipping a non-interactable 'More' button at index {i}: {e}\")\n"
   ],
   "metadata": {
    "collapsed": false,
    "ExecuteTime": {
     "end_time": "2024-02-01T17:37:58.494728800Z",
     "start_time": "2024-02-01T17:37:36.371420100Z"
    }
   },
   "id": "c1d375b32e0abc95",
   "execution_count": 187
  },
  {
   "cell_type": "code",
   "outputs": [],
   "source": [
    "def extract_rating(aria_label):\n",
    "    match = re.search(r\"Rated (\\d+(\\.\\d+)?) out of 5\", aria_label)\n",
    "    return float(match.group(1)) if match else None"
   ],
   "metadata": {
    "collapsed": false,
    "ExecuteTime": {
     "end_time": "2024-02-01T17:38:00.844477400Z",
     "start_time": "2024-02-01T17:38:00.823503400Z"
    }
   },
   "id": "ed4debb74c2b90cc",
   "execution_count": 188
  },
  {
   "cell_type": "code",
   "outputs": [],
   "source": [],
   "metadata": {
    "collapsed": false,
    "ExecuteTime": {
     "end_time": "2024-01-31T12:59:52.539330100Z",
     "start_time": "2024-01-31T12:59:52.449118100Z"
    }
   },
   "id": "3a19705fb75312e2",
   "execution_count": 156
  },
  {
   "cell_type": "code",
   "outputs": [
    {
     "name": "stdout",
     "output_type": "stream",
     "text": [
      "No more reviews found.\n",
      "No more reviews found.\n",
      "No more reviews found.\n",
      "No more reviews found.\n",
      "No more reviews found.\n",
      "No more reviews found.\n",
      "No more reviews found.\n",
      "No more reviews found.\n",
      "No more reviews found.\n",
      "No more reviews found.\n",
      "                                              Review  Rating\n",
      "0  Great restaurant with a classic Croatian touch...     5.0\n",
      "1  Hospitable, welcoming, good food, great value ...     5.0\n",
      "2  Reasonable price.!\\nNice ambiance\\n\\nOrdered P...     5.0\n",
      "3                  Taste okay. Very clean restaurant     4.0\n",
      "4  It was a perfectly well catered wedding, lots ...     5.0\n"
     ]
    }
   ],
   "source": [
    "reviews_df = pd.DataFrame(columns=['Review', 'Rating'])\n",
    "reviews_df.reset_index(drop=True, inplace=True)\n",
    "return_to_first_review()\n",
    "i = 1\n",
    "count_non_empty_reviews = 0\n",
    "\n",
    "while count_non_empty_reviews <= len(total_reviews_with_text):\n",
    "    try:\n",
    "        review_xpath = f\"//div[@data-attrid='kc:/local:all reviews']//div[3]/div/div[{i}]//div[@class='OA1nbd']\"\n",
    "        rating_xpath = f\"//div[@data-attrid='kc:/local:all reviews']//div[3]/div/div[{i}]//div[contains(@aria-label, 'Rated') and contains(@role, 'img')]\"\n",
    "\n",
    "        review_element = driver.find_element(By.XPATH, review_xpath)\n",
    "        rating_element = driver.find_element(By.XPATH, rating_xpath)\n",
    "\n",
    "        review_text = review_element.text.strip()\n",
    "        if review_text:\n",
    "            review_rating = extract_rating(rating_element.get_attribute('aria-label'))\n",
    "            reviews_df.loc[len(reviews_df)] = [review_text, review_rating]\n",
    "            count_non_empty_reviews += 1\n",
    "\n",
    "    except NoSuchElementException:\n",
    "        print(\"No more reviews found.\")\n",
    "\n",
    "    i += 1\n",
    "\n",
    "print(reviews_df.head())\n",
    "\n",
    "reviews_df.to_csv('reviews_and_ratings.csv', index=False)"
   ],
   "metadata": {
    "collapsed": false,
    "ExecuteTime": {
     "end_time": "2024-02-01T18:31:21.451137Z",
     "start_time": "2024-02-01T18:30:33.971811400Z"
    }
   },
   "id": "e854f8279b2f384a",
   "execution_count": 201
  },
  {
   "cell_type": "code",
   "outputs": [
    {
     "name": "stdout",
     "output_type": "stream",
     "text": [
      "Size of DataFrame: (279, 2)\n",
      "Last element in the DataFrame:\n",
      "      Review  Rating\n",
      "278  Odlicno     5.0\n"
     ]
    }
   ],
   "source": [
    "# After scraping is done, display the size of the DataFrame and the last element\n",
    "print(f\"Size of DataFrame: {reviews_df.shape}\")\n",
    "print(\"Last element in the DataFrame:\")\n",
    "print(reviews_df.tail(1))"
   ],
   "metadata": {
    "collapsed": false,
    "ExecuteTime": {
     "end_time": "2024-02-01T19:06:16.455856300Z",
     "start_time": "2024-02-01T19:06:16.454858100Z"
    }
   },
   "id": "9e102aa7cd6dee28",
   "execution_count": 202
  },
  {
   "cell_type": "code",
   "outputs": [
    {
     "name": "stdout",
     "output_type": "stream",
     "text": [
      "Review    Great restaurant with a classic Croatian touch...\n",
      "Rating                                                  5.0\n",
      "Name: 0, dtype: object\n"
     ]
    }
   ],
   "source": [
    "# Printing the first element of the DataFrame\n",
    "print(reviews_df.iloc[0])\n"
   ],
   "metadata": {
    "collapsed": false,
    "ExecuteTime": {
     "end_time": "2024-02-01T19:07:06.041098900Z",
     "start_time": "2024-02-01T19:07:05.970288400Z"
    }
   },
   "id": "94ed85c24b48ec73",
   "execution_count": 203
  },
  {
   "cell_type": "code",
   "outputs": [],
   "source": [],
   "metadata": {
    "collapsed": false
   },
   "id": "b5052edefb96e6de"
  }
 ],
 "metadata": {
  "kernelspec": {
   "display_name": "Python 3",
   "language": "python",
   "name": "python3"
  },
  "language_info": {
   "codemirror_mode": {
    "name": "ipython",
    "version": 2
   },
   "file_extension": ".py",
   "mimetype": "text/x-python",
   "name": "python",
   "nbconvert_exporter": "python",
   "pygments_lexer": "ipython2",
   "version": "2.7.6"
  }
 },
 "nbformat": 4,
 "nbformat_minor": 5
}
