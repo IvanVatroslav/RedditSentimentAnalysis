{
 "cells": [
  {
   "cell_type": "code",
   "execution_count": 5,
   "id": "initial_id",
   "metadata": {
    "collapsed": true,
    "ExecuteTime": {
     "end_time": "2024-02-05T15:00:44.281640800Z",
     "start_time": "2024-02-05T15:00:10.896110200Z"
    }
   },
   "outputs": [],
   "source": [
    "\n",
    "#from src.scraping.googlescraping import DriverInit, ReviewScraper\n",
    "from src.cleaning import ReviewCleaner\n",
    "from src.translation import ReviewTranslatorToCroatian\n"
   ]
  },
  {
   "cell_type": "code",
   "outputs": [],
   "source": [
    "driver_init.close_browser()"
   ],
   "metadata": {
    "collapsed": false,
    "ExecuteTime": {
     "end_time": "2024-02-02T09:54:50.686852800Z",
     "start_time": "2024-02-02T09:54:50.676730400Z"
    }
   },
   "id": "9e445898ed6928ed",
   "execution_count": null
  },
  {
   "cell_type": "code",
   "outputs": [],
   "source": [
    "url = 'https://www.google.com/search?rlz=1C1GCEA_enHR1085HR1085&q=Casablanca%20Reviews&rflfq=1&num=20&stick=H4sIAAAAAAAAAONgkxI2sTQzMjUzsDC2NDUzMTMzN7W03MDI-IpRyDmxODEpJzEvOVEhKLUsM7W8eBErFkEAULFNy0QAAAA&rldimm=4962560839564667599&tbm=lcl&hl=en&sa=X&ved=0CAYQ5foLahcKEwiAzYbJzIKEAxUAAAAAHQAAAAAQCg&biw=1536&bih=729&dpr=1.25#lkt=LocalPoiReviews&arid=ChZDSUhNMG9nS0VJQ0FnSURSNWJlRUhnEAE'"
   ],
   "metadata": {
    "collapsed": false,
    "ExecuteTime": {
     "end_time": "2024-02-05T14:39:48.483903500Z",
     "start_time": "2024-02-05T14:39:48.444666100Z"
    }
   },
   "id": "badf223f19cdd4b",
   "execution_count": 2
  },
  {
   "cell_type": "code",
   "outputs": [],
   "source": [
    "driver_init = DriverInit()\n",
    "driver_init.navigate_to_url(url) #improve review searching so its usable for more places"
   ],
   "metadata": {
    "collapsed": false,
    "ExecuteTime": {
     "end_time": "2024-02-05T14:39:57.092046400Z",
     "start_time": "2024-02-05T14:39:48.661477400Z"
    }
   },
   "id": "cfc0026ba3c9dff0",
   "execution_count": 3
  },
  {
   "cell_type": "markdown",
   "source": [],
   "metadata": {
    "collapsed": false
   },
   "id": "69db07e8b65274cf"
  },
  {
   "cell_type": "code",
   "outputs": [],
   "source": [],
   "metadata": {
    "collapsed": false,
    "ExecuteTime": {
     "end_time": "2024-02-02T09:55:28.936935Z",
     "start_time": "2024-02-02T09:55:28.899046200Z"
    }
   },
   "id": "29b190428e7a1677",
   "execution_count": 3
  },
  {
   "cell_type": "code",
   "outputs": [],
   "source": [],
   "metadata": {
    "collapsed": false
   },
   "id": "187a4818285116ac"
  },
  {
   "cell_type": "code",
   "outputs": [
    {
     "ename": "TimeoutException",
     "evalue": "Message: \nStacktrace:\n\tGetHandleVerifier [0x00007FF7AD1C5E42+3538674]\n\t(No symbol) [0x00007FF7ACDE4C02]\n\t(No symbol) [0x00007FF7ACC95AEB]\n\t(No symbol) [0x00007FF7ACCDBF4E]\n\t(No symbol) [0x00007FF7ACCDC0CC]\n\t(No symbol) [0x00007FF7ACD1E477]\n\t(No symbol) [0x00007FF7ACCFF0EF]\n\t(No symbol) [0x00007FF7ACD1BDE3]\n\t(No symbol) [0x00007FF7ACCFEE53]\n\t(No symbol) [0x00007FF7ACCCF514]\n\t(No symbol) [0x00007FF7ACCD0631]\n\tGetHandleVerifier [0x00007FF7AD1F6CAD+3738973]\n\tGetHandleVerifier [0x00007FF7AD24C506+4089270]\n\tGetHandleVerifier [0x00007FF7AD244823+4057299]\n\tGetHandleVerifier [0x00007FF7ACF15C49+720121]\n\t(No symbol) [0x00007FF7ACDF126F]\n\t(No symbol) [0x00007FF7ACDEC304]\n\t(No symbol) [0x00007FF7ACDEC432]\n\t(No symbol) [0x00007FF7ACDDBD04]\n\tBaseThreadInitThunk [0x00007FFD8BE7257D+29]\n\tRtlUserThreadStart [0x00007FFD8C12AA58+40]\n",
     "output_type": "error",
     "traceback": [
      "\u001B[1;31m---------------------------------------------------------------------------\u001B[0m",
      "\u001B[1;31mTimeoutException\u001B[0m                          Traceback (most recent call last)",
      "Cell \u001B[1;32mIn[4], line 1\u001B[0m\n\u001B[1;32m----> 1\u001B[0m \u001B[43mdriver_init\u001B[49m\u001B[38;5;241;43m.\u001B[39;49m\u001B[43mnavigate_to_reviews_tab\u001B[49m\u001B[43m(\u001B[49m\u001B[43m)\u001B[49m\n",
      "File \u001B[1;32m~\\DataspellProjects\\RedditSentimentAnalysis\\src\\scraping\\googlescraping\\driver_init.py:23\u001B[0m, in \u001B[0;36mDriverInit.navigate_to_reviews_tab\u001B[1;34m(self)\u001B[0m\n\u001B[0;32m     22\u001B[0m \u001B[38;5;28;01mdef\u001B[39;00m \u001B[38;5;21mnavigate_to_reviews_tab\u001B[39m(\u001B[38;5;28mself\u001B[39m):\n\u001B[1;32m---> 23\u001B[0m     reviews_tab \u001B[38;5;241m=\u001B[39m \u001B[38;5;28;43mself\u001B[39;49m\u001B[38;5;241;43m.\u001B[39;49m\u001B[43mwait\u001B[49m\u001B[38;5;241;43m.\u001B[39;49m\u001B[43muntil\u001B[49m\u001B[43m(\u001B[49m\u001B[43mEC\u001B[49m\u001B[38;5;241;43m.\u001B[39;49m\u001B[43melement_to_be_clickable\u001B[49m\u001B[43m(\u001B[49m\u001B[43m(\u001B[49m\u001B[43mBy\u001B[49m\u001B[38;5;241;43m.\u001B[39;49m\u001B[43mXPATH\u001B[49m\u001B[43m,\u001B[49m\u001B[43m \u001B[49m\u001B[38;5;28;43mself\u001B[39;49m\u001B[38;5;241;43m.\u001B[39;49m\u001B[43mREVIEWS_TAB_XPATH\u001B[49m\u001B[43m)\u001B[49m\u001B[43m)\u001B[49m\u001B[43m)\u001B[49m\n\u001B[0;32m     24\u001B[0m     reviews_tab\u001B[38;5;241m.\u001B[39mclick()\n",
      "File \u001B[1;32mC:\\ProgramData\\anaconda3\\envs\\RedditSentimentAnalysis\\lib\\site-packages\\selenium\\webdriver\\support\\wait.py:105\u001B[0m, in \u001B[0;36mWebDriverWait.until\u001B[1;34m(self, method, message)\u001B[0m\n\u001B[0;32m    103\u001B[0m     \u001B[38;5;28;01mif\u001B[39;00m time\u001B[38;5;241m.\u001B[39mmonotonic() \u001B[38;5;241m>\u001B[39m end_time:\n\u001B[0;32m    104\u001B[0m         \u001B[38;5;28;01mbreak\u001B[39;00m\n\u001B[1;32m--> 105\u001B[0m \u001B[38;5;28;01mraise\u001B[39;00m TimeoutException(message, screen, stacktrace)\n",
      "\u001B[1;31mTimeoutException\u001B[0m: Message: \nStacktrace:\n\tGetHandleVerifier [0x00007FF7AD1C5E42+3538674]\n\t(No symbol) [0x00007FF7ACDE4C02]\n\t(No symbol) [0x00007FF7ACC95AEB]\n\t(No symbol) [0x00007FF7ACCDBF4E]\n\t(No symbol) [0x00007FF7ACCDC0CC]\n\t(No symbol) [0x00007FF7ACD1E477]\n\t(No symbol) [0x00007FF7ACCFF0EF]\n\t(No symbol) [0x00007FF7ACD1BDE3]\n\t(No symbol) [0x00007FF7ACCFEE53]\n\t(No symbol) [0x00007FF7ACCCF514]\n\t(No symbol) [0x00007FF7ACCD0631]\n\tGetHandleVerifier [0x00007FF7AD1F6CAD+3738973]\n\tGetHandleVerifier [0x00007FF7AD24C506+4089270]\n\tGetHandleVerifier [0x00007FF7AD244823+4057299]\n\tGetHandleVerifier [0x00007FF7ACF15C49+720121]\n\t(No symbol) [0x00007FF7ACDF126F]\n\t(No symbol) [0x00007FF7ACDEC304]\n\t(No symbol) [0x00007FF7ACDEC432]\n\t(No symbol) [0x00007FF7ACDDBD04]\n\tBaseThreadInitThunk [0x00007FFD8BE7257D+29]\n\tRtlUserThreadStart [0x00007FFD8C12AA58+40]\n"
     ]
    }
   ],
   "source": [
    "driver_init.navigate_to_reviews_tab() #fix xpath"
   ],
   "metadata": {
    "collapsed": false,
    "ExecuteTime": {
     "end_time": "2024-02-05T14:10:58.194173200Z",
     "start_time": "2024-02-05T14:10:45.299988500Z"
    }
   },
   "id": "6598a1317ee2ce9a",
   "execution_count": 4
  },
  {
   "cell_type": "code",
   "outputs": [],
   "source": [
    "review_scraper = ReviewScraper(driver_init)"
   ],
   "metadata": {
    "collapsed": false,
    "ExecuteTime": {
     "end_time": "2024-02-05T14:40:59.405528900Z",
     "start_time": "2024-02-05T14:40:59.343769100Z"
    }
   },
   "id": "de7cf350d63d7552",
   "execution_count": 5
  },
  {
   "cell_type": "code",
   "outputs": [
    {
     "name": "stdout",
     "output_type": "stream",
     "text": [
      "278 reviews found.\n"
     ]
    }
   ],
   "source": [
    "review_scraper.load_reviews()"
   ],
   "metadata": {
    "collapsed": false,
    "ExecuteTime": {
     "end_time": "2024-02-05T14:41:29.761632100Z",
     "start_time": "2024-02-05T14:41:00.000004Z"
    }
   },
   "id": "9bd4c45d8bc71801",
   "execution_count": 6
  },
  {
   "cell_type": "code",
   "outputs": [],
   "source": [
    "review_scraper.click_translate_buttons()"
   ],
   "metadata": {
    "collapsed": false,
    "ExecuteTime": {
     "end_time": "2024-02-05T14:42:53.854822300Z",
     "start_time": "2024-02-05T14:41:37.037958100Z"
    }
   },
   "id": "a044d6bec9476f40",
   "execution_count": 7
  },
  {
   "cell_type": "code",
   "outputs": [],
   "source": [
    "review_scraper.click_more_buttons()"
   ],
   "metadata": {
    "collapsed": false,
    "ExecuteTime": {
     "end_time": "2024-02-05T14:43:49.651902300Z",
     "start_time": "2024-02-05T14:43:06.512382800Z"
    }
   },
   "id": "a1e0a2b2bcc40584",
   "execution_count": 8
  },
  {
   "cell_type": "code",
   "outputs": [
    {
     "name": "stdout",
     "output_type": "stream",
     "text": [
      "No more reviews found. Ending collection.\n",
      "No more reviews found. Ending collection.\n",
      "No more reviews found. Ending collection.\n",
      "No more reviews found. Ending collection.\n",
      "No more reviews found. Ending collection.\n",
      "No more reviews found. Ending collection.\n",
      "No more reviews found. Ending collection.\n",
      "No more reviews found. Ending collection.\n",
      "No more reviews found. Ending collection.\n",
      "No more reviews found. Ending collection.\n"
     ]
    }
   ],
   "source": [
    "review_scraper.collect_reviews()"
   ],
   "metadata": {
    "collapsed": false,
    "ExecuteTime": {
     "end_time": "2024-02-05T14:44:36.719966100Z",
     "start_time": "2024-02-05T14:43:57.347992700Z"
    }
   },
   "id": "29941941fb8a2908",
   "execution_count": 9
  },
  {
   "cell_type": "code",
   "outputs": [
    {
     "name": "stdout",
     "output_type": "stream",
     "text": [
      "Saved reviews to C:\\Users\\ivan.zeljeznjak\\DataspellProjects\\RedditSentimentAnalysis\\data\\raw\\reviews_and_ratings.csv\n"
     ]
    }
   ],
   "source": [
    "review_scraper.save_reviews_to_csv()"
   ],
   "metadata": {
    "collapsed": false,
    "ExecuteTime": {
     "end_time": "2024-02-05T14:44:42.366944100Z",
     "start_time": "2024-02-05T14:44:42.288105600Z"
    }
   },
   "id": "4d0cd8e66fe4ec",
   "execution_count": 10
  },
  {
   "cell_type": "code",
   "outputs": [],
   "source": [],
   "metadata": {
    "collapsed": false
   },
   "id": "fe285b1f77f1d4b9"
  },
  {
   "cell_type": "code",
   "outputs": [],
   "source": [
    "cleaner = ReviewCleaner()\n",
    "PATH ='C:/Users/ivan.zeljeznjak/DataspellProjects/RedditSentimentAnalysis/data/raw/reviews_and_ratings.csv'"
   ],
   "metadata": {
    "collapsed": false,
    "ExecuteTime": {
     "end_time": "2024-02-05T15:01:36.897158900Z",
     "start_time": "2024-02-05T15:01:36.846585100Z"
    }
   },
   "id": "5d3cdc9c479a7a8f",
   "execution_count": 10
  },
  {
   "cell_type": "code",
   "outputs": [
    {
     "data": {
      "text/plain": "'C:/Users/ivan.zeljeznjak/DataspellProjects/RedditSentimentAnalysis/data/raw/reviews_and_ratings_cleaned.csv'"
     },
     "execution_count": 11,
     "metadata": {},
     "output_type": "execute_result"
    }
   ],
   "source": [
    "# cleaner.clean_csv_file('data/raw/reviews_and_ratings_raw.csv')\n",
    "cleaner.clean_csv_file(PATH)"
   ],
   "metadata": {
    "collapsed": false,
    "ExecuteTime": {
     "end_time": "2024-02-05T15:01:38.076385500Z",
     "start_time": "2024-02-05T15:01:37.912859500Z"
    }
   },
   "id": "b5b5cbb446fc5925",
   "execution_count": 11
  },
  {
   "cell_type": "markdown",
   "source": [],
   "metadata": {
    "collapsed": false
   },
   "id": "81cde464b8552467"
  },
  {
   "cell_type": "code",
   "outputs": [],
   "source": [
    "translator = ReviewTranslatorToCroatian('C:/Users/ivan.zeljeznjak/DataspellProjects/RedditSentimentAnalysis/data/raw/reviews_and_ratings_cleaned.csv','C:/Users/ivan.zeljeznjak/DataspellProjects/RedditSentimentAnalysis/data/raw/reviews_and_ratings_translated.csv')"
   ],
   "metadata": {
    "collapsed": false,
    "ExecuteTime": {
     "end_time": "2024-02-05T15:02:46.362030100Z",
     "start_time": "2024-02-05T15:02:46.312593700Z"
    }
   },
   "id": "10b0f01a1e935992",
   "execution_count": 13
  },
  {
   "cell_type": "code",
   "outputs": [],
   "source": [
    "%%sql\n"
   ],
   "metadata": {
    "collapsed": false,
    "SqlCellData": {
     "variableName$1": "df_sql"
    }
   },
   "id": "e85c673bab50f72"
  },
  {
   "cell_type": "code",
   "outputs": [
    {
     "name": "stdout",
     "output_type": "stream",
     "text": [
      "Error during translation: 'NoneType' object has no attribute 'group'\n",
      "Error during translation: 'NoneType' object has no attribute 'group'\n",
      "Error during translation: 'NoneType' object has no attribute 'group'\n",
      "Error during translation: 'NoneType' object has no attribute 'group'\n",
      "Error during translation: 'NoneType' object has no attribute 'group'\n",
      "Error during translation: 'NoneType' object has no attribute 'group'\n",
      "Error during translation: 'NoneType' object has no attribute 'group'\n",
      "Error during translation: 'NoneType' object has no attribute 'group'\n",
      "Error during translation: 'NoneType' object has no attribute 'group'\n",
      "Error during translation: 'NoneType' object has no attribute 'group'\n",
      "Error during translation: 'NoneType' object has no attribute 'group'\n",
      "Error during translation: 'NoneType' object has no attribute 'group'\n",
      "Error during translation: 'NoneType' object has no attribute 'group'\n",
      "Error during translation: 'NoneType' object has no attribute 'group'\n",
      "Error during translation: 'NoneType' object has no attribute 'group'\n",
      "Error during translation: 'NoneType' object has no attribute 'group'\n",
      "Error during translation: 'NoneType' object has no attribute 'group'\n",
      "Error during translation: 'NoneType' object has no attribute 'group'\n",
      "Error during translation: 'NoneType' object has no attribute 'group'\n",
      "Error during translation: 'NoneType' object has no attribute 'group'\n",
      "Error during translation: 'NoneType' object has no attribute 'group'\n",
      "Error during translation: 'NoneType' object has no attribute 'group'\n",
      "Error during translation: 'NoneType' object has no attribute 'group'\n",
      "Error during translation: 'NoneType' object has no attribute 'group'\n",
      "Error during translation: 'NoneType' object has no attribute 'group'\n",
      "Error during translation: 'NoneType' object has no attribute 'group'\n",
      "Error during translation: 'NoneType' object has no attribute 'group'\n",
      "Error during translation: 'NoneType' object has no attribute 'group'\n",
      "Error during translation: 'NoneType' object has no attribute 'group'\n",
      "Error during translation: 'NoneType' object has no attribute 'group'\n",
      "Error during translation: 'NoneType' object has no attribute 'group'\n",
      "Error during translation: 'NoneType' object has no attribute 'group'\n",
      "Error during translation: 'NoneType' object has no attribute 'group'\n",
      "Error during translation: 'NoneType' object has no attribute 'group'\n",
      "Error during translation: 'NoneType' object has no attribute 'group'\n",
      "Error during translation: 'NoneType' object has no attribute 'group'\n",
      "Error during translation: 'NoneType' object has no attribute 'group'\n",
      "Error during translation: 'NoneType' object has no attribute 'group'\n",
      "Error during translation: 'NoneType' object has no attribute 'group'\n",
      "Error during translation: 'NoneType' object has no attribute 'group'\n",
      "Error during translation: 'NoneType' object has no attribute 'group'\n",
      "Error during translation: 'NoneType' object has no attribute 'group'\n",
      "Error during translation: 'NoneType' object has no attribute 'group'\n",
      "Error during translation: 'NoneType' object has no attribute 'group'\n",
      "Error during translation: 'NoneType' object has no attribute 'group'\n",
      "Error during translation: 'NoneType' object has no attribute 'group'\n",
      "Error during translation: 'NoneType' object has no attribute 'group'\n",
      "Error during translation: 'NoneType' object has no attribute 'group'\n",
      "Error during translation: 'NoneType' object has no attribute 'group'\n",
      "Error during translation: 'NoneType' object has no attribute 'group'\n",
      "Error during translation: 'NoneType' object has no attribute 'group'\n",
      "Error during translation: 'NoneType' object has no attribute 'group'\n",
      "Error during translation: 'NoneType' object has no attribute 'group'\n",
      "Error during translation: 'NoneType' object has no attribute 'group'\n",
      "Error during translation: 'NoneType' object has no attribute 'group'\n",
      "Error during translation: 'NoneType' object has no attribute 'group'\n",
      "Error during translation: 'NoneType' object has no attribute 'group'\n",
      "Error during translation: 'NoneType' object has no attribute 'group'\n",
      "Error during translation: 'NoneType' object has no attribute 'group'\n",
      "Error during translation: 'NoneType' object has no attribute 'group'\n",
      "Error during translation: 'NoneType' object has no attribute 'group'\n",
      "Error during translation: 'NoneType' object has no attribute 'group'\n",
      "Error during translation: 'NoneType' object has no attribute 'group'\n",
      "Error during translation: 'NoneType' object has no attribute 'group'\n",
      "Error during translation: 'NoneType' object has no attribute 'group'\n",
      "Error during translation: 'NoneType' object has no attribute 'group'\n",
      "Error during translation: 'NoneType' object has no attribute 'group'\n",
      "Error during translation: 'NoneType' object has no attribute 'group'\n",
      "Error during translation: 'NoneType' object has no attribute 'group'\n",
      "Error during translation: 'NoneType' object has no attribute 'group'\n",
      "Error during translation: 'NoneType' object has no attribute 'group'\n",
      "Error during translation: 'NoneType' object has no attribute 'group'\n",
      "Error during translation: 'NoneType' object has no attribute 'group'\n",
      "Error during translation: 'NoneType' object has no attribute 'group'\n",
      "Error during translation: 'NoneType' object has no attribute 'group'\n",
      "Error during translation: 'NoneType' object has no attribute 'group'\n",
      "Error during translation: 'NoneType' object has no attribute 'group'\n",
      "Error during translation: 'NoneType' object has no attribute 'group'\n",
      "Error during translation: 'NoneType' object has no attribute 'group'\n",
      "Error during translation: 'NoneType' object has no attribute 'group'\n",
      "Error during translation: 'NoneType' object has no attribute 'group'\n",
      "Error during translation: 'NoneType' object has no attribute 'group'\n",
      "Error during translation: 'NoneType' object has no attribute 'group'\n",
      "Error during translation: 'NoneType' object has no attribute 'group'\n",
      "Error during translation: 'NoneType' object has no attribute 'group'\n",
      "Error during translation: 'NoneType' object has no attribute 'group'\n",
      "Error during translation: 'NoneType' object has no attribute 'group'\n",
      "Error during translation: 'NoneType' object has no attribute 'group'\n",
      "Error during translation: 'NoneType' object has no attribute 'group'\n",
      "Error during translation: 'NoneType' object has no attribute 'group'\n",
      "Error during translation: 'NoneType' object has no attribute 'group'\n",
      "Error during translation: 'NoneType' object has no attribute 'group'\n",
      "Error during translation: 'NoneType' object has no attribute 'group'\n",
      "Error during translation: 'NoneType' object has no attribute 'group'\n",
      "Error during translation: 'NoneType' object has no attribute 'group'\n",
      "Error during translation: 'NoneType' object has no attribute 'group'\n",
      "Error during translation: 'NoneType' object has no attribute 'group'\n",
      "Error during translation: 'NoneType' object has no attribute 'group'\n",
      "Error during translation: 'NoneType' object has no attribute 'group'\n",
      "Error during translation: 'NoneType' object has no attribute 'group'\n",
      "Error during translation: 'NoneType' object has no attribute 'group'\n",
      "Error during translation: 'NoneType' object has no attribute 'group'\n",
      "Error during translation: 'NoneType' object has no attribute 'group'\n",
      "Error during translation: 'NoneType' object has no attribute 'group'\n",
      "Error during translation: 'NoneType' object has no attribute 'group'\n",
      "Error during translation: 'NoneType' object has no attribute 'group'\n",
      "Error during translation: 'NoneType' object has no attribute 'group'\n",
      "Error during translation: 'NoneType' object has no attribute 'group'\n",
      "Error during translation: 'NoneType' object has no attribute 'group'\n",
      "Error during translation: 'NoneType' object has no attribute 'group'\n",
      "Error during translation: 'NoneType' object has no attribute 'group'\n",
      "Error during translation: 'NoneType' object has no attribute 'group'\n",
      "Error during translation: 'NoneType' object has no attribute 'group'\n",
      "Error during translation: 'NoneType' object has no attribute 'group'\n",
      "Error during translation: 'NoneType' object has no attribute 'group'\n",
      "Error during translation: 'NoneType' object has no attribute 'group'\n",
      "Error during translation: 'NoneType' object has no attribute 'group'\n",
      "Error during translation: 'NoneType' object has no attribute 'group'\n",
      "Error during translation: 'NoneType' object has no attribute 'group'\n",
      "Error during translation: 'NoneType' object has no attribute 'group'\n",
      "Error during translation: 'NoneType' object has no attribute 'group'\n",
      "Error during translation: 'NoneType' object has no attribute 'group'\n",
      "Error during translation: 'NoneType' object has no attribute 'group'\n",
      "Error during translation: 'NoneType' object has no attribute 'group'\n",
      "Error during translation: 'NoneType' object has no attribute 'group'\n",
      "Error during translation: 'NoneType' object has no attribute 'group'\n",
      "Error during translation: 'NoneType' object has no attribute 'group'\n",
      "Error during translation: 'NoneType' object has no attribute 'group'\n",
      "Error during translation: 'NoneType' object has no attribute 'group'\n",
      "Error during translation: 'NoneType' object has no attribute 'group'\n",
      "Error during translation: 'NoneType' object has no attribute 'group'\n",
      "Error during translation: 'NoneType' object has no attribute 'group'\n",
      "Error during translation: 'NoneType' object has no attribute 'group'\n",
      "Error during translation: 'NoneType' object has no attribute 'group'\n",
      "Error during translation: 'NoneType' object has no attribute 'group'\n",
      "Error during translation: 'NoneType' object has no attribute 'group'\n",
      "Error during translation: 'NoneType' object has no attribute 'group'\n",
      "Error during translation: 'NoneType' object has no attribute 'group'\n",
      "Error during translation: 'NoneType' object has no attribute 'group'\n",
      "Error during translation: 'NoneType' object has no attribute 'group'\n",
      "Error during translation: 'NoneType' object has no attribute 'group'\n",
      "Error during translation: 'NoneType' object has no attribute 'group'\n",
      "Error during translation: 'NoneType' object has no attribute 'group'\n",
      "Error during translation: 'NoneType' object has no attribute 'group'\n",
      "Error during translation: 'NoneType' object has no attribute 'group'\n",
      "Error during translation: 'NoneType' object has no attribute 'group'\n",
      "Error during translation: 'NoneType' object has no attribute 'group'\n",
      "Error during translation: 'NoneType' object has no attribute 'group'\n",
      "Error during translation: 'NoneType' object has no attribute 'group'\n",
      "Error during translation: 'NoneType' object has no attribute 'group'\n",
      "Error during translation: 'NoneType' object has no attribute 'group'\n",
      "Error during translation: 'NoneType' object has no attribute 'group'\n",
      "Error during translation: 'NoneType' object has no attribute 'group'\n",
      "Error during translation: 'NoneType' object has no attribute 'group'\n",
      "Error during translation: 'NoneType' object has no attribute 'group'\n",
      "Error during translation: 'NoneType' object has no attribute 'group'\n",
      "Error during translation: 'NoneType' object has no attribute 'group'\n",
      "Error during translation: 'NoneType' object has no attribute 'group'\n",
      "Error during translation: 'NoneType' object has no attribute 'group'\n",
      "Error during translation: 'NoneType' object has no attribute 'group'\n",
      "Error during translation: 'NoneType' object has no attribute 'group'\n",
      "Error during translation: 'NoneType' object has no attribute 'group'\n",
      "Error during translation: 'NoneType' object has no attribute 'group'\n",
      "Error during translation: 'NoneType' object has no attribute 'group'\n",
      "Error during translation: 'NoneType' object has no attribute 'group'\n",
      "Error during translation: 'NoneType' object has no attribute 'group'\n",
      "Error during translation: 'NoneType' object has no attribute 'group'\n",
      "Error during translation: 'NoneType' object has no attribute 'group'\n",
      "Error during translation: 'NoneType' object has no attribute 'group'\n",
      "Error during translation: 'NoneType' object has no attribute 'group'\n",
      "Error during translation: 'NoneType' object has no attribute 'group'\n",
      "Error during translation: 'NoneType' object has no attribute 'group'\n",
      "Error during translation: 'NoneType' object has no attribute 'group'\n",
      "Error during translation: 'NoneType' object has no attribute 'group'\n",
      "Error during translation: 'NoneType' object has no attribute 'group'\n",
      "Error during translation: 'NoneType' object has no attribute 'group'\n",
      "Error during translation: 'NoneType' object has no attribute 'group'\n",
      "Error during translation: 'NoneType' object has no attribute 'group'\n",
      "Error during translation: 'NoneType' object has no attribute 'group'\n",
      "Error during translation: 'NoneType' object has no attribute 'group'\n",
      "Error during translation: 'NoneType' object has no attribute 'group'\n",
      "Error during translation: 'NoneType' object has no attribute 'group'\n",
      "Error during translation: 'NoneType' object has no attribute 'group'\n",
      "Error during translation: 'NoneType' object has no attribute 'group'\n",
      "Error during translation: 'NoneType' object has no attribute 'group'\n",
      "Error during translation: 'NoneType' object has no attribute 'group'\n",
      "Error during translation: 'NoneType' object has no attribute 'group'\n",
      "Error during translation: 'NoneType' object has no attribute 'group'\n",
      "Error during translation: 'NoneType' object has no attribute 'group'\n",
      "Error during translation: 'NoneType' object has no attribute 'group'\n",
      "Error during translation: 'NoneType' object has no attribute 'group'\n",
      "Error during translation: 'NoneType' object has no attribute 'group'\n",
      "Error during translation: 'NoneType' object has no attribute 'group'\n",
      "Error during translation: 'NoneType' object has no attribute 'group'\n",
      "Error during translation: 'NoneType' object has no attribute 'group'\n",
      "Error during translation: 'NoneType' object has no attribute 'group'\n",
      "Error during translation: 'NoneType' object has no attribute 'group'\n",
      "Error during translation: 'NoneType' object has no attribute 'group'\n",
      "Error during translation: 'NoneType' object has no attribute 'group'\n",
      "Error during translation: 'NoneType' object has no attribute 'group'\n",
      "Error during translation: 'NoneType' object has no attribute 'group'\n",
      "Error during translation: 'NoneType' object has no attribute 'group'\n",
      "Error during translation: 'NoneType' object has no attribute 'group'\n",
      "Error during translation: 'NoneType' object has no attribute 'group'\n",
      "Error during translation: 'NoneType' object has no attribute 'group'\n",
      "Error during translation: 'NoneType' object has no attribute 'group'\n",
      "Error during translation: 'NoneType' object has no attribute 'group'\n",
      "Translated file saved to: C:/Users/ivan.zeljeznjak/DataspellProjects/RedditSentimentAnalysis/data/raw/reviews_and_ratings_translated.csv\n"
     ]
    }
   ],
   "source": [
    "translator.translate_reviews()"
   ],
   "metadata": {
    "collapsed": false,
    "ExecuteTime": {
     "end_time": "2024-02-05T15:03:59.480989100Z",
     "start_time": "2024-02-05T15:03:08.563758700Z"
    }
   },
   "id": "3df236f8e494612d",
   "execution_count": 14
  },
  {
   "cell_type": "code",
   "outputs": [],
   "source": [],
   "metadata": {
    "collapsed": false
   },
   "id": "995d4eb5e429b486"
  }
 ],
 "metadata": {
  "kernelspec": {
   "display_name": "Python 3",
   "language": "python",
   "name": "python3"
  },
  "language_info": {
   "codemirror_mode": {
    "name": "ipython",
    "version": 2
   },
   "file_extension": ".py",
   "mimetype": "text/x-python",
   "name": "python",
   "nbconvert_exporter": "python",
   "pygments_lexer": "ipython2",
   "version": "2.7.6"
  }
 },
 "nbformat": 4,
 "nbformat_minor": 5
}
