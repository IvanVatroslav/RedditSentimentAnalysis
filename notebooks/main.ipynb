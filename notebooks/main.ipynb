{
 "cells": [
  {
   "cell_type": "code",
   "execution_count": 2,
   "id": "initial_id",
   "metadata": {
    "collapsed": true,
    "ExecuteTime": {
     "end_time": "2024-02-08T12:32:03.614265700Z",
     "start_time": "2024-02-08T12:32:00.609660900Z"
    }
   },
   "outputs": [],
   "source": [
    "\n",
    "from src.scraping.googlescraping import DriverInit, ReviewScraper\n",
    "from src.cleaning import ReviewCleaner\n",
    "from src.translation import ReviewTranslatorToCroatian\n"
   ]
  },
  {
   "cell_type": "code",
   "outputs": [],
   "source": [
    "driver_init.close_browser()"
   ],
   "metadata": {
    "collapsed": false
   },
   "id": "9e445898ed6928ed",
   "execution_count": null
  },
  {
   "cell_type": "code",
   "outputs": [],
   "source": [
    "url = 'https://www.google.com/search?rlz=1C1GCEA_enHR1085HR1085&q=Casablanca%20Reviews&rflfq=1&num=20&stick=H4sIAAAAAAAAAONgkxI2sTQzMjUzsDC2NDUzMTMzN7W03MDI-IpRyDmxODEpJzEvOVEhKLUsM7W8eBErFkEAULFNy0QAAAA&rldimm=4962560839564667599&tbm=lcl&hl=en&sa=X&ved=0CAYQ5foLahcKEwiAzYbJzIKEAxUAAAAAHQAAAAAQCg&biw=1536&bih=729&dpr=1.25#lkt=LocalPoiReviews&arid=ChZDSUhNMG9nS0VJQ0FnSURSNWJlRUhnEAE'"
   ],
   "metadata": {
    "collapsed": false
   },
   "id": "badf223f19cdd4b",
   "execution_count": null
  },
  {
   "cell_type": "code",
   "outputs": [],
   "source": [
    "driver_init = DriverInit()\n",
    "driver_init.navigate_to_url(url) #improve review searching so its usable for more places"
   ],
   "metadata": {
    "collapsed": false
   },
   "id": "cfc0026ba3c9dff0",
   "execution_count": null
  },
  {
   "cell_type": "code",
   "outputs": [],
   "source": [
    "driver_init.navigate_to_reviews_tab() #fix xpath"
   ],
   "metadata": {
    "collapsed": false
   },
   "id": "6598a1317ee2ce9a",
   "execution_count": null
  },
  {
   "cell_type": "code",
   "outputs": [],
   "source": [
    "review_scraper = ReviewScraper(driver_init)"
   ],
   "metadata": {
    "collapsed": false
   },
   "id": "de7cf350d63d7552",
   "execution_count": null
  },
  {
   "cell_type": "code",
   "outputs": [],
   "source": [
    "review_scraper.load_reviews()"
   ],
   "metadata": {
    "collapsed": false
   },
   "id": "9bd4c45d8bc71801",
   "execution_count": null
  },
  {
   "cell_type": "code",
   "outputs": [],
   "source": [
    "review_scraper.click_translate_buttons()"
   ],
   "metadata": {
    "collapsed": false
   },
   "id": "a044d6bec9476f40",
   "execution_count": null
  },
  {
   "cell_type": "code",
   "outputs": [],
   "source": [
    "review_scraper.click_more_buttons()"
   ],
   "metadata": {
    "collapsed": false
   },
   "id": "a1e0a2b2bcc40584",
   "execution_count": null
  },
  {
   "cell_type": "code",
   "outputs": [],
   "source": [
    "review_scraper.collect_reviews()"
   ],
   "metadata": {
    "collapsed": false
   },
   "id": "29941941fb8a2908",
   "execution_count": null
  },
  {
   "cell_type": "code",
   "outputs": [],
   "source": [
    "review_scraper.save_reviews_to_csv()"
   ],
   "metadata": {
    "collapsed": false
   },
   "id": "4d0cd8e66fe4ec",
   "execution_count": null
  },
  {
   "cell_type": "code",
   "outputs": [],
   "source": [
    "cleaner = ReviewCleaner()\n",
    "PATH ='C:/Users/ivan.zeljeznjak/DataspellProjects/RedditSentimentAnalysis/data/processed/reviews_and_ratings.csv'"
   ],
   "metadata": {
    "collapsed": false
   },
   "id": "5d3cdc9c479a7a8f",
   "execution_count": null
  },
  {
   "cell_type": "code",
   "outputs": [],
   "source": [
    "# cleaner.clean_csv_file('data/raw/reviews_and_ratings_raw.csv')\n",
    "cleaner.clean_csv_file(PATH)"
   ],
   "metadata": {
    "collapsed": false
   },
   "id": "b5b5cbb446fc5925",
   "execution_count": null
  },
  {
   "cell_type": "code",
   "outputs": [],
   "source": [
    "input_file_path = '../data/processed/reviews_and_ratings_cleaned.csv'\n",
    "output_file_path = '../data/processed/reviews_and_ratings_translated.csv'\n",
    "\n",
    "translator = ReviewTranslatorToCroatian(input_file_path, output_file_path)\n"
   ],
   "metadata": {
    "collapsed": false
   },
   "id": "10b0f01a1e935992",
   "execution_count": null
  },
  {
   "cell_type": "code",
   "outputs": [],
   "source": [
    "translator.translate_csv_file()"
   ],
   "metadata": {
    "collapsed": false
   },
   "id": "3df236f8e494612d",
   "execution_count": null
  },
  {
   "cell_type": "code",
   "outputs": [
    {
     "name": "stdout",
     "output_type": "stream",
     "text": [
      "C:/Users/ivan.zeljeznjak/DataspellProjects/RedditSentimentAnalysis/notebooks/main.ipynb is valid\n"
     ]
    }
   ],
   "source": [
    "import nbformat\n",
    "from nbformat.validator import validate, ValidationError\n",
    "\n",
    "filename = 'C:/Users/ivan.zeljeznjak/DataspellProjects/RedditSentimentAnalysis/notebooks/main.ipynb'  # Change this to your file path\n",
    "\n",
    "with open(filename) as f:\n",
    "    nb = nbformat.read(f, as_version=4)\n",
    "\n",
    "try:\n",
    "    validate(nb)\n",
    "    print(f\"{filename} is valid\")\n",
    "except ValidationError as e:\n",
    "    print(f\"Validation error: {e}\")\n"
   ],
   "metadata": {
    "collapsed": false,
    "ExecuteTime": {
     "end_time": "2024-02-08T12:37:29.210059400Z",
     "start_time": "2024-02-08T12:37:29.136445800Z"
    }
   },
   "id": "e5064b71fd3b3386",
   "execution_count": 7
  }
 ],
 "metadata": {
  "kernelspec": {
   "display_name": "Python 3",
   "language": "python",
   "name": "python3"
  },
  "language_info": {
   "codemirror_mode": {
    "name": "ipython",
    "version": 2
   },
   "file_extension": ".py",
   "mimetype": "text/x-python",
   "name": "python",
   "nbconvert_exporter": "python",
   "pygments_lexer": "ipython2",
   "version": "2.7.6"
  }
 },
 "nbformat": 4,
 "nbformat_minor": 5
}
