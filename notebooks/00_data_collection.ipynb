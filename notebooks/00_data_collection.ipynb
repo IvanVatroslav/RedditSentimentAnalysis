{
 "cells": [
  {
   "cell_type": "code",
   "execution_count": null,
   "id": "initial_id",
   "metadata": {
    "collapsed": true
   },
   "outputs": [],
   "source": [
    "from src.scraping.googlescraping import DriverInit, ReviewScraper"
   ]
  },
  {
   "cell_type": "code",
   "outputs": [],
   "source": [
    "driver_init.close_browser()"
   ],
   "metadata": {
    "collapsed": false
   },
   "id": "9ff0a4d73dd8f035"
  },
  {
   "cell_type": "code",
   "outputs": [],
   "source": [
    "url = 'https://www.google.com/search?rlz=1C1GCEA_enHR1085HR1085&q=Casablanca%20Reviews&rflfq=1&num=20&stick=H4sIAAAAAAAAAONgkxI2sTQzMjUzsDC2NDUzMTMzN7W03MDI-IpRyDmxODEpJzEvOVEhKLUsM7W8eBErFkEAULFNy0QAAAA&rldimm=4962560839564667599&tbm=lcl&hl=en&sa=X&ved=0CAYQ5foLahcKEwiAzYbJzIKEAxUAAAAAHQAAAAAQCg&biw=1536&bih=729&dpr=1.25#lkt=LocalPoiReviews&arid=ChZDSUhNMG9nS0VJQ0FnSURSNWJlRUhnEAE'"
   ],
   "metadata": {
    "collapsed": false
   },
   "id": "bd21d2b187068698",
   "execution_count": null
  },
  {
   "cell_type": "code",
   "outputs": [],
   "source": [
    "driver_init = DriverInit()\n",
    "driver_init.navigate_to_url(url) #improve review searching so it's usable for more places"
   ],
   "metadata": {
    "collapsed": false
   },
   "id": "9bc4eb3788eab093",
   "execution_count": null
  },
  {
   "cell_type": "code",
   "outputs": [],
   "source": [
    "driver_init.navigate_to_reviews_tab() #fix xpath"
   ],
   "metadata": {
    "collapsed": false
   },
   "id": "c497428c24247027"
  },
  {
   "cell_type": "code",
   "outputs": [],
   "source": [
    "review_scraper = ReviewScraper(driver_init)"
   ],
   "metadata": {
    "collapsed": false
   },
   "id": "69f45b2abddbe299"
  },
  {
   "cell_type": "code",
   "outputs": [],
   "source": [
    "review_scraper.load_reviews()"
   ],
   "metadata": {
    "collapsed": false
   },
   "id": "e5725d3714dccbfb",
   "execution_count": null
  },
  {
   "cell_type": "code",
   "outputs": [],
   "source": [
    "review_scraper.click_translate_buttons()"
   ],
   "metadata": {
    "collapsed": false
   },
   "id": "fbd494e15174452a",
   "execution_count": null
  },
  {
   "cell_type": "code",
   "outputs": [],
   "source": [
    "review_scraper.click_translate_buttons()"
   ],
   "metadata": {
    "collapsed": false
   },
   "id": "c1c1dbada34997d",
   "execution_count": null
  },
  {
   "cell_type": "code",
   "outputs": [],
   "source": [
    "review_scraper.collect_reviews()"
   ],
   "metadata": {
    "collapsed": false
   },
   "id": "e6eaf460568b859d",
   "execution_count": null
  },
  {
   "cell_type": "code",
   "outputs": [],
   "source": [
    "review_scraper.save_reviews_to_csv()"
   ],
   "metadata": {
    "collapsed": false
   },
   "id": "d641e471e8d71bdf",
   "execution_count": null
  },
  {
   "cell_type": "code",
   "outputs": [],
   "source": [
    "#placeholder"
   ],
   "metadata": {
    "collapsed": false
   },
   "id": "e71043c830e786de"
  }
 ],
 "metadata": {
  "kernelspec": {
   "display_name": "Python 3",
   "language": "python",
   "name": "python3"
  },
  "language_info": {
   "codemirror_mode": {
    "name": "ipython",
    "version": 2
   },
   "file_extension": ".py",
   "mimetype": "text/x-python",
   "name": "python",
   "nbconvert_exporter": "python",
   "pygments_lexer": "ipython2",
   "version": "2.7.6"
  }
 },
 "nbformat": 4,
 "nbformat_minor": 5
}
