{
 "cells": [
  {
   "cell_type": "code",
   "execution_count": 1,
   "id": "initial_id",
   "metadata": {
    "collapsed": true,
    "ExecuteTime": {
     "end_time": "2024-02-14T21:41:53.118789900Z",
     "start_time": "2024-02-14T21:41:51.131259500Z"
    }
   },
   "outputs": [],
   "source": [
    "from src.scraping.googlescraping import DriverInit, ReviewScraper"
   ]
  },
  {
   "cell_type": "code",
   "outputs": [],
   "source": [
    "url = 'https://www.google.com/search?rlz=1C1GCEA_enHR1085HR1085&q=Casablanca%20Reviews&rflfq=1&num=20&stick=H4sIAAAAAAAAAONgkxI2sTQzMjUzsDC2NDUzMTMzN7W03MDI-IpRyDmxODEpJzEvOVEhKLUsM7W8eBErFkEAULFNy0QAAAA&rldimm=4962560839564667599&tbm=lcl&hl=en&sa=X&ved=0CAYQ5foLahcKEwiAzYbJzIKEAxUAAAAAHQAAAAAQCg&biw=1536&bih=729&dpr=1.25#lkt=LocalPoiReviews&arid=ChZDSUhNMG9nS0VJQ0FnSURSNWJlRUhnEAE'"
   ],
   "metadata": {
    "collapsed": false,
    "ExecuteTime": {
     "end_time": "2024-02-14T21:41:53.132870900Z",
     "start_time": "2024-02-14T21:41:53.125562500Z"
    }
   },
   "id": "bd21d2b187068698",
   "execution_count": 2
  },
  {
   "cell_type": "code",
   "outputs": [],
   "source": [
    "driver_init = DriverInit()"
   ],
   "metadata": {
    "collapsed": false,
    "ExecuteTime": {
     "end_time": "2024-02-14T21:41:55.623946300Z",
     "start_time": "2024-02-14T21:41:53.133881900Z"
    }
   },
   "id": "9bc4eb3788eab093",
   "execution_count": 3
  },
  {
   "cell_type": "code",
   "outputs": [],
   "source": [
    "driver_init.navigate_to_url(url) #improve review searching so it's usable for more places"
   ],
   "metadata": {
    "collapsed": false,
    "ExecuteTime": {
     "end_time": "2024-02-14T21:41:58.645390200Z",
     "start_time": "2024-02-14T21:41:55.633504300Z"
    }
   },
   "id": "71e1239296debbaa",
   "execution_count": 4
  },
  {
   "cell_type": "code",
   "outputs": [],
   "source": [
    "driver_init.navigate_to_reviews_tab() "
   ],
   "metadata": {
    "collapsed": false,
    "ExecuteTime": {
     "end_time": "2024-02-14T21:42:01.560224500Z",
     "start_time": "2024-02-14T21:41:58.648391700Z"
    }
   },
   "id": "c497428c24247027",
   "execution_count": 5
  },
  {
   "cell_type": "code",
   "outputs": [],
   "source": [
    "review_scraper = ReviewScraper(driver_init)"
   ],
   "metadata": {
    "collapsed": false,
    "ExecuteTime": {
     "end_time": "2024-02-14T21:42:01.577162500Z",
     "start_time": "2024-02-14T21:42:01.566213800Z"
    }
   },
   "id": "69f45b2abddbe299",
   "execution_count": 6
  },
  {
   "cell_type": "code",
   "outputs": [
    {
     "name": "stdout",
     "output_type": "stream",
     "text": [
      "Error scrolling to first review: Message: no such element: Unable to locate element: {\"method\":\"xpath\",\"selector\":\"//div[@data-attrid='kc:/local:all reviews']//div[3]/div/div[1]//div[@class='OA1nbd']\"}\n",
      "  (Session info: chrome=121.0.6167.161)\n",
      "279 reviews found.\n"
     ]
    }
   ],
   "source": [
    "review_scraper.load_reviews()"
   ],
   "metadata": {
    "collapsed": false,
    "ExecuteTime": {
     "end_time": "2024-02-14T21:42:37.175431800Z",
     "start_time": "2024-02-14T21:42:01.576159700Z"
    }
   },
   "id": "e5725d3714dccbfb",
   "execution_count": 7
  },
  {
   "cell_type": "code",
   "outputs": [],
   "source": [
    "review_scraper.click_translate_buttons()"
   ],
   "metadata": {
    "collapsed": false,
    "ExecuteTime": {
     "end_time": "2024-02-14T21:43:27.123965Z",
     "start_time": "2024-02-14T21:42:37.181434300Z"
    }
   },
   "id": "fbd494e15174452a",
   "execution_count": 8
  },
  {
   "cell_type": "code",
   "outputs": [
    {
     "name": "stdout",
     "output_type": "stream",
     "text": [
      "Error clicking translate buttons: Message: element not interactable\n",
      "  (Session info: chrome=121.0.6167.161)\n"
     ]
    }
   ],
   "source": [
    "review_scraper.click_translate_buttons()"
   ],
   "metadata": {
    "collapsed": false,
    "ExecuteTime": {
     "end_time": "2024-02-14T21:43:29.057518Z",
     "start_time": "2024-02-14T21:43:27.129973500Z"
    }
   },
   "id": "c1c1dbada34997d",
   "execution_count": 9
  },
  {
   "cell_type": "code",
   "outputs": [
    {
     "name": "stdout",
     "output_type": "stream",
     "text": [
      "No more reviews found. Ending collection.\n",
      "No more reviews found. Ending collection.\n",
      "No more reviews found. Ending collection.\n",
      "No more reviews found. Ending collection.\n",
      "No more reviews found. Ending collection.\n",
      "No more reviews found. Ending collection.\n",
      "No more reviews found. Ending collection.\n",
      "No more reviews found. Ending collection.\n",
      "No more reviews found. Ending collection.\n",
      "No more reviews found. Ending collection.\n"
     ]
    }
   ],
   "source": [
    "review_scraper.collect_reviews()"
   ],
   "metadata": {
    "collapsed": false,
    "ExecuteTime": {
     "end_time": "2024-02-14T21:44:04.697859400Z",
     "start_time": "2024-02-14T21:43:29.062509100Z"
    }
   },
   "id": "e6eaf460568b859d",
   "execution_count": 10
  },
  {
   "cell_type": "code",
   "outputs": [
    {
     "name": "stdout",
     "output_type": "stream",
     "text": [
      "Saved reviews to C:\\Users\\ivan.zeljeznjak\\DataspellProjects\\RedditSentimentAnalysis\\data\\raw\\reviews_and_ratings.csv\n"
     ]
    }
   ],
   "source": [
    "review_scraper.save_reviews_to_csv()"
   ],
   "metadata": {
    "collapsed": false,
    "ExecuteTime": {
     "end_time": "2024-02-14T21:44:04.798923100Z",
     "start_time": "2024-02-14T21:44:04.699855700Z"
    }
   },
   "id": "d641e471e8d71bdf",
   "execution_count": 11
  }
 ],
 "metadata": {
  "kernelspec": {
   "display_name": "Python 3",
   "language": "python",
   "name": "python3"
  },
  "language_info": {
   "codemirror_mode": {
    "name": "ipython",
    "version": 2
   },
   "file_extension": ".py",
   "mimetype": "text/x-python",
   "name": "python",
   "nbconvert_exporter": "python",
   "pygments_lexer": "ipython2",
   "version": "2.7.6"
  }
 },
 "nbformat": 4,
 "nbformat_minor": 5
}
