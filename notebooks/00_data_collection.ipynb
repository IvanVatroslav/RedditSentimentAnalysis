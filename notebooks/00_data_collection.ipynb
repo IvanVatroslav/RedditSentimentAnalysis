{
 "cells": [
  {
   "cell_type": "code",
   "execution_count": 1,
   "id": "initial_id",
   "metadata": {
    "collapsed": true,
    "ExecuteTime": {
     "end_time": "2024-02-10T20:10:30.904640700Z",
     "start_time": "2024-02-10T20:10:30.547712900Z"
    }
   },
   "outputs": [],
   "source": [
    "from src.scraping.googlescraping import DriverInit, ReviewScraper\n"
   ]
  },
  {
   "cell_type": "code",
   "outputs": [],
   "source": [
    "driver_init.close_browser()"
   ],
   "metadata": {
    "collapsed": false
   },
   "id": "9ff0a4d73dd8f035"
  },
  {
   "cell_type": "code",
   "outputs": [],
   "source": [
    "url = 'https://www.google.com/search?rlz=1C1GCEA_enHR1085HR1085&q=Casablanca%20Reviews&rflfq=1&num=20&stick=H4sIAAAAAAAAAONgkxI2sTQzMjUzsDC2NDUzMTMzN7W03MDI-IpRyDmxODEpJzEvOVEhKLUsM7W8eBErFkEAULFNy0QAAAA&rldimm=4962560839564667599&tbm=lcl&hl=en&sa=X&ved=0CAYQ5foLahcKEwiAzYbJzIKEAxUAAAAAHQAAAAAQCg&biw=1536&bih=729&dpr=1.25#lkt=LocalPoiReviews&arid=ChZDSUhNMG9nS0VJQ0FnSURSNWJlRUhnEAE'"
   ],
   "metadata": {
    "collapsed": false,
    "ExecuteTime": {
     "end_time": "2024-02-10T20:10:36.755933400Z",
     "start_time": "2024-02-10T20:10:36.738765200Z"
    }
   },
   "id": "bd21d2b187068698",
   "execution_count": 2
  },
  {
   "cell_type": "code",
   "outputs": [],
   "source": [
    "driver_init = DriverInit()\n",
    "driver_init.navigate_to_url(url) #improve review searching so it's usable for more places"
   ],
   "metadata": {
    "collapsed": false,
    "ExecuteTime": {
     "end_time": "2024-02-10T20:10:50.040312Z",
     "start_time": "2024-02-10T20:10:40.137528500Z"
    }
   },
   "id": "9bc4eb3788eab093",
   "execution_count": 3
  },
  {
   "cell_type": "code",
   "outputs": [],
   "source": [
    "driver_init.navigate_to_reviews_tab() #fix xpath\n"
   ],
   "metadata": {
    "collapsed": false
   },
   "id": "c497428c24247027"
  },
  {
   "cell_type": "code",
   "outputs": [],
   "source": [
    "review_scraper = ReviewScraper(driver_init)\n"
   ],
   "metadata": {
    "collapsed": false
   },
   "id": "69f45b2abddbe299"
  },
  {
   "cell_type": "code",
   "outputs": [
    {
     "ename": "NameError",
     "evalue": "name 'review_scraper' is not defined",
     "output_type": "error",
     "traceback": [
      "\u001B[1;31m---------------------------------------------------------------------------\u001B[0m",
      "\u001B[1;31mNameError\u001B[0m                                 Traceback (most recent call last)",
      "Cell \u001B[1;32mIn[4], line 1\u001B[0m\n\u001B[1;32m----> 1\u001B[0m review_scraper\u001B[38;5;241m.\u001B[39mload_reviews()\n",
      "\u001B[1;31mNameError\u001B[0m: name 'review_scraper' is not defined"
     ]
    }
   ],
   "source": [
    "review_scraper.load_reviews()"
   ],
   "metadata": {
    "collapsed": false,
    "ExecuteTime": {
     "end_time": "2024-02-10T20:11:18.904371100Z",
     "start_time": "2024-02-10T20:11:15.916187300Z"
    }
   },
   "id": "e5725d3714dccbfb",
   "execution_count": 4
  },
  {
   "cell_type": "code",
   "outputs": [
    {
     "ename": "NameError",
     "evalue": "name 'review_scraper' is not defined",
     "output_type": "error",
     "traceback": [
      "\u001B[1;31m---------------------------------------------------------------------------\u001B[0m",
      "\u001B[1;31mNameError\u001B[0m                                 Traceback (most recent call last)",
      "Cell \u001B[1;32mIn[5], line 1\u001B[0m\n\u001B[1;32m----> 1\u001B[0m review_scraper\u001B[38;5;241m.\u001B[39mclick_translate_buttons()\n",
      "\u001B[1;31mNameError\u001B[0m: name 'review_scraper' is not defined"
     ]
    }
   ],
   "source": [
    "review_scraper.click_translate_buttons()\n"
   ],
   "metadata": {
    "collapsed": false,
    "ExecuteTime": {
     "end_time": "2024-02-10T20:11:21.108538300Z",
     "start_time": "2024-02-10T20:11:21.065495Z"
    }
   },
   "id": "fbd494e15174452a",
   "execution_count": 5
  },
  {
   "cell_type": "code",
   "outputs": [
    {
     "ename": "NameError",
     "evalue": "name 'review_scraper' is not defined",
     "output_type": "error",
     "traceback": [
      "\u001B[1;31m---------------------------------------------------------------------------\u001B[0m",
      "\u001B[1;31mNameError\u001B[0m                                 Traceback (most recent call last)",
      "Cell \u001B[1;32mIn[6], line 1\u001B[0m\n\u001B[1;32m----> 1\u001B[0m review_scraper\u001B[38;5;241m.\u001B[39mclick_translate_buttons()\n",
      "\u001B[1;31mNameError\u001B[0m: name 'review_scraper' is not defined"
     ]
    }
   ],
   "source": [
    "review_scraper.click_translate_buttons()\n"
   ],
   "metadata": {
    "collapsed": false,
    "ExecuteTime": {
     "end_time": "2024-02-10T20:11:22.266978200Z",
     "start_time": "2024-02-10T20:11:22.205486400Z"
    }
   },
   "id": "c1c1dbada34997d",
   "execution_count": 6
  },
  {
   "cell_type": "code",
   "outputs": [
    {
     "ename": "NameError",
     "evalue": "name 'review_scraper' is not defined",
     "output_type": "error",
     "traceback": [
      "\u001B[1;31m---------------------------------------------------------------------------\u001B[0m",
      "\u001B[1;31mNameError\u001B[0m                                 Traceback (most recent call last)",
      "Cell \u001B[1;32mIn[7], line 1\u001B[0m\n\u001B[1;32m----> 1\u001B[0m review_scraper\u001B[38;5;241m.\u001B[39mcollect_reviews()\n",
      "\u001B[1;31mNameError\u001B[0m: name 'review_scraper' is not defined"
     ]
    }
   ],
   "source": [
    "review_scraper.collect_reviews()\n"
   ],
   "metadata": {
    "collapsed": false,
    "ExecuteTime": {
     "end_time": "2024-02-10T20:11:25.755937800Z",
     "start_time": "2024-02-10T20:11:25.715573500Z"
    }
   },
   "id": "e6eaf460568b859d",
   "execution_count": 7
  },
  {
   "cell_type": "code",
   "outputs": [
    {
     "ename": "NameError",
     "evalue": "name 'review_scraper' is not defined",
     "output_type": "error",
     "traceback": [
      "\u001B[1;31m---------------------------------------------------------------------------\u001B[0m",
      "\u001B[1;31mNameError\u001B[0m                                 Traceback (most recent call last)",
      "Cell \u001B[1;32mIn[8], line 1\u001B[0m\n\u001B[1;32m----> 1\u001B[0m review_scraper\u001B[38;5;241m.\u001B[39msave_reviews_to_csv()\n",
      "\u001B[1;31mNameError\u001B[0m: name 'review_scraper' is not defined"
     ]
    }
   ],
   "source": [
    "review_scraper.save_reviews_to_csv()\n"
   ],
   "metadata": {
    "collapsed": false,
    "ExecuteTime": {
     "end_time": "2024-02-10T20:11:32.792768400Z",
     "start_time": "2024-02-10T20:11:32.740181400Z"
    }
   },
   "id": "d641e471e8d71bdf",
   "execution_count": 8
  },
  {
   "cell_type": "code",
   "outputs": [],
   "source": [],
   "metadata": {
    "collapsed": false
   },
   "id": "e71043c830e786de"
  }
 ],
 "metadata": {
  "kernelspec": {
   "display_name": "Python 3",
   "language": "python",
   "name": "python3"
  },
  "language_info": {
   "codemirror_mode": {
    "name": "ipython",
    "version": 2
   },
   "file_extension": ".py",
   "mimetype": "text/x-python",
   "name": "python",
   "nbconvert_exporter": "python",
   "pygments_lexer": "ipython2",
   "version": "2.7.6"
  }
 },
 "nbformat": 4,
 "nbformat_minor": 5
}
