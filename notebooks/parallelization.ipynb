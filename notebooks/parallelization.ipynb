{
 "cells": [
  {
   "cell_type": "code",
   "execution_count": 4,
   "id": "initial_id",
   "metadata": {
    "collapsed": true,
    "ExecuteTime": {
     "end_time": "2024-02-21T11:28:26.350972300Z",
     "start_time": "2024-02-21T11:28:17.007473400Z"
    }
   },
   "outputs": [
    {
     "ename": "TypeError",
     "evalue": "ParallelBrowserManager.__init__() got an unexpected keyword argument 'num_workers'",
     "output_type": "error",
     "traceback": [
      "\u001B[1;31m---------------------------------------------------------------------------\u001B[0m",
      "\u001B[1;31mTypeError\u001B[0m                                 Traceback (most recent call last)",
      "Cell \u001B[1;32mIn[4], line 4\u001B[0m\n\u001B[0;32m      1\u001B[0m \u001B[38;5;28;01mfrom\u001B[39;00m \u001B[38;5;21;01msrc\u001B[39;00m\u001B[38;5;21;01m.\u001B[39;00m\u001B[38;5;21;01mscraping\u001B[39;00m\u001B[38;5;21;01m.\u001B[39;00m\u001B[38;5;21;01mbrowser_managment\u001B[39;00m\u001B[38;5;21;01m.\u001B[39;00m\u001B[38;5;21;01mparallel_browser_manager\u001B[39;00m \u001B[38;5;28;01mimport\u001B[39;00m ParallelBrowserManager\n\u001B[0;32m      3\u001B[0m \u001B[38;5;66;03m# Initialize the ParallelBrowserManager with the desired number of workers\u001B[39;00m\n\u001B[1;32m----> 4\u001B[0m parallel_manager \u001B[38;5;241m=\u001B[39m ParallelBrowserManager(num_workers\u001B[38;5;241m=\u001B[39m\u001B[38;5;241m5\u001B[39m)\n\u001B[0;32m      6\u001B[0m \u001B[38;5;66;03m# List of numbers to search\u001B[39;00m\n\u001B[0;32m      7\u001B[0m numbers_to_search \u001B[38;5;241m=\u001B[39m [\u001B[38;5;241m1\u001B[39m, \u001B[38;5;241m2\u001B[39m, \u001B[38;5;241m3\u001B[39m, \u001B[38;5;241m4\u001B[39m, \u001B[38;5;241m5\u001B[39m]\n",
      "\u001B[1;31mTypeError\u001B[0m: ParallelBrowserManager.__init__() got an unexpected keyword argument 'num_workers'"
     ]
    }
   ],
   "source": [
    "from src.scraping.browser_managment.parallel_browser_manager import ParallelBrowserManager\n",
    "\n",
    "# Initialize the ParallelBrowserManager with the desired number of workers\n",
    "parallel_manager = ParallelBrowserManager(num_workers=5)\n",
    "\n",
    "# List of numbers to search\n",
    "numbers_to_search = [1, 2, 3, 4, 5]\n",
    "\n",
    "# Perform the searches in parallel\n",
    "parallel_manager.perform_search(numbers_to_search)\n"
   ]
  },
  {
   "cell_type": "code",
   "outputs": [
    {
     "name": "stdout",
     "output_type": "stream",
     "text": [
      "      Restaurant Title\n",
      "0     Plješivička Klet\n",
      "1              Vinodol\n",
      "2           Pri Zvoncu\n",
      "3  Batak Grill - Rudeš\n",
      "4      Restoran Taurus\n"
     ]
    }
   ],
   "source": [
    "import pandas as pd\n",
    "\n",
    "# Relative path to the CSV file\n",
    "file_path = \"../data/Zagreb/restaurant_list.csv\"\n",
    "\n",
    "# Load the CSV file into a DataFrame\n",
    "df = pd.read_csv(file_path)\n",
    "\n",
    "# Display the first few rows of the DataFrame\n",
    "print(df.head())\n"
   ],
   "metadata": {
    "collapsed": false,
    "ExecuteTime": {
     "end_time": "2024-02-21T08:30:15.003610400Z",
     "start_time": "2024-02-21T08:30:14.950864700Z"
    }
   },
   "id": "145bfa9d2db9be62",
   "execution_count": 15
  },
  {
   "cell_type": "code",
   "outputs": [],
   "source": [
    "from src.scraping.browser_managment import BrowserManager, ParallelBrowserManager\n",
    "from src.scraping.google_scraping.google_init import GoogleInit\n"
   ],
   "metadata": {
    "collapsed": false,
    "ExecuteTime": {
     "end_time": "2024-02-21T13:54:52.262498Z",
     "start_time": "2024-02-21T13:54:49.073799Z"
    }
   },
   "id": "b0dd49367f3c6cea",
   "execution_count": 1
  },
  {
   "cell_type": "code",
   "outputs": [],
   "source": [
    "from src.scraping.browser_managment import BrowserManager, ParallelBrowserManager\n",
    "from src.scraping.google_scraping.google_init import GoogleInit\n"
   ],
   "metadata": {
    "collapsed": false,
    "ExecuteTime": {
     "end_time": "2024-02-23T08:53:56.251775Z",
     "start_time": "2024-02-23T08:53:51.306822Z"
    }
   },
   "id": "2b15b3661d5b1b35",
   "execution_count": 1
  },
  {
   "cell_type": "code",
   "outputs": [],
   "source": [
    "def search_wrapper(query):\n",
    "    # Split the query into restaurant name and city\n",
    "    restaurant_name, city = query.rsplit(' ', 1)  # This assumes the last word is the city\n",
    "    try:\n",
    "        browser_manager = BrowserManager(wait_time=60, short_wait_time=60)\n",
    "        google_init = GoogleInit(browser_manager)\n",
    "        # Directly use search_restaurant with the split query\n",
    "        result = google_init.search_restaurant(restaurant_name, city)\n",
    "        return result  # True or False based on search success\n",
    "    except Exception as exc:\n",
    "        print(f\"Error processing query '{query}': {exc}\")\n",
    "        return None  # Return None as a specific error indicator\n"
   ],
   "metadata": {
    "collapsed": false,
    "ExecuteTime": {
     "end_time": "2024-02-23T08:53:56.281079Z",
     "start_time": "2024-02-23T08:53:56.257106Z"
    }
   },
   "id": "e6aa89510cd4c01f",
   "execution_count": 2
  },
  {
   "cell_type": "code",
   "outputs": [],
   "source": [
    "parallel_manager = ParallelBrowserManager(workers=3)\n",
    "city = 'Zagreb'\n",
    "queries = ['Restoran Casablanca Zagreb', 'Coffee Shop Split', 'Library Rijeka']\n",
    "results = parallel_manager.perform_parallel_action(search_wrapper, [(query,) for query in queries])\n",
    "\n",
    "for result in results:\n",
    "    if result is not None:\n",
    "        print(result)\n",
    "    else:\n",
    "        print(\"Search failed or returned no results.\")"
   ],
   "metadata": {
    "collapsed": false,
    "is_executing": true,
    "ExecuteTime": {
     "start_time": "2024-02-23T09:12:30.032993Z"
    }
   },
   "id": "28ca60c4a4600fba",
   "execution_count": null
  },
  {
   "cell_type": "code",
   "outputs": [],
   "source": [],
   "metadata": {
    "collapsed": false,
    "ExecuteTime": {
     "end_time": "2024-02-21T14:06:50.558591Z",
     "start_time": "2024-02-21T14:06:50.557396Z"
    }
   },
   "id": "cb5e495409f85207",
   "execution_count": null
  },
  {
   "cell_type": "code",
   "outputs": [],
   "source": [],
   "metadata": {
    "collapsed": false,
    "ExecuteTime": {
     "end_time": "2024-02-21T14:09:18.265164Z",
     "start_time": "2024-02-21T14:09:16.989097Z"
    }
   },
   "id": "3a40fccef2e0c230",
   "execution_count": 1
  },
  {
   "cell_type": "code",
   "outputs": [],
   "source": [],
   "metadata": {
    "collapsed": false
   },
   "id": "91c1767148a93120"
  }
 ],
 "metadata": {
  "kernelspec": {
   "display_name": "Python 3",
   "language": "python",
   "name": "python3"
  },
  "language_info": {
   "codemirror_mode": {
    "name": "ipython",
    "version": 2
   },
   "file_extension": ".py",
   "mimetype": "text/x-python",
   "name": "python",
   "nbconvert_exporter": "python",
   "pygments_lexer": "ipython2",
   "version": "2.7.6"
  }
 },
 "nbformat": 4,
 "nbformat_minor": 5
}
