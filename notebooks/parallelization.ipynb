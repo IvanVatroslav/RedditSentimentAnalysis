{
 "cells": [
  {
   "cell_type": "code",
   "outputs": [
    {
     "name": "stdout",
     "output_type": "stream",
     "text": [
      "      Restaurant Title\n",
      "0     Plješivička Klet\n",
      "1              Vinodol\n",
      "2           Pri Zvoncu\n",
      "3  Batak Grill - Rudeš\n",
      "4      Restoran Taurus\n"
     ]
    }
   ],
   "source": [
    "import pandas as pd\n",
    "\n",
    "# Relative path to the CSV file\n",
    "file_path = \"../data/Zagreb/restaurant_list.csv\"\n",
    "\n",
    "# Load the CSV file into a DataFrame\n",
    "df = pd.read_csv(file_path)\n",
    "\n",
    "# Display the first few rows of the DataFrame\n",
    "print(df.head())\n"
   ],
   "metadata": {
    "collapsed": false,
    "ExecuteTime": {
     "end_time": "2024-02-27T10:03:26.750707Z",
     "start_time": "2024-02-27T10:03:25.100568Z"
    }
   },
   "id": "145bfa9d2db9be62",
   "execution_count": 1
  },
  {
   "cell_type": "code",
   "outputs": [],
   "source": [
    "from src.scraping.browser_managment import BrowserManager, ParallelBrowserManager\n",
    "from src.scraping.google_scraping.google_init import GoogleInit\n"
   ],
   "metadata": {
    "collapsed": false,
    "ExecuteTime": {
     "end_time": "2024-02-27T10:05:34.714212Z",
     "start_time": "2024-02-27T10:05:32.717881Z"
    }
   },
   "id": "2b15b3661d5b1b35",
   "execution_count": 1
  },
  {
   "cell_type": "code",
   "outputs": [],
   "source": [
    "def search_wrapper(query, city):\n",
    "    # Assume the query is the restaurant or place name\n",
    "    try:\n",
    "        # Simulate a search operation by just combining the place name with the city\n",
    "        result = f\"Searching for {query} in {city}... Success\"\n",
    "        return result\n",
    "    except Exception as exc:\n",
    "        print(f\"Error processing query '{query}': {exc}\")\n",
    "        return None  # Return None as a specific error indicator\n",
    "\n",
    "city = 'Zagreb'\n",
    "queries = ['Restoran Casablanca', 'Coffee Shop', 'Library']"
   ],
   "metadata": {
    "collapsed": false,
    "ExecuteTime": {
     "end_time": "2024-02-27T10:05:34.726060Z",
     "start_time": "2024-02-27T10:05:34.717577Z"
    }
   },
   "id": "e6aa89510cd4c01f",
   "execution_count": 2
  },
  {
   "cell_type": "code",
   "outputs": [
    {
     "name": "stdout",
     "output_type": "stream",
     "text": [
      "Task completed with result: Searching for Coffee Shop in Zagreb... Success\n",
      "Task completed with result: Searching for Library in Zagreb... Success\n",
      "Task completed with result: Searching for Restoran Casablanca in Zagreb... Success\n",
      "Searching for Coffee Shop in Zagreb... Success\n",
      "Searching for Library in Zagreb... Success\n",
      "Searching for Restoran Casablanca in Zagreb... Success\n"
     ]
    }
   ],
   "source": [
    "parallel_manager = ParallelBrowserManager(workers=3)\n",
    "results = parallel_manager.perform_parallel_action(search_wrapper, [(query, city) for query in queries])\n",
    "\n",
    "for result in results:\n",
    "    if result is not None:\n",
    "        print(result)\n",
    "    else:\n",
    "        print(\"Search failed or returned no results.\")"
   ],
   "metadata": {
    "collapsed": false,
    "ExecuteTime": {
     "end_time": "2024-02-27T10:05:34.753543Z",
     "start_time": "2024-02-27T10:05:34.729259Z"
    }
   },
   "id": "28ca60c4a4600fba",
   "execution_count": 3
  },
  {
   "cell_type": "code",
   "outputs": [
    {
     "name": "stdout",
     "output_type": "stream",
     "text": [
      "Error during search for 'Restoran Casablanca Zagreb': Message: element not interactable\n",
      "  (Session info: chrome=122.0.6261.70)\n",
      "Stacktrace:\n",
      "\tGetHandleVerifier [0x00558CD3+51395]\n",
      "\t(No symbol) [0x004C5F31]\n",
      "\t(No symbol) [0x0037E004]\n",
      "\t(No symbol) [0x003B2548]\n",
      "\t(No symbol) [0x003B16A4]\n",
      "\t(No symbol) [0x003D3E8C]\n",
      "\t(No symbol) [0x003ADF7E]\n",
      "\t(No symbol) [0x003D4124]\n",
      "\t(No symbol) [0x003EA570]\n",
      "\t(No symbol) [0x003D3C26]\n",
      "\t(No symbol) [0x003AC629]\n",
      "\t(No symbol) [0x003AD40D]\n",
      "\tGetHandleVerifier [0x008D6493+3711107]\n",
      "\tGetHandleVerifier [0x0091587A+3970154]\n",
      "\tGetHandleVerifier [0x00910B68+3950424]\n",
      "\tGetHandleVerifier [0x00609CD9+776393]\n",
      "\t(No symbol) [0x004D1704]\n",
      "\t(No symbol) [0x004CC5E8]\n",
      "\t(No symbol) [0x004CC799]\n",
      "\t(No symbol) [0x004BDDC0]\n",
      "\tBaseThreadInitThunk [0x767F7BA9+25]\n",
      "\tRtlInitializeExceptionChain [0x7713BD2B+107]\n",
      "\tRtlClearBits [0x7713BCAF+191]\n",
      "Search for 'Restoran Casablanca' in 'Zagreb' completed with result: False\n",
      "Error during search for 'Coffee Shop Zagreb': Message: element not interactable\n",
      "  (Session info: chrome=122.0.6261.70)\n",
      "Stacktrace:\n",
      "\tGetHandleVerifier [0x00558CD3+51395]\n",
      "\t(No symbol) [0x004C5F31]\n",
      "\t(No symbol) [0x0037E004]\n",
      "\t(No symbol) [0x003B2548]\n",
      "\t(No symbol) [0x003B16A4]\n",
      "\t(No symbol) [0x003D3E8C]\n",
      "\t(No symbol) [0x003ADF7E]\n",
      "\t(No symbol) [0x003D4124]\n",
      "\t(No symbol) [0x003EA570]\n",
      "\t(No symbol) [0x003D3C26]\n",
      "\t(No symbol) [0x003AC629]\n",
      "\t(No symbol) [0x003AD40D]\n",
      "\tGetHandleVerifier [0x008D6493+3711107]\n",
      "\tGetHandleVerifier [0x0091587A+3970154]\n",
      "\tGetHandleVerifier [0x00910B68+3950424]\n",
      "\tGetHandleVerifier [0x00609CD9+776393]\n",
      "\t(No symbol) [0x004D1704]\n",
      "\t(No symbol) [0x004CC5E8]\n",
      "\t(No symbol) [0x004CC799]\n",
      "\t(No symbol) [0x004BDDC0]\n",
      "\tBaseThreadInitThunk [0x767F7BA9+25]\n",
      "\tRtlInitializeExceptionChain [0x7713BD2B+107]\n",
      "\tRtlClearBits [0x7713BCAF+191]\n",
      "Search for 'Coffee Shop' in 'Zagreb' completed with result: False\n",
      "Error during search for 'Library Zagreb': Message: element not interactable\n",
      "  (Session info: chrome=122.0.6261.70)\n",
      "Stacktrace:\n",
      "\tGetHandleVerifier [0x00558CD3+51395]\n",
      "\t(No symbol) [0x004C5F31]\n",
      "\t(No symbol) [0x0037E004]\n",
      "\t(No symbol) [0x003B2548]\n",
      "\t(No symbol) [0x003B16A4]\n",
      "\t(No symbol) [0x003D3E8C]\n",
      "\t(No symbol) [0x003ADF7E]\n",
      "\t(No symbol) [0x003D4124]\n",
      "\t(No symbol) [0x003EA570]\n",
      "\t(No symbol) [0x003D3C26]\n",
      "\t(No symbol) [0x003AC629]\n",
      "\t(No symbol) [0x003AD40D]\n",
      "\tGetHandleVerifier [0x008D6493+3711107]\n",
      "\tGetHandleVerifier [0x0091587A+3970154]\n",
      "\tGetHandleVerifier [0x00910B68+3950424]\n",
      "\tGetHandleVerifier [0x00609CD9+776393]\n",
      "\t(No symbol) [0x004D1704]\n",
      "\t(No symbol) [0x004CC5E8]\n",
      "\t(No symbol) [0x004CC799]\n",
      "\t(No symbol) [0x004BDDC0]\n",
      "\tBaseThreadInitThunk [0x767F7BA9+25]\n",
      "\tRtlInitializeExceptionChain [0x7713BD2B+107]\n",
      "\tRtlClearBits [0x7713BCAF+191]\n",
      "Search for 'Library' in 'Zagreb' completed with result: False\n"
     ]
    }
   ],
   "source": [
    "from selenium import webdriver\n",
    "from selenium.webdriver.common.keys import Keys\n",
    "from selenium.webdriver.chrome.service import Service\n",
    "from webdriver_manager.chrome import ChromeDriverManager\n",
    "from selenium.webdriver.chrome.options import Options\n",
    "import time\n",
    "\n",
    "def search_wrapper(query, city):\n",
    "    try:\n",
    "        # Setup Chrome options for Selenium\n",
    "        chrome_options = Options()\n",
    "        # Uncomment the next line if you want the browser to run headless\n",
    "        # chrome_options.add_argument(\"--headless\")\n",
    "        chrome_options.add_argument(\"--no-sandbox\")\n",
    "        chrome_options.add_argument(\"--disable-dev-shm-usage\")\n",
    "\n",
    "        # Initialize the WebDriver\n",
    "        driver = webdriver.Chrome(service=Service(ChromeDriverManager().install()), options=chrome_options)\n",
    "\n",
    "        # Construct the search query\n",
    "        search_query = f\"{query} {city}\"\n",
    "\n",
    "        # Navigate to Google and perform the search\n",
    "        driver.get(\"http://www.google.com\")\n",
    "        search_box = driver.find_element(\"name\", \"q\")\n",
    "        search_box.send_keys(search_query + Keys.RETURN)  # Perform the search\n",
    "\n",
    "        # Optionally, add logic here to parse the results\n",
    "\n",
    "        # Let's just print the current URL after the search\n",
    "        print(f\"Performed search for '{search_query}', current URL: {driver.current_url}\")\n",
    "\n",
    "        # Close the browser\n",
    "        return True\n",
    "    except Exception as exc:\n",
    "        print(f\"Error during search for '{query} {city}': {exc}\")\n",
    "        return False\n",
    "\n",
    "# Example usage\n",
    "city = 'Zagreb'\n",
    "queries = ['Restoran Casablanca', 'Coffee Shop', 'Library']\n",
    "for query in queries:\n",
    "    result = search_wrapper(query, city)\n",
    "    print(f\"Search for '{query}' in '{city}' completed with result: {result}\")\n"
   ],
   "metadata": {
    "collapsed": false,
    "ExecuteTime": {
     "end_time": "2024-02-27T10:09:21.601318Z",
     "start_time": "2024-02-27T10:08:32.291111Z"
    }
   },
   "id": "cb5e495409f85207",
   "execution_count": 4
  },
  {
   "cell_type": "code",
   "outputs": [],
   "source": [],
   "metadata": {
    "collapsed": false,
    "ExecuteTime": {
     "end_time": "2024-02-27T10:03:27.520280Z",
     "start_time": "2024-02-27T10:03:27.515282Z"
    }
   },
   "id": "3a40fccef2e0c230",
   "execution_count": 4
  },
  {
   "cell_type": "code",
   "outputs": [],
   "source": [],
   "metadata": {
    "collapsed": false,
    "ExecuteTime": {
     "end_time": "2024-02-27T10:03:27.528290Z",
     "start_time": "2024-02-27T10:03:27.524084Z"
    }
   },
   "id": "91c1767148a93120",
   "execution_count": 4
  }
 ],
 "metadata": {
  "kernelspec": {
   "display_name": "Python 3",
   "language": "python",
   "name": "python3"
  },
  "language_info": {
   "codemirror_mode": {
    "name": "ipython",
    "version": 2
   },
   "file_extension": ".py",
   "mimetype": "text/x-python",
   "name": "python",
   "nbconvert_exporter": "python",
   "pygments_lexer": "ipython2",
   "version": "2.7.6"
  }
 },
 "nbformat": 4,
 "nbformat_minor": 5
}
