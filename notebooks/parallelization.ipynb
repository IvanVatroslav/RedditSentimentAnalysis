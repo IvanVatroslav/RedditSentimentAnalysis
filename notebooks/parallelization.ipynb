{
 "cells": [
  {
   "cell_type": "code",
   "execution_count": 10,
   "id": "initial_id",
   "metadata": {
    "collapsed": true,
    "ExecuteTime": {
     "end_time": "2024-02-19T13:15:52.547471200Z",
     "start_time": "2024-02-19T13:15:37.144868100Z"
    }
   },
   "outputs": [
    {
     "name": "stdout",
     "output_type": "stream",
     "text": [
      "Search for 5 completed with result: True\n",
      "Search for 3 completed with result: True\n",
      "Search for 1 completed with result: True\n",
      "Search for 2 completed with result: True\n",
      "Search for 4 completed with result: True\n"
     ]
    }
   ],
   "source": [
    "from src.scraping.googlescraping.parallel_browser_manager import ParallelBrowserManager\n",
    "\n",
    "# Initialize the ParallelBrowserManager with the desired number of workers\n",
    "parallel_manager = ParallelBrowserManager(num_workers=5)\n",
    "\n",
    "# List of numbers to search\n",
    "numbers_to_search = [1, 2, 3, 4, 5]\n",
    "\n",
    "# Perform the searches in parallel\n",
    "parallel_manager.perform_search(numbers_to_search)\n"
   ]
  }
 ],
 "metadata": {
  "kernelspec": {
   "display_name": "Python 3",
   "language": "python",
   "name": "python3"
  },
  "language_info": {
   "codemirror_mode": {
    "name": "ipython",
    "version": 2
   },
   "file_extension": ".py",
   "mimetype": "text/x-python",
   "name": "python",
   "nbconvert_exporter": "python",
   "pygments_lexer": "ipython2",
   "version": "2.7.6"
  }
 },
 "nbformat": 4,
 "nbformat_minor": 5
}
