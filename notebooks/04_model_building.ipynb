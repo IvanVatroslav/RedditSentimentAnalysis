{
 "cells": [
  {
   "cell_type": "code",
   "outputs": [],
   "source": [
    "import nltk\n",
    "from nltk.tokenize import word_tokenize\n",
    "from src.utils.stopwords_manager import StopwordsManager\n",
    "from src.utils.croatian_stopwords import croatian_stopwords\n",
    "from sklearn.model_selection import train_test_split\n",
    "from sklearn.naive_bayes import MultinomialNB\n",
    "from sklearn.feature_extraction.text import TfidfVectorizer\n",
    "from sklearn.pipeline import make_pipeline\n",
    "from sklearn.metrics import classification_report\n",
    "from numpy import e as np_e\n",
    "import warnings\n",
    "warnings.simplefilter(action='ignore', category=FutureWarning)\n",
    "\n"
   ],
   "metadata": {
    "collapsed": false,
    "ExecuteTime": {
     "end_time": "2024-02-14T13:46:13.518961600Z",
     "start_time": "2024-02-14T13:46:10.238809400Z"
    }
   },
   "id": "6f5cb18f2857c7d1",
   "execution_count": 1
  },
  {
   "cell_type": "code",
   "outputs": [
    {
     "data": {
      "text/plain": "                                     translated_review  rating\n0    Odličan restoran s klasičnim hrvatskim dodirom...       5\n1    Gostoljubiva, ljubazna, dobra hrana, velika vr...       5\n2    Razumna cijena.!Lijep ambijent naručio kozice ...       5\n3                       Okus u redu.Vrlo čist restoran       4\n4    Bilo je to savršeno dobro ugodno vjenčanje, pu...       5\n..                                                 ...     ...\n202                        NAJBOLJI RESTORAN U ZAGREBU       5\n203                       Preporuka za otići na gablec       5\n204              Dobar restoran po povoljnim cijenama.       4\n205  Parkirno mjesto puno mogućnosti parkiranja na ...       5\n206  Parking: Veliko parkiralište u krugu restorana...       5\n\n[207 rows x 2 columns]",
      "text/html": "<div>\n<style scoped>\n    .dataframe tbody tr th:only-of-type {\n        vertical-align: middle;\n    }\n\n    .dataframe tbody tr th {\n        vertical-align: top;\n    }\n\n    .dataframe thead th {\n        text-align: right;\n    }\n</style>\n<table border=\"1\" class=\"dataframe\">\n  <thead>\n    <tr style=\"text-align: right;\">\n      <th></th>\n      <th>translated_review</th>\n      <th>rating</th>\n    </tr>\n  </thead>\n  <tbody>\n    <tr>\n      <th>0</th>\n      <td>Odličan restoran s klasičnim hrvatskim dodirom...</td>\n      <td>5</td>\n    </tr>\n    <tr>\n      <th>1</th>\n      <td>Gostoljubiva, ljubazna, dobra hrana, velika vr...</td>\n      <td>5</td>\n    </tr>\n    <tr>\n      <th>2</th>\n      <td>Razumna cijena.!Lijep ambijent naručio kozice ...</td>\n      <td>5</td>\n    </tr>\n    <tr>\n      <th>3</th>\n      <td>Okus u redu.Vrlo čist restoran</td>\n      <td>4</td>\n    </tr>\n    <tr>\n      <th>4</th>\n      <td>Bilo je to savršeno dobro ugodno vjenčanje, pu...</td>\n      <td>5</td>\n    </tr>\n    <tr>\n      <th>...</th>\n      <td>...</td>\n      <td>...</td>\n    </tr>\n    <tr>\n      <th>202</th>\n      <td>NAJBOLJI RESTORAN U ZAGREBU</td>\n      <td>5</td>\n    </tr>\n    <tr>\n      <th>203</th>\n      <td>Preporuka za otići na gablec</td>\n      <td>5</td>\n    </tr>\n    <tr>\n      <th>204</th>\n      <td>Dobar restoran po povoljnim cijenama.</td>\n      <td>4</td>\n    </tr>\n    <tr>\n      <th>205</th>\n      <td>Parkirno mjesto puno mogućnosti parkiranja na ...</td>\n      <td>5</td>\n    </tr>\n    <tr>\n      <th>206</th>\n      <td>Parking: Veliko parkiralište u krugu restorana...</td>\n      <td>5</td>\n    </tr>\n  </tbody>\n</table>\n<p>207 rows × 2 columns</p>\n</div>"
     },
     "execution_count": 2,
     "metadata": {},
     "output_type": "execute_result"
    }
   ],
   "source": [
    "%%sql\n",
    "SELECT * FROM reviews_and_ratings_translated_no_emojis;"
   ],
   "metadata": {
    "collapsed": false,
    "SqlCellData": {
     "data_source_name": "redditsentimentanalysis@localhost",
     "variableName$1": "df_sql1"
    },
    "ExecuteTime": {
     "end_time": "2024-02-14T13:46:14.782513900Z",
     "start_time": "2024-02-14T13:46:10.142267300Z"
    }
   },
   "id": "9b823c158ae7420d",
   "execution_count": 2
  },
  {
   "cell_type": "code",
   "outputs": [
    {
     "name": "stderr",
     "output_type": "stream",
     "text": [
      "[nltk_data] Downloading package punkt to\n",
      "[nltk_data]     C:\\Users\\ivan.zeljeznjak\\AppData\\Roaming\\nltk_data...\n",
      "[nltk_data]   Package punkt is already up-to-date!\n"
     ]
    }
   ],
   "source": [
    "\n",
    "nltk.download('punkt')\n",
    "\n",
    "# Initialize the stopwords manager with Croatian stopwords\n",
    "stopwords_manager = StopwordsManager(base_stopwords=croatian_stopwords)\n",
    "\n",
    "# Function to clean text using StopwordsManager\n",
    "def clean_text(text):\n",
    "    word_tokens = word_tokenize(text)\n",
    "    return stopwords_manager.get_clean_text_for_sentiment(' '.join(word_tokens))\n",
    "\n",
    "# Apply the cleaning function to the 'text_column' of df_sql1\n",
    "df_sql1['cleaned_text'] = df_sql1['translated_review'].apply(clean_text)\n"
   ],
   "metadata": {
    "collapsed": true,
    "ExecuteTime": {
     "end_time": "2024-02-14T13:46:15.172209400Z",
     "start_time": "2024-02-14T13:46:14.789508300Z"
    }
   },
   "id": "initial_id",
   "execution_count": 3
  },
  {
   "cell_type": "code",
   "outputs": [
    {
     "data": {
      "text/plain": "                                     translated_review  rating  \\\n0    Odličan restoran s klasičnim hrvatskim dodirom...       5   \n1    Gostoljubiva, ljubazna, dobra hrana, velika vr...       5   \n2    Razumna cijena.!Lijep ambijent naručio kozice ...       5   \n3                       Okus u redu.Vrlo čist restoran       4   \n4    Bilo je to savršeno dobro ugodno vjenčanje, pu...       5   \n..                                                 ...     ...   \n202                        NAJBOLJI RESTORAN U ZAGREBU       5   \n203                       Preporuka za otići na gablec       5   \n204              Dobar restoran po povoljnim cijenama.       4   \n205  Parkirno mjesto puno mogućnosti parkiranja na ...       5   \n206  Parking: Veliko parkiralište u krugu restorana...       5   \n\n                                          cleaned_text  \n0    odličan klasičnim hrvatskim dodirom.lako prona...  \n1    gostoljubiva , ljubazna , dobra , velika vrije...  \n2    razumna cijena . ! lijep ambijent naručio kozi...  \n3                                  okus redu.vrlo čist  \n4    to savršeno dobro ugodno vjenčanje , prostora ...  \n..                                                 ...  \n202                                   najbolji zagrebu  \n203                             preporuka otići gablec  \n204                         dobar povoljnim cijenama .  \n205  parkirno mjesto mogućnosti parkiranja parkiran...  \n206  parking : veliko parkiralište krugu , prvih 2 ...  \n\n[207 rows x 3 columns]",
      "text/html": "<div>\n<style scoped>\n    .dataframe tbody tr th:only-of-type {\n        vertical-align: middle;\n    }\n\n    .dataframe tbody tr th {\n        vertical-align: top;\n    }\n\n    .dataframe thead th {\n        text-align: right;\n    }\n</style>\n<table border=\"1\" class=\"dataframe\">\n  <thead>\n    <tr style=\"text-align: right;\">\n      <th></th>\n      <th>translated_review</th>\n      <th>rating</th>\n      <th>cleaned_text</th>\n    </tr>\n  </thead>\n  <tbody>\n    <tr>\n      <th>0</th>\n      <td>Odličan restoran s klasičnim hrvatskim dodirom...</td>\n      <td>5</td>\n      <td>odličan klasičnim hrvatskim dodirom.lako prona...</td>\n    </tr>\n    <tr>\n      <th>1</th>\n      <td>Gostoljubiva, ljubazna, dobra hrana, velika vr...</td>\n      <td>5</td>\n      <td>gostoljubiva , ljubazna , dobra , velika vrije...</td>\n    </tr>\n    <tr>\n      <th>2</th>\n      <td>Razumna cijena.!Lijep ambijent naručio kozice ...</td>\n      <td>5</td>\n      <td>razumna cijena . ! lijep ambijent naručio kozi...</td>\n    </tr>\n    <tr>\n      <th>3</th>\n      <td>Okus u redu.Vrlo čist restoran</td>\n      <td>4</td>\n      <td>okus redu.vrlo čist</td>\n    </tr>\n    <tr>\n      <th>4</th>\n      <td>Bilo je to savršeno dobro ugodno vjenčanje, pu...</td>\n      <td>5</td>\n      <td>to savršeno dobro ugodno vjenčanje , prostora ...</td>\n    </tr>\n    <tr>\n      <th>...</th>\n      <td>...</td>\n      <td>...</td>\n      <td>...</td>\n    </tr>\n    <tr>\n      <th>202</th>\n      <td>NAJBOLJI RESTORAN U ZAGREBU</td>\n      <td>5</td>\n      <td>najbolji zagrebu</td>\n    </tr>\n    <tr>\n      <th>203</th>\n      <td>Preporuka za otići na gablec</td>\n      <td>5</td>\n      <td>preporuka otići gablec</td>\n    </tr>\n    <tr>\n      <th>204</th>\n      <td>Dobar restoran po povoljnim cijenama.</td>\n      <td>4</td>\n      <td>dobar povoljnim cijenama .</td>\n    </tr>\n    <tr>\n      <th>205</th>\n      <td>Parkirno mjesto puno mogućnosti parkiranja na ...</td>\n      <td>5</td>\n      <td>parkirno mjesto mogućnosti parkiranja parkiran...</td>\n    </tr>\n    <tr>\n      <th>206</th>\n      <td>Parking: Veliko parkiralište u krugu restorana...</td>\n      <td>5</td>\n      <td>parking : veliko parkiralište krugu , prvih 2 ...</td>\n    </tr>\n  </tbody>\n</table>\n<p>207 rows × 3 columns</p>\n</div>"
     },
     "execution_count": 4,
     "metadata": {},
     "output_type": "execute_result"
    }
   ],
   "source": [
    "df_sql1"
   ],
   "metadata": {
    "collapsed": false,
    "ExecuteTime": {
     "end_time": "2024-02-14T13:46:15.211347400Z",
     "start_time": "2024-02-14T13:46:15.156288500Z"
    }
   },
   "id": "d74406ad42b2fe2e",
   "execution_count": 4
  },
  {
   "cell_type": "code",
   "outputs": [],
   "source": [
    "X_train, X_test, y_train, y_test = train_test_split(df_sql1['cleaned_text'], df_sql1['rating'], test_size=1/np_e)"
   ],
   "metadata": {
    "collapsed": false,
    "ExecuteTime": {
     "end_time": "2024-02-14T13:46:15.213340600Z",
     "start_time": "2024-02-14T13:46:15.182209300Z"
    }
   },
   "id": "bb5b6b5f2c45870b",
   "execution_count": 5
  },
  {
   "cell_type": "code",
   "outputs": [
    {
     "data": {
      "text/plain": "Pipeline(steps=[('tfidfvectorizer', TfidfVectorizer()),\n                ('multinomialnb', MultinomialNB())])",
      "text/html": "<style>#sk-container-id-1 {color: black;background-color: white;}#sk-container-id-1 pre{padding: 0;}#sk-container-id-1 div.sk-toggleable {background-color: white;}#sk-container-id-1 label.sk-toggleable__label {cursor: pointer;display: block;width: 100%;margin-bottom: 0;padding: 0.3em;box-sizing: border-box;text-align: center;}#sk-container-id-1 label.sk-toggleable__label-arrow:before {content: \"▸\";float: left;margin-right: 0.25em;color: #696969;}#sk-container-id-1 label.sk-toggleable__label-arrow:hover:before {color: black;}#sk-container-id-1 div.sk-estimator:hover label.sk-toggleable__label-arrow:before {color: black;}#sk-container-id-1 div.sk-toggleable__content {max-height: 0;max-width: 0;overflow: hidden;text-align: left;background-color: #f0f8ff;}#sk-container-id-1 div.sk-toggleable__content pre {margin: 0.2em;color: black;border-radius: 0.25em;background-color: #f0f8ff;}#sk-container-id-1 input.sk-toggleable__control:checked~div.sk-toggleable__content {max-height: 200px;max-width: 100%;overflow: auto;}#sk-container-id-1 input.sk-toggleable__control:checked~label.sk-toggleable__label-arrow:before {content: \"▾\";}#sk-container-id-1 div.sk-estimator input.sk-toggleable__control:checked~label.sk-toggleable__label {background-color: #d4ebff;}#sk-container-id-1 div.sk-label input.sk-toggleable__control:checked~label.sk-toggleable__label {background-color: #d4ebff;}#sk-container-id-1 input.sk-hidden--visually {border: 0;clip: rect(1px 1px 1px 1px);clip: rect(1px, 1px, 1px, 1px);height: 1px;margin: -1px;overflow: hidden;padding: 0;position: absolute;width: 1px;}#sk-container-id-1 div.sk-estimator {font-family: monospace;background-color: #f0f8ff;border: 1px dotted black;border-radius: 0.25em;box-sizing: border-box;margin-bottom: 0.5em;}#sk-container-id-1 div.sk-estimator:hover {background-color: #d4ebff;}#sk-container-id-1 div.sk-parallel-item::after {content: \"\";width: 100%;border-bottom: 1px solid gray;flex-grow: 1;}#sk-container-id-1 div.sk-label:hover label.sk-toggleable__label {background-color: #d4ebff;}#sk-container-id-1 div.sk-serial::before {content: \"\";position: absolute;border-left: 1px solid gray;box-sizing: border-box;top: 0;bottom: 0;left: 50%;z-index: 0;}#sk-container-id-1 div.sk-serial {display: flex;flex-direction: column;align-items: center;background-color: white;padding-right: 0.2em;padding-left: 0.2em;position: relative;}#sk-container-id-1 div.sk-item {position: relative;z-index: 1;}#sk-container-id-1 div.sk-parallel {display: flex;align-items: stretch;justify-content: center;background-color: white;position: relative;}#sk-container-id-1 div.sk-item::before, #sk-container-id-1 div.sk-parallel-item::before {content: \"\";position: absolute;border-left: 1px solid gray;box-sizing: border-box;top: 0;bottom: 0;left: 50%;z-index: -1;}#sk-container-id-1 div.sk-parallel-item {display: flex;flex-direction: column;z-index: 1;position: relative;background-color: white;}#sk-container-id-1 div.sk-parallel-item:first-child::after {align-self: flex-end;width: 50%;}#sk-container-id-1 div.sk-parallel-item:last-child::after {align-self: flex-start;width: 50%;}#sk-container-id-1 div.sk-parallel-item:only-child::after {width: 0;}#sk-container-id-1 div.sk-dashed-wrapped {border: 1px dashed gray;margin: 0 0.4em 0.5em 0.4em;box-sizing: border-box;padding-bottom: 0.4em;background-color: white;}#sk-container-id-1 div.sk-label label {font-family: monospace;font-weight: bold;display: inline-block;line-height: 1.2em;}#sk-container-id-1 div.sk-label-container {text-align: center;}#sk-container-id-1 div.sk-container {/* jupyter's `normalize.less` sets `[hidden] { display: none; }` but bootstrap.min.css set `[hidden] { display: none !important; }` so we also need the `!important` here to be able to override the default hidden behavior on the sphinx rendered scikit-learn.org. See: https://github.com/scikit-learn/scikit-learn/issues/21755 */display: inline-block !important;position: relative;}#sk-container-id-1 div.sk-text-repr-fallback {display: none;}</style><div id=\"sk-container-id-1\" class=\"sk-top-container\"><div class=\"sk-text-repr-fallback\"><pre>Pipeline(steps=[(&#x27;tfidfvectorizer&#x27;, TfidfVectorizer()),\n                (&#x27;multinomialnb&#x27;, MultinomialNB())])</pre><b>In a Jupyter environment, please rerun this cell to show the HTML representation or trust the notebook. <br />On GitHub, the HTML representation is unable to render, please try loading this page with nbviewer.org.</b></div><div class=\"sk-container\" hidden><div class=\"sk-item sk-dashed-wrapped\"><div class=\"sk-label-container\"><div class=\"sk-label sk-toggleable\"><input class=\"sk-toggleable__control sk-hidden--visually\" id=\"sk-estimator-id-1\" type=\"checkbox\" ><label for=\"sk-estimator-id-1\" class=\"sk-toggleable__label sk-toggleable__label-arrow\">Pipeline</label><div class=\"sk-toggleable__content\"><pre>Pipeline(steps=[(&#x27;tfidfvectorizer&#x27;, TfidfVectorizer()),\n                (&#x27;multinomialnb&#x27;, MultinomialNB())])</pre></div></div></div><div class=\"sk-serial\"><div class=\"sk-item\"><div class=\"sk-estimator sk-toggleable\"><input class=\"sk-toggleable__control sk-hidden--visually\" id=\"sk-estimator-id-2\" type=\"checkbox\" ><label for=\"sk-estimator-id-2\" class=\"sk-toggleable__label sk-toggleable__label-arrow\">TfidfVectorizer</label><div class=\"sk-toggleable__content\"><pre>TfidfVectorizer()</pre></div></div></div><div class=\"sk-item\"><div class=\"sk-estimator sk-toggleable\"><input class=\"sk-toggleable__control sk-hidden--visually\" id=\"sk-estimator-id-3\" type=\"checkbox\" ><label for=\"sk-estimator-id-3\" class=\"sk-toggleable__label sk-toggleable__label-arrow\">MultinomialNB</label><div class=\"sk-toggleable__content\"><pre>MultinomialNB()</pre></div></div></div></div></div></div></div>"
     },
     "execution_count": 6,
     "metadata": {},
     "output_type": "execute_result"
    }
   ],
   "source": [
    "model = make_pipeline(TfidfVectorizer(), MultinomialNB())\n",
    "\n",
    "# Train the model with the training data\n",
    "model.fit(X_train, y_train)"
   ],
   "metadata": {
    "collapsed": false,
    "ExecuteTime": {
     "end_time": "2024-02-14T13:46:15.281787300Z",
     "start_time": "2024-02-14T13:46:15.195345600Z"
    }
   },
   "id": "128579db2600297f",
   "execution_count": 6
  },
  {
   "cell_type": "code",
   "outputs": [
    {
     "name": "stdout",
     "output_type": "stream",
     "text": [
      "              precision    recall  f1-score   support\n",
      "\n",
      "           1       0.00      0.00      0.00         7\n",
      "           2       0.00      0.00      0.00         1\n",
      "           3       0.00      0.00      0.00         6\n",
      "           4       0.00      0.00      0.00        17\n",
      "           5       0.60      1.00      0.75        46\n",
      "\n",
      "    accuracy                           0.60        77\n",
      "   macro avg       0.12      0.20      0.15        77\n",
      "weighted avg       0.36      0.60      0.45        77\n"
     ]
    },
    {
     "name": "stderr",
     "output_type": "stream",
     "text": [
      "C:\\ProgramData\\anaconda3\\Lib\\site-packages\\sklearn\\metrics\\_classification.py:1344: UndefinedMetricWarning: Precision and F-score are ill-defined and being set to 0.0 in labels with no predicted samples. Use `zero_division` parameter to control this behavior.\n",
      "  _warn_prf(average, modifier, msg_start, len(result))\n",
      "C:\\ProgramData\\anaconda3\\Lib\\site-packages\\sklearn\\metrics\\_classification.py:1344: UndefinedMetricWarning: Precision and F-score are ill-defined and being set to 0.0 in labels with no predicted samples. Use `zero_division` parameter to control this behavior.\n",
      "  _warn_prf(average, modifier, msg_start, len(result))\n",
      "C:\\ProgramData\\anaconda3\\Lib\\site-packages\\sklearn\\metrics\\_classification.py:1344: UndefinedMetricWarning: Precision and F-score are ill-defined and being set to 0.0 in labels with no predicted samples. Use `zero_division` parameter to control this behavior.\n",
      "  _warn_prf(average, modifier, msg_start, len(result))\n"
     ]
    }
   ],
   "source": [
    "\n",
    "# Predict the labels for the test set\n",
    "y_pred = model.predict(X_test)\n",
    "\n",
    "# Print out the classification report\n",
    "print(classification_report(y_test, y_pred))\n"
   ],
   "metadata": {
    "collapsed": false,
    "ExecuteTime": {
     "end_time": "2024-02-14T13:46:15.405642300Z",
     "start_time": "2024-02-14T13:46:15.254659500Z"
    }
   },
   "id": "fbcf398a61b07fb6",
   "execution_count": 7
  },
  {
   "cell_type": "code",
   "outputs": [],
   "source": [
    "#placeholder"
   ],
   "metadata": {
    "collapsed": false,
    "ExecuteTime": {
     "end_time": "2024-02-14T13:46:15.460184400Z",
     "start_time": "2024-02-14T13:46:15.293087400Z"
    }
   },
   "id": "19dcc9e67904349d",
   "execution_count": 8
  }
 ],
 "metadata": {
  "kernelspec": {
   "display_name": "Python 3",
   "language": "python",
   "name": "python3"
  },
  "language_info": {
   "codemirror_mode": {
    "name": "ipython",
    "version": 2
   },
   "file_extension": ".py",
   "mimetype": "text/x-python",
   "name": "python",
   "nbconvert_exporter": "python",
   "pygments_lexer": "ipython2",
   "version": "2.7.6"
  }
 },
 "nbformat": 4,
 "nbformat_minor": 5
}
