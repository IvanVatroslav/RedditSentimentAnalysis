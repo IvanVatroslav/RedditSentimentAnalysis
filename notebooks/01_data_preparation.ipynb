{
 "cells": [
  {
   "cell_type": "code",
   "execution_count": null,
   "id": "initial_id",
   "metadata": {
    "collapsed": true
   },
   "outputs": [],
   "source": [
    "from src.cleaning import ReviewCleaner\n"
   ]
  },
  {
   "cell_type": "code",
   "outputs": [],
   "source": [
    "cleaner = ReviewCleaner()"
   ],
   "metadata": {
    "collapsed": false
   },
   "id": "b5c63a351986a85f"
  },
  {
   "cell_type": "code",
   "outputs": [],
   "source": [
    "input_file_path = '../data/raw/reviews_and_ratings.csv'\n",
    "output_file_path = '../data/processed/reviews_and_ratings_cleaned.csv'\n",
    "cleaner.clean_csv_file(input_file_path, output_file_path, remove_emojis=True)"
   ],
   "metadata": {
    "collapsed": false
   },
   "id": "bd50d1c117ac1531"
  },
  {
   "cell_type": "code",
   "outputs": [],
   "source": [
    "translator = ReviewTranslator()"
   ],
   "metadata": {
    "collapsed": false
   },
   "id": "7f43dc9e8ffff745"
  },
  {
   "cell_type": "code",
   "outputs": [],
   "source": [
    "input_file_path = '../data/processed/reviews_and_ratings_cleaned_no_emojis.csv'\n",
    "output_file_path = '../data/processed/reviews_and_ratings_translated.csv'\n",
    "translator.translate_csv_file(input_file_path, output_file_path)"
   ],
   "metadata": {
    "collapsed": false
   },
   "id": "f43195d96575162"
  },
  {
   "cell_type": "code",
   "outputs": [
    {
     "data": {
      "text/plain": "                                     translated_review  rating\n0    Odličan restoran s klasičnim hrvatskim dodirom...       5\n1    Gostoljubiva, ljubazna, dobra hrana, velika vr...       5\n2    Razumna cijena.!Lijep ambijent naručio kozice ...       5\n3                       Okus u redu.Vrlo čist restoran       4\n4    Bilo je to savršeno dobro ugodno vjenčanje, pu...       5\n..                                                 ...     ...\n202                        NAJBOLJI RESTORAN U ZAGREBU       5\n203                       Preporuka za otići na gablec       5\n204              Dobar restoran po povoljnim cijenama.       4\n205  Parkirno mjesto puno mogućnosti parkiranja na ...       5\n206  Parking: Veliko parkiralište u krugu restorana...       5\n\n[207 rows x 2 columns]",
      "text/html": "<div>\n<style scoped>\n    .dataframe tbody tr th:only-of-type {\n        vertical-align: middle;\n    }\n\n    .dataframe tbody tr th {\n        vertical-align: top;\n    }\n\n    .dataframe thead th {\n        text-align: right;\n    }\n</style>\n<table border=\"1\" class=\"dataframe\">\n  <thead>\n    <tr style=\"text-align: right;\">\n      <th></th>\n      <th>translated_review</th>\n      <th>rating</th>\n    </tr>\n  </thead>\n  <tbody>\n    <tr>\n      <th>0</th>\n      <td>Odličan restoran s klasičnim hrvatskim dodirom...</td>\n      <td>5</td>\n    </tr>\n    <tr>\n      <th>1</th>\n      <td>Gostoljubiva, ljubazna, dobra hrana, velika vr...</td>\n      <td>5</td>\n    </tr>\n    <tr>\n      <th>2</th>\n      <td>Razumna cijena.!Lijep ambijent naručio kozice ...</td>\n      <td>5</td>\n    </tr>\n    <tr>\n      <th>3</th>\n      <td>Okus u redu.Vrlo čist restoran</td>\n      <td>4</td>\n    </tr>\n    <tr>\n      <th>4</th>\n      <td>Bilo je to savršeno dobro ugodno vjenčanje, pu...</td>\n      <td>5</td>\n    </tr>\n    <tr>\n      <th>...</th>\n      <td>...</td>\n      <td>...</td>\n    </tr>\n    <tr>\n      <th>202</th>\n      <td>NAJBOLJI RESTORAN U ZAGREBU</td>\n      <td>5</td>\n    </tr>\n    <tr>\n      <th>203</th>\n      <td>Preporuka za otići na gablec</td>\n      <td>5</td>\n    </tr>\n    <tr>\n      <th>204</th>\n      <td>Dobar restoran po povoljnim cijenama.</td>\n      <td>4</td>\n    </tr>\n    <tr>\n      <th>205</th>\n      <td>Parkirno mjesto puno mogućnosti parkiranja na ...</td>\n      <td>5</td>\n    </tr>\n    <tr>\n      <th>206</th>\n      <td>Parking: Veliko parkiralište u krugu restorana...</td>\n      <td>5</td>\n    </tr>\n  </tbody>\n</table>\n<p>207 rows × 2 columns</p>\n</div>"
     },
     "execution_count": 2,
     "metadata": {},
     "output_type": "execute_result"
    }
   ],
   "source": [
    "%%sql\n",
    "SELECT * FROM reviews_and_ratings_translated_no_emojis;"
   ],
   "metadata": {
    "collapsed": false,
    "SqlCellData": {
     "data_source_name": "redditsentimentanalysis@localhost",
     "variableName$1": "df_sql"
    },
    "ExecuteTime": {
     "end_time": "2024-02-11T23:31:15.318410700Z",
     "start_time": "2024-02-11T23:31:15.123418700Z"
    }
   },
   "id": "30afcb2b9cccdab8",
   "execution_count": 2
  }
 ],
 "metadata": {
  "kernelspec": {
   "display_name": "Python 3",
   "language": "python",
   "name": "python3"
  },
  "language_info": {
   "codemirror_mode": {
    "name": "ipython",
    "version": 2
   },
   "file_extension": ".py",
   "mimetype": "text/x-python",
   "name": "python",
   "nbconvert_exporter": "python",
   "pygments_lexer": "ipython2",
   "version": "2.7.6"
  }
 },
 "nbformat": 4,
 "nbformat_minor": 5
}
