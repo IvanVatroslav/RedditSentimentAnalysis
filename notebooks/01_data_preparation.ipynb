{
 "cells": [
  {
   "cell_type": "code",
   "execution_count": 1,
   "id": "initial_id",
   "metadata": {
    "collapsed": true,
    "ExecuteTime": {
     "end_time": "2024-02-10T20:30:50.702324800Z",
     "start_time": "2024-02-10T20:30:50.592456100Z"
    }
   },
   "outputs": [],
   "source": [
    "from src.cleaning import ReviewCleaner\n"
   ]
  },
  {
   "cell_type": "code",
   "outputs": [],
   "source": [
    "cleaner = ReviewCleaner()"
   ],
   "metadata": {
    "collapsed": false
   },
   "id": "b5c63a351986a85f"
  },
  {
   "cell_type": "code",
   "outputs": [],
   "source": [
    "input_file_path = '../data/raw/reviews_and_ratings.csv'\n",
    "output_file_path = '../data/processed/reviews_and_ratings_cleaned.csv'\n",
    "cleaner.clean_csv_file(input_file_path, output_file_path, remove_emojis=True)"
   ],
   "metadata": {
    "collapsed": false
   },
   "id": "bd50d1c117ac1531"
  },
  {
   "cell_type": "code",
   "outputs": [],
   "source": [
    "translator = ReviewTranslator()\n"
   ],
   "metadata": {
    "collapsed": false
   },
   "id": "7f43dc9e8ffff745"
  },
  {
   "cell_type": "code",
   "outputs": [],
   "source": [
    "input_file_path = '../data/processed/reviews_and_ratings_cleaned_no_emojis.csv'\n",
    "output_file_path = '../data/processed/reviews_and_ratings_translated.csv'\n",
    "translator.translate_csv_file(input_file_path, output_file_path)"
   ],
   "metadata": {
    "collapsed": false
   },
   "id": "f43195d96575162"
  },
  {
   "cell_type": "code",
   "outputs": [],
   "source": [
    "SELECT * FROM reviews_and_ratings_translated_no_emojis;"
   ],
   "metadata": {
    "collapsed": false
   },
   "id": "7b474002b4b49aa6"
  },
  {
   "cell_type": "code",
   "outputs": [],
   "source": [
    "#placeholder"
   ],
   "metadata": {
    "collapsed": false
   },
   "id": "389f0bbfefd35e54"
  }
 ],
 "metadata": {
  "kernelspec": {
   "display_name": "Python 3",
   "language": "python",
   "name": "python3"
  },
  "language_info": {
   "codemirror_mode": {
    "name": "ipython",
    "version": 2
   },
   "file_extension": ".py",
   "mimetype": "text/x-python",
   "name": "python",
   "nbconvert_exporter": "python",
   "pygments_lexer": "ipython2",
   "version": "2.7.6"
  }
 },
 "nbformat": 4,
 "nbformat_minor": 5
}
