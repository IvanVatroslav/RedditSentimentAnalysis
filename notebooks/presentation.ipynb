{
 "cells": [
  {
   "cell_type": "markdown",
   "source": [
    "<!-- Data Exploration Slide -->\n",
    "\n",
    "# Exploratory Analysis of Croatian Restaurant Reviews\n",
    "\n",
    "This slide showcases a word cloud visualization derived from a collection of Croatian restaurant reviews. The visual representation emphasizes frequently occurring terms within the reviews, offering preliminary insights into common sentiments expressed by customers.\n",
    "\n",
    "The analysis of these reviews will lay the groundwork for a more comprehensive sentiment analysis model, which will subsequently be applied to Croatian Reddit titles to discern overarching sentiments within the community.\n",
    "\n",
    "*Note: The word cloud is a part of the exploratory data analysis and illustrates prevalent terms that may be indicative of underlying sentiment trends.*\n"
   ],
   "metadata": {
    "collapsed": false
   },
   "id": "d8878ee9f70f40be"
  },
  {
   "cell_type": "markdown",
   "source": [
    "![Word Cloud](../images/exploratory_analysis/wordcloud.png)\n"
   ],
   "metadata": {
    "collapsed": false
   },
   "id": "180c29a33143cddf"
  },
  {
   "cell_type": "markdown",
   "source": [
    "<!-- Data Preprocessing Slide -->"
   ],
   "metadata": {
    "collapsed": false
   },
   "id": "86bb5776f4f1a86f"
  }
 ],
 "metadata": {
  "kernelspec": {
   "display_name": "Python 3",
   "language": "python",
   "name": "python3"
  },
  "language_info": {
   "codemirror_mode": {
    "name": "ipython",
    "version": 2
   },
   "file_extension": ".py",
   "mimetype": "text/x-python",
   "name": "python",
   "nbconvert_exporter": "python",
   "pygments_lexer": "ipython2",
   "version": "2.7.6"
  }
 },
 "nbformat": 4,
 "nbformat_minor": 5
}
