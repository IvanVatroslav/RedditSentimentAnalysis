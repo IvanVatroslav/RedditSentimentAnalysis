{
 "cells": [
  {
   "cell_type": "code",
   "outputs": [],
   "source": [
    "import random\n",
    "\n",
    "from selenium import webdriver\n",
    "from selenium.webdriver.common.by import By\n",
    "from selenium.webdriver.support.ui import WebDriverWait\n",
    "from selenium.webdriver.support import expected_conditions as EC\n",
    "from selenium.common.exceptions import ElementNotInteractableException, ElementClickInterceptedException\n",
    "import pandas as pd\n",
    "from pathlib import Path\n",
    "import unicodedata\n",
    "import re\n",
    "class DriverInit:\n",
    "    ACCEPT_COOKIES_XPATH = \"//button[@id='L2AGLb']\"\n",
    "    REVIEWS_TAB_XPATH = \"//span[text()='Reviews']\"\n",
    "    GOOGLE_SEARCH_XPATH = \"//textarea[@class='gLFyf']\"\n",
    "\n",
    "\n",
    "def __init__(self):\n",
    "    self.driver = webdriver.Chrome()\n",
    "    self.wait = WebDriverWait(self.driver, 10)\n",
    "    self.short_wait = WebDriverWait(self.driver, 5, poll_frequency=0.5)\n",
    "    self.driver.maximize_window()\n",
    "\n",
    "\n",
    "def navigate_to_url(self, url):\n",
    "    self.driver.get(url)\n",
    "    accept_cookies = self.wait.until(EC.element_to_be_clickable((By.XPATH, self.ACCEPT_COOKIES_XPATH)))\n",
    "    accept_cookies.click()\n",
    "\n",
    "\n",
    "def navigate_to_reviews_tab(self):\n",
    "    reviews_tab = self.wait.until(EC.element_to_be_clickable((By.XPATH, self.REVIEWS_TAB_XPATH)))\n",
    "    reviews_tab.click()\n",
    "\n",
    "\n",
    "def close_browser(self):\n",
    "    self.driver.quit()\n",
    "\n",
    "\n",
    "def go_to_restaurant_list(self):\n",
    "    self.wait.until(EC.element_to_be_clickable((By.XPATH, self.GOOGLE_SEARCH_XPATH))).send_keys('restorani')"
   ],
   "metadata": {
    "collapsed": false,
    "ExecuteTime": {
     "end_time": "2024-03-06T12:49:55.418849Z",
     "start_time": "2024-03-06T12:49:54.031514Z"
    }
   },
   "id": "94631cd15419b1f0",
   "execution_count": 1
  },
  {
   "cell_type": "code",
   "outputs": [],
   "source": [
    "city='Zagreb'"
   ],
   "metadata": {
    "collapsed": false,
    "ExecuteTime": {
     "end_time": "2024-03-06T12:49:55.434220Z",
     "start_time": "2024-03-06T12:49:55.422255Z"
    }
   },
   "id": "321f63b85f8c707",
   "execution_count": 2
  },
  {
   "cell_type": "code",
   "outputs": [],
   "source": [
    "url = 'https://www.google.hr'\n",
    "ACCEPT_COOKIES_XPATH = \"//button[@id='L2AGLb']\"\n",
    "REVIEWS_TAB_XPATH = \"//span[text()='Reviews']\"\n",
    "GOOGLE_SEARCH_XPATH = \"//textarea[@class='gLFyf']\"\n",
    "GO_TO_RESTAURANT_LIST_XPATH = \"//span[text()='Više mjesta']\""
   ],
   "metadata": {
    "collapsed": false,
    "ExecuteTime": {
     "end_time": "2024-03-06T12:49:55.449633Z",
     "start_time": "2024-03-06T12:49:55.437502Z"
    }
   },
   "id": "5a2dddd49f310d88",
   "execution_count": 3
  },
  {
   "cell_type": "code",
   "outputs": [
    {
     "name": "stderr",
     "output_type": "stream",
     "text": [
      "The chromedriver version (121.0.6167.85) detected in PATH at C:\\Users\\ivan.zeljeznjak\\Desktop\\chromedriver-win64\\chromedriver.exe might not be compatible with the detected chrome version (122.0.6261.95); currently, chromedriver 122.0.6261.94 is recommended for chrome 122.*, so it is advised to delete the driver in PATH and retry\n"
     ]
    }
   ],
   "source": [
    "driver = webdriver.Chrome()\n",
    "wait = WebDriverWait(driver, 10)\n",
    "short_wait = WebDriverWait(driver, 5, poll_frequency=0.5)\n",
    "driver.maximize_window()\n",
    "driver.get(url)"
   ],
   "metadata": {
    "collapsed": false,
    "ExecuteTime": {
     "end_time": "2024-03-06T12:50:00.787583Z",
     "start_time": "2024-03-06T12:49:55.454020Z"
    }
   },
   "id": "562ffda591c08c1a",
   "execution_count": 4
  },
  {
   "cell_type": "code",
   "outputs": [],
   "source": [
    "accept_cookies = wait.until(EC.element_to_be_clickable((By.XPATH, ACCEPT_COOKIES_XPATH)))\n",
    "accept_cookies.click()"
   ],
   "metadata": {
    "collapsed": false,
    "ExecuteTime": {
     "end_time": "2024-03-06T12:50:00.957663Z",
     "start_time": "2024-03-06T12:50:00.792285Z"
    }
   },
   "id": "1a4fdd40babe3400",
   "execution_count": 5
  },
  {
   "cell_type": "code",
   "outputs": [],
   "source": [
    "google_search_bar = wait.until(EC.element_to_be_clickable((By.XPATH, GOOGLE_SEARCH_XPATH)))\n",
    "google_search_bar.send_keys(f'restorani {city}')\n",
    "google_search_bar.submit()"
   ],
   "metadata": {
    "collapsed": false,
    "ExecuteTime": {
     "end_time": "2024-03-06T12:50:01.394285Z",
     "start_time": "2024-03-06T12:50:00.960753Z"
    }
   },
   "id": "7ac080bf6c2b3b6",
   "execution_count": 6
  },
  {
   "cell_type": "code",
   "outputs": [],
   "source": [
    "restaurant_list = wait.until(EC.element_to_be_clickable((By.XPATH, GO_TO_RESTAURANT_LIST_XPATH)))\n",
    "restaurant_list.click()"
   ],
   "metadata": {
    "collapsed": false,
    "ExecuteTime": {
     "end_time": "2024-03-06T12:50:06.063284Z",
     "start_time": "2024-03-06T12:50:01.398597Z"
    }
   },
   "id": "1a607bded863e742",
   "execution_count": 7
  },
  {
   "cell_type": "code",
   "outputs": [],
   "source": [
    "MORE_PLACES_XPATH = \"//span[text()='Više rezultata']\"\n",
    "LOADING_ICON_XPATH = \"//div[@data-hveid='CAQQAw']\"\n",
    "TITLE_XPATH = \"//span[@class='OSrXXb e62wic']\""
   ],
   "metadata": {
    "collapsed": false,
    "ExecuteTime": {
     "end_time": "2024-03-06T12:50:06.078752Z",
     "start_time": "2024-03-06T12:50:06.066282Z"
    }
   },
   "id": "39a578b4849da342",
   "execution_count": 8
  },
  {
   "cell_type": "code",
   "outputs": [],
   "source": [
    "import time\n",
    "from selenium.common.exceptions import TimeoutException, NoSuchElementException\n",
    "\n",
    "def get_last_element_text(driver, xpath):\n",
    "    \"\"\"\n",
    "    Retrieves the text of the last element matching the given XPath.\n",
    "    Returns None if no elements are found.\n",
    "    \"\"\"\n",
    "    try:\n",
    "        elements = driver.find_elements(By.XPATH, xpath)\n",
    "        if elements:\n",
    "            return elements[-1].text\n",
    "        else:\n",
    "            return None\n",
    "    except NoSuchElementException:\n",
    "        return None\n",
    "\n",
    "last_unique_element_text = None\n",
    "\n",
    "def wait_for_loading_complete(driver, loading_icon_xpath, timeout=10):\n",
    "    \"\"\"\n",
    "    Waits for the loading icon to disappear and reappear if necessary,\n",
    "    indicating that loading sequences have completed.\n",
    "    \"\"\"\n",
    "    end_time = time.time() + timeout\n",
    "    while time.time() < end_time:\n",
    "        try:\n",
    "            # Check for the presence of the loading icon.\n",
    "            loading_icon_present = WebDriverWait(driver, 2).until(\n",
    "                EC.visibility_of_element_located((By.XPATH, loading_icon_xpath))\n",
    "            )\n",
    "            if loading_icon_present:\n",
    "                # Wait for the loading icon to disappear.\n",
    "                WebDriverWait(driver, 5).until(\n",
    "                    EC.invisibility_of_element_located((By.XPATH, loading_icon_xpath))\n",
    "                )\n",
    "        except TimeoutException:\n",
    "            # If the loading icon isn't found or disappears and doesn't reappear, break the loop.\n",
    "            break\n",
    "\n",
    "\n"
   ],
   "metadata": {
    "collapsed": false,
    "ExecuteTime": {
     "end_time": "2024-03-06T12:50:06.110012Z",
     "start_time": "2024-03-06T12:50:06.082019Z"
    }
   },
   "id": "642749ffaeeb23c1",
   "execution_count": 9
  },
  {
   "cell_type": "code",
   "outputs": [
    {
     "name": "stdout",
     "output_type": "stream",
     "text": [
      "No new content loaded. End of list reached.\n"
     ]
    }
   ],
   "source": [
    "while True:\n",
    "    try:\n",
    "        # Wait for the \"more places\" button to become visible\n",
    "        more_places_button = wait.until(EC.visibility_of_element_located((By.XPATH, MORE_PLACES_XPATH)))\n",
    "        driver.execute_script(\"arguments[0].scrollIntoView({block: 'center'});\", more_places_button)\n",
    "\n",
    "        # Click the button using JavaScript\n",
    "        driver.execute_script(\"arguments[0].click();\", more_places_button)\n",
    "\n",
    "        # Dynamically wait for loading to complete\n",
    "        wait_for_loading_complete(driver, LOADING_ICON_XPATH)\n",
    "\n",
    "        # Retrieve the text of the last element\n",
    "        current_last_element_text = get_last_element_text(driver, TITLE_XPATH)\n",
    "\n",
    "        if current_last_element_text == last_unique_element_text:\n",
    "            print(\"No new content loaded. End of list reached.\")\n",
    "            break\n",
    "        else:\n",
    "            last_unique_element_text = current_last_element_text\n",
    "\n",
    "        # Wait for the \"more places\" button to become visible again\n",
    "        WebDriverWait(driver, 5).until(EC.visibility_of_element_located((By.XPATH, MORE_PLACES_XPATH)))\n",
    "\n",
    "    except TimeoutException:\n",
    "        print(\"All 'Više mjesta' elements have been clicked, or no more are found.\")\n",
    "        break\n",
    "    except (ElementNotInteractableException, ElementClickInterceptedException, NoSuchElementException):\n",
    "        print(\"The 'Više mjesta' button is no longer interactable or clickable. All content loaded.\")\n",
    "        break"
   ],
   "metadata": {
    "collapsed": false,
    "ExecuteTime": {
     "end_time": "2024-03-06T12:51:26.325252Z",
     "start_time": "2024-03-06T12:50:06.114191Z"
    }
   },
   "id": "e4047ece5dcb390a",
   "execution_count": 10
  },
  {
   "cell_type": "code",
   "outputs": [
    {
     "ename": "NameError",
     "evalue": "name 'titles' is not defined",
     "output_type": "error",
     "traceback": [
      "\u001B[1;31m---------------------------------------------------------------------------\u001B[0m",
      "\u001B[1;31mNameError\u001B[0m                                 Traceback (most recent call last)",
      "Cell \u001B[1;32mIn[11], line 1\u001B[0m\n\u001B[1;32m----> 1\u001B[0m \u001B[38;5;28mlen\u001B[39m(\u001B[43mtitles\u001B[49m)\n",
      "\u001B[1;31mNameError\u001B[0m: name 'titles' is not defined"
     ]
    }
   ],
   "source": [
    "len(titles)"
   ],
   "metadata": {
    "collapsed": false,
    "ExecuteTime": {
     "end_time": "2024-03-06T13:22:04.508339Z",
     "start_time": "2024-03-06T13:22:03.329694Z"
    }
   },
   "id": "bb3a0a54cdec97ca",
   "execution_count": 11
  },
  {
   "cell_type": "code",
   "outputs": [],
   "source": [
    "import pandas as pd\n",
    "from pathlib import Path\n",
    "\n",
    "# Create a DataFrame\n",
    "df_titles = pd.DataFrame(titles, columns=['Restaurant Title'])\n",
    "\n",
    "# Define the city variable\n",
    "city = 'Zagreb'  # Replace with the actual city name as needed\n",
    "\n",
    "# Specify the output file path relative to the project's root directory\n",
    "output_file_path = Path(f'../data/{city}/restaurant_list.csv')\n",
    "\n",
    "# Ensure the directory exists\n",
    "output_file_path.parent.mkdir(parents=True, exist_ok=True)\n",
    "\n",
    "# Save to CSV\n",
    "df_titles.to_csv(output_file_path, index=False)\n",
    "\n",
    "# Confirm the save\n",
    "# Print the absolute path of the file for confirmation\n",
    "print(f'File saved at {output_file_path.resolve()}')\n"
   ],
   "metadata": {
    "collapsed": false,
    "ExecuteTime": {
     "end_time": "2024-03-06T13:22:04.515221Z",
     "start_time": "2024-03-06T13:22:04.514159Z"
    }
   },
   "id": "2c95b440f97a5293",
   "execution_count": null
  },
  {
   "cell_type": "code",
   "outputs": [
    {
     "ename": "NameError",
     "evalue": "name 'output_file_path' is not defined",
     "output_type": "error",
     "traceback": [
      "\u001B[1;31m---------------------------------------------------------------------------\u001B[0m",
      "\u001B[1;31mNameError\u001B[0m                                 Traceback (most recent call last)",
      "Cell \u001B[1;32mIn[12], line 1\u001B[0m\n\u001B[1;32m----> 1\u001B[0m df\u001B[38;5;241m=\u001B[39mpd\u001B[38;5;241m.\u001B[39mread_csv(\u001B[43moutput_file_path\u001B[49m)\n",
      "\u001B[1;31mNameError\u001B[0m: name 'output_file_path' is not defined"
     ]
    }
   ],
   "source": [
    "df=pd.read_csv(output_file_path)"
   ],
   "metadata": {
    "collapsed": false,
    "ExecuteTime": {
     "end_time": "2024-03-06T13:22:06.031330Z",
     "start_time": "2024-03-06T13:22:05.967405Z"
    }
   },
   "id": "b84c53c50f45aa87",
   "execution_count": 12
  },
  {
   "cell_type": "code",
   "outputs": [
    {
     "ename": "NameError",
     "evalue": "name 'df' is not defined",
     "output_type": "error",
     "traceback": [
      "\u001B[1;31m---------------------------------------------------------------------------\u001B[0m",
      "\u001B[1;31mNameError\u001B[0m                                 Traceback (most recent call last)",
      "Cell \u001B[1;32mIn[13], line 40\u001B[0m\n\u001B[0;32m     37\u001B[0m     \u001B[38;5;28;01mreturn\u001B[39;00m cleaned_name, name_for_filename\n\u001B[0;32m     39\u001B[0m \u001B[38;5;66;03m# Apply the enhanced cleaning function\u001B[39;00m\n\u001B[1;32m---> 40\u001B[0m df[[\u001B[38;5;124m'\u001B[39m\u001B[38;5;124mCleaned Title\u001B[39m\u001B[38;5;124m'\u001B[39m, \u001B[38;5;124m'\u001B[39m\u001B[38;5;124mFile Name\u001B[39m\u001B[38;5;124m'\u001B[39m]] \u001B[38;5;241m=\u001B[39m \u001B[43mdf\u001B[49m\u001B[38;5;241m.\u001B[39mapply(\u001B[38;5;28;01mlambda\u001B[39;00m x: pd\u001B[38;5;241m.\u001B[39mSeries(clean_name(x[\u001B[38;5;124m'\u001B[39m\u001B[38;5;124mRestaurant Title\u001B[39m\u001B[38;5;124m'\u001B[39m])), axis\u001B[38;5;241m=\u001B[39m\u001B[38;5;241m1\u001B[39m)\n\u001B[0;32m     42\u001B[0m \u001B[38;5;66;03m# Drop rows where 'Cleaned Title' is None\u001B[39;00m\n\u001B[0;32m     43\u001B[0m df\u001B[38;5;241m.\u001B[39mdropna(subset\u001B[38;5;241m=\u001B[39m[\u001B[38;5;124m'\u001B[39m\u001B[38;5;124mCleaned Title\u001B[39m\u001B[38;5;124m'\u001B[39m], inplace\u001B[38;5;241m=\u001B[39m\u001B[38;5;28;01mTrue\u001B[39;00m)\n",
      "\u001B[1;31mNameError\u001B[0m: name 'df' is not defined"
     ]
    }
   ],
   "source": [
    "import pandas as pd\n",
    "import re\n",
    "import unicodedata\n",
    "\n",
    "def clean_name(name):\n",
    "    # Normalize to handle special characters and convert to lowercase\n",
    "    name = unicodedata.normalize('NFKD', name).encode('ascii', 'ignore').decode().lower()\n",
    "    generic_words = ['restoran', 'pizzeria']\n",
    "\n",
    "    # Remove generic words and handle special cases\n",
    "    for word in generic_words:\n",
    "        pattern = r'\\b' + re.escape(word) + r'\\b'\n",
    "        name = re.sub(pattern, '', name, flags=re.IGNORECASE)\n",
    "\n",
    "    # Replace & and - with space to handle cases like \"Lari & Penati\", \"Sofra - Borovje\"\n",
    "    name = name.replace('&', ' ').replace('-', ' ')\n",
    "\n",
    "    # Remove unwanted characters, keeping spaces and alphanumeric characters\n",
    "    name = re.sub(r\"[^a-z0-9\\s]\", '', name)\n",
    "\n",
    "    # Replace multiple spaces with a single space\n",
    "    name = re.sub(r'\\s+', ' ', name)\n",
    "\n",
    "    # Trim leading and trailing spaces\n",
    "    name = name.strip()\n",
    "\n",
    "    # If the name is empty after cleaning, return None\n",
    "    if not name:\n",
    "        return None, None\n",
    "\n",
    "    # Replace spaces with a single underscore for the file name\n",
    "    name_for_filename = name.replace(' ', '_')\n",
    "\n",
    "    # Fix casing for the cleaned title\n",
    "    cleaned_name = ' '.join(name.split()).title()\n",
    "\n",
    "    return cleaned_name, name_for_filename\n",
    "\n",
    "# Apply the enhanced cleaning function\n",
    "df[['Cleaned Title', 'File Name']] = df.apply(lambda x: pd.Series(clean_name(x['Restaurant Title'])), axis=1)\n",
    "\n",
    "# Drop rows where 'Cleaned Title' is None\n",
    "df.dropna(subset=['Cleaned Title'], inplace=True)\n"
   ],
   "metadata": {
    "collapsed": false,
    "ExecuteTime": {
     "end_time": "2024-03-06T13:22:22.245953Z",
     "start_time": "2024-03-06T13:22:22.174872Z"
    }
   },
   "id": "a7eef8f3bed6a3a9",
   "execution_count": 13
  },
  {
   "cell_type": "code",
   "outputs": [
    {
     "ename": "NameError",
     "evalue": "name 'df' is not defined",
     "output_type": "error",
     "traceback": [
      "\u001B[1;31m---------------------------------------------------------------------------\u001B[0m",
      "\u001B[1;31mNameError\u001B[0m                                 Traceback (most recent call last)",
      "Cell \u001B[1;32mIn[14], line 1\u001B[0m\n\u001B[1;32m----> 1\u001B[0m \u001B[43mdf\u001B[49m\n",
      "\u001B[1;31mNameError\u001B[0m: name 'df' is not defined"
     ]
    }
   ],
   "source": [
    "df"
   ],
   "metadata": {
    "collapsed": false,
    "ExecuteTime": {
     "end_time": "2024-03-06T13:22:23.980557Z",
     "start_time": "2024-03-06T13:22:23.929793Z"
    }
   },
   "id": "a793e972b71cc345",
   "execution_count": 14
  },
  {
   "cell_type": "code",
   "outputs": [
    {
     "ename": "NameError",
     "evalue": "name 'df' is not defined",
     "output_type": "error",
     "traceback": [
      "\u001B[1;31m---------------------------------------------------------------------------\u001B[0m",
      "\u001B[1;31mNameError\u001B[0m                                 Traceback (most recent call last)",
      "Cell \u001B[1;32mIn[15], line 1\u001B[0m\n\u001B[1;32m----> 1\u001B[0m \u001B[43mdf\u001B[49m\u001B[38;5;241m.\u001B[39miloc[\u001B[38;5;241m1\u001B[39m,\u001B[38;5;241m0\u001B[39m]\n",
      "\u001B[1;31mNameError\u001B[0m: name 'df' is not defined"
     ]
    }
   ],
   "source": [
    "df.iloc[1,0]"
   ],
   "metadata": {
    "collapsed": false,
    "ExecuteTime": {
     "end_time": "2024-03-06T13:22:25.276414Z",
     "start_time": "2024-03-06T13:22:25.226244Z"
    }
   },
   "id": "f74e976aa921dae4",
   "execution_count": 15
  },
  {
   "cell_type": "code",
   "outputs": [
    {
     "ename": "NameError",
     "evalue": "name 'df' is not defined",
     "output_type": "error",
     "traceback": [
      "\u001B[1;31m---------------------------------------------------------------------------\u001B[0m",
      "\u001B[1;31mNameError\u001B[0m                                 Traceback (most recent call last)",
      "Cell \u001B[1;32mIn[16], line 1\u001B[0m\n\u001B[1;32m----> 1\u001B[0m \u001B[38;5;28;01mfor\u001B[39;00m index, row \u001B[38;5;129;01min\u001B[39;00m \u001B[43mdf\u001B[49m\u001B[38;5;241m.\u001B[39miterrows():\n\u001B[0;32m      2\u001B[0m     restaurant_name \u001B[38;5;241m=\u001B[39m row[\u001B[38;5;124m'\u001B[39m\u001B[38;5;124mRestaurant Title\u001B[39m\u001B[38;5;124m'\u001B[39m]\n\u001B[0;32m      3\u001B[0m     \u001B[38;5;28mprint\u001B[39m(restaurant_name)\n",
      "\u001B[1;31mNameError\u001B[0m: name 'df' is not defined"
     ]
    }
   ],
   "source": [
    "for index, row in df.iterrows():\n",
    "    restaurant_name = row['Restaurant Title']\n",
    "    print(restaurant_name)"
   ],
   "metadata": {
    "collapsed": false,
    "ExecuteTime": {
     "end_time": "2024-03-06T13:22:26.248244Z",
     "start_time": "2024-03-06T13:22:26.118379Z"
    }
   },
   "id": "ef5132af94cab83e",
   "execution_count": 16
  },
  {
   "cell_type": "code",
   "outputs": [],
   "source": [
    "import random\n",
    "\n",
    "from selenium import webdriver\n",
    "from selenium.webdriver.common.by import By\n",
    "from selenium.webdriver.support.ui import WebDriverWait\n",
    "from selenium.webdriver.support import expected_conditions as EC\n",
    "from selenium.common.exceptions import ElementNotInteractableException, ElementClickInterceptedException\n",
    "import pandas as pd\n",
    "from pathlib import Path\n",
    "import unicodedata\n",
    "import re"
   ],
   "metadata": {
    "collapsed": false,
    "ExecuteTime": {
     "end_time": "2024-03-06T13:26:36.355818Z",
     "start_time": "2024-03-06T13:26:34.010988Z"
    }
   },
   "id": "1930c75a42f5e09c",
   "execution_count": 1
  },
  {
   "cell_type": "code",
   "outputs": [],
   "source": [],
   "metadata": {
    "collapsed": false
   },
   "id": "631956f69e3a7123"
  },
  {
   "cell_type": "code",
   "outputs": [],
   "source": [
    "url = 'https://www.google.hr'\n",
    "city = 'Zagreb'\n",
    "ACCEPT_COOKIES_XPATH = \"//button[@id='L2AGLb']\"\n",
    "REVIEWS_TAB_XPATH = \"//span[text()='Reviews']\"\n",
    "GOOGLE_SEARCH_XPATH = \"//textarea[@class='gLFyf']\"\n",
    "RESTAURANT_REVIEWS_REDIRECT_XPATH = '//a[contains(text(), \" recenzija\")]'\n",
    "RESTAURANT_REVIEWS_LINK_XPATH = '//a[@class=\"Ky0SRd\"]'"
   ],
   "metadata": {
    "collapsed": false,
    "ExecuteTime": {
     "end_time": "2024-03-06T13:26:36.372003Z",
     "start_time": "2024-03-06T13:26:36.360179Z"
    }
   },
   "id": "210e5b89e1e7282f",
   "execution_count": 2
  },
  {
   "cell_type": "code",
   "outputs": [
    {
     "name": "stderr",
     "output_type": "stream",
     "text": [
      "The chromedriver version (121.0.6167.85) detected in PATH at C:\\Users\\ivan.zeljeznjak\\Desktop\\chromedriver-win64\\chromedriver.exe might not be compatible with the detected chrome version (122.0.6261.95); currently, chromedriver 122.0.6261.94 is recommended for chrome 122.*, so it is advised to delete the driver in PATH and retry\n"
     ]
    }
   ],
   "source": [
    "driver = webdriver.Chrome()\n",
    "wait = WebDriverWait(driver, 60)\n",
    "short_wait = WebDriverWait(driver, 60, poll_frequency=0.5)\n",
    "driver.maximize_window()\n",
    "driver.get(url)"
   ],
   "metadata": {
    "collapsed": false,
    "ExecuteTime": {
     "end_time": "2024-03-06T13:26:44.275513Z",
     "start_time": "2024-03-06T13:26:36.375246Z"
    }
   },
   "id": "664ff89d9632c30d",
   "execution_count": 3
  },
  {
   "cell_type": "code",
   "outputs": [],
   "source": [
    "accept_cookies = wait.until(EC.element_to_be_clickable((By.XPATH, ACCEPT_COOKIES_XPATH)))\n",
    "accept_cookies.click()"
   ],
   "metadata": {
    "collapsed": false,
    "ExecuteTime": {
     "end_time": "2024-03-06T13:26:44.439253Z",
     "start_time": "2024-03-06T13:26:44.279175Z"
    }
   },
   "id": "9322087922fc1a92",
   "execution_count": 4
  },
  {
   "cell_type": "code",
   "outputs": [],
   "source": [
    "google_search_bar = wait.until(EC.element_to_be_clickable((By.XPATH, GOOGLE_SEARCH_XPATH)))\n",
    "google_search_bar.send_keys(f'Kavana i restoran Johann Franck {city}')\n",
    "google_search_bar.submit()"
   ],
   "metadata": {
    "collapsed": false,
    "ExecuteTime": {
     "end_time": "2024-03-06T13:26:44.950Z",
     "start_time": "2024-03-06T13:26:44.444285Z"
    }
   },
   "id": "e98b95ddd62c2bac",
   "execution_count": 5
  },
  {
   "cell_type": "code",
   "outputs": [
    {
     "name": "stdout",
     "output_type": "stream",
     "text": [
      "5996 number of reviews\n"
     ]
    }
   ],
   "source": [
    "# Wait for the element to be clickable\n",
    "review_count_element = wait.until(EC.element_to_be_clickable((By.XPATH, RESTAURANT_REVIEWS_REDIRECT_XPATH)))\n",
    "\n",
    "# Extract the text from the element\n",
    "review_count_text = review_count_element.text  # Corrected here, no parentheses\n",
    "\n",
    "# Remove the dot and convert to integer\n",
    "review_count = int(review_count_text.split()[0].replace('.', ''))\n",
    "\n",
    "print(review_count, 'number of reviews')  # Output should be 5986\n",
    "\n",
    "# Click on the element to redirect to reviews\n",
    "reviews_redirect = wait.until(EC.element_to_be_clickable((By.XPATH, RESTAURANT_REVIEWS_REDIRECT_XPATH)))\n",
    "reviews_redirect.click()"
   ],
   "metadata": {
    "collapsed": false,
    "ExecuteTime": {
     "end_time": "2024-03-06T13:26:48.559943Z",
     "start_time": "2024-03-06T13:26:44.954462Z"
    }
   },
   "id": "8f4bf458ef905a08",
   "execution_count": 6
  },
  {
   "cell_type": "code",
   "outputs": [],
   "source": [
    "reviews_link = wait.until(EC.element_to_be_clickable((By.XPATH , RESTAURANT_REVIEWS_LINK_XPATH)))\n",
    "reviews_link.click()"
   ],
   "metadata": {
    "collapsed": false,
    "ExecuteTime": {
     "end_time": "2024-03-06T13:26:49.760960Z",
     "start_time": "2024-03-06T13:26:48.563399Z"
    }
   },
   "id": "9af3fe62eceaf646",
   "execution_count": 7
  },
  {
   "cell_type": "code",
   "outputs": [],
   "source": [
    "from selenium.common.exceptions import NoSuchElementException, TimeoutException\n",
    "from selenium.webdriver.common.by import By\n",
    "from selenium.webdriver.support import expected_conditions as EC\n",
    "import pandas as pd\n",
    "import re\n",
    "import os\n",
    "\n",
    "from selenium.webdriver.support.wait import WebDriverWait\n",
    "\n",
    "\n",
    "class ReviewScraper:\n",
    "    FIRST_REVIEW_XPATH = (\"//*[@id='akp_tsuid_13']/div/div[1]/div/g-sticky-content-container/div/block-component/div\"\n",
    "                          \"/div[1]/div/div/div/div[1]/div/div/div[6]/g-flippy-carousel/div/div/ol/li[\"\n",
    "                          \"3]/span/div/div/div/div[2]/c-wiz/div/div[2]/div[1]/div[1]\")\n",
    "    REVIEW_ELEMENTS_XPATH = \"//*[@data-hveid='2']/following-sibling::*//div[@class='OA1nbd']\"\n",
    "    TRANSLATE_BUTTON_XPATH = (\"//div[@data-attrid='kc:/local:all reviews']//div[3]/div/div[{i}]/div[3]//button[\"\n",
    "                              \"contains(@class, 'qGGAec') and .//span[contains(text(), 'Translated by Google')]]\")\n",
    "    MORE_BUTTON_XPATH = \"//div[@class='OA1nbd']//a[@role='button' and contains(text(), 'Više')]\"\n",
    "    REVIEW_XPATH = \"//div[@class='OA1nbd']\"\n",
    "    RATING_XPATH = (\"//div[@data-attrid='kc:/local:all reviews']//div[3]/div/div[{i}]//div[contains(@aria-label, \"\n",
    "                    \"'Rated') and contains(@role, 'img')]\")\n",
    "    #LOADING_INDICATOR = \"//div[string-length(@data-loadingmessage) > 0]\"\n",
    "    LOADING_INDICATOR = \"//div[@jscontroller='qAKInc'][string-length(@data-loadingmessage) > 0]\"\n",
    "    REVIEW_BLOCK_XPATH = \"//div[contains(@class, 'bwb7ce')]\"\n",
    "\n",
    "    def __init__(self, driver_init=None, driver=None):\n",
    "        self.previous_total_reviews = None\n",
    "        if driver is not None:\n",
    "            self.driver = driver\n",
    "            self.wait = WebDriverWait(driver, 10)\n",
    "            self.short_wait = WebDriverWait(driver, 5, poll_frequency=0.5)\n",
    "        elif driver_init is not None:\n",
    "            self.driver = driver_init.driver\n",
    "            self.wait = driver_init.wait\n",
    "            self.short_wait = driver_init.short_wait\n",
    "        else:\n",
    "            raise ValueError(\"Either driver_init or driver must be provided.\")\n",
    "\n",
    "        self.previous_last_review_text = None\n",
    "        self.reviews_df = pd.DataFrame(columns=['Review', 'Rating'])\n",
    "        self.review_with_text_count = 0\n",
    "\n",
    "    def return_to_first_review(self):\n",
    "        try:\n",
    "            first_review_element = self.wait.until(\n",
    "                EC.visibility_of_element_located((By.XPATH, self.REVIEW_BLOCK_XPATH)))\n",
    "            self.driver.execute_script(\"arguments[0].scrollIntoView(true);\", first_review_element)\n",
    "        except Exception as e:\n",
    "            print(f\"Error scrolling to first review: {e}\")\n",
    "\n",
    "    def load_reviews(self):\n",
    "        self.previous_total_reviews = 0\n",
    "        # Ensure visibility of initial reviews\n",
    "        self.wait.until(EC.visibility_of_element_located((By.XPATH, self.REVIEW_BLOCK_XPATH)))\n",
    "        while True:\n",
    "            # Wait for any loading indicators to disappear, ensuring the page is ready\n",
    "            self.short_wait.until(EC.invisibility_of_element((By.XPATH, self.LOADING_INDICATOR)))\n",
    "\n",
    "            review_elements = self.driver.find_elements(By.XPATH, self.REVIEW_BLOCK_XPATH)\n",
    "            current_total_reviews = len(review_elements)\n",
    "\n",
    "            if not review_elements or current_total_reviews == self.previous_total_reviews:\n",
    "                # If no new reviews are loaded or if the count hasn't changed, exit the loop\n",
    "                break\n",
    "\n",
    "            scroll_target_xpath = \".//div[4]\"  # Adjust based on the precise element you need to scroll to\n",
    "            scroll_target = review_elements[-1].find_element(By.XPATH, scroll_target_xpath)\n",
    "\n",
    "            # Scroll to the specific target element to trigger loading more reviews\n",
    "            self.driver.execute_script(\"arguments[0].scrollIntoView(true);\", scroll_target)\n",
    "\n",
    "            # Use WebDriverWait to explicitly wait for the number of reviews to increase\n",
    "            try:\n",
    "                WebDriverWait(self.driver, 10).until(\n",
    "                    lambda driver: len(driver.find_elements(By.XPATH, self.REVIEW_BLOCK_XPATH)) > self.previous_total_reviews)\n",
    "                # Update current count after waiting\n",
    "                current_total_reviews = len(self.driver.find_elements(By.XPATH, self.REVIEW_BLOCK_XPATH))\n",
    "            except TimeoutException:\n",
    "                # If no new reviews are loaded within the timeout, assume all reviews are loaded\n",
    "                break\n",
    "\n",
    "            self.previous_total_reviews = current_total_reviews\n",
    "            self.short_wait.until(EC.invisibility_of_element((By.XPATH, self.LOADING_INDICATOR)))\n",
    "        print(f\"Final count of reviews loaded: {current_total_reviews}\")\n",
    "\n",
    "    def click_translate_buttons(self):\n",
    "        try:\n",
    "            review_elements = self.driver.find_elements(By.XPATH, self.REVIEW_ELEMENTS_XPATH)\n",
    "            for i, _ in enumerate(review_elements, start=1):\n",
    "                translate_button_xpath = self.TRANSLATE_BUTTON_XPATH.format(i=i)\n",
    "                translate_buttons = self.driver.find_elements(By.XPATH, translate_button_xpath)\n",
    "                if translate_buttons:\n",
    "                    translate_buttons[0].click()\n",
    "        except Exception as e:\n",
    "            print(f\"Error clicking translate buttons: {e}\")\n",
    "\n",
    "    def click_more_buttons(self):\n",
    "        try:\n",
    "            more_buttons = self.driver.find_elements(By.XPATH, self.MORE_BUTTON_XPATH)\n",
    "            for button in more_buttons:\n",
    "                if button.is_displayed():\n",
    "                    self.driver.execute_script(\"arguments[0].scrollIntoView();\", button)\n",
    "                    try:\n",
    "                        button.click()\n",
    "                    except Exception as e:\n",
    "                        print(f\"Skipping a non-interactable 'More' button: {e}\")\n",
    "        except Exception as e:\n",
    "            print(f\"Error clicking 'More' buttons: {e}\")\n",
    "\n",
    "    @staticmethod\n",
    "    def extract_rating(aria_label):\n",
    "        # Assuming the format is \"Ocijenjeno s 5,0 od ukupno 5\"\n",
    "        # Adjust the regular expression to match this format\n",
    "        match = re.search(r\"Ocijenjeno s (\\d+,\\d+|\\d+) od ukupno 5\", aria_label)\n",
    "        if match:\n",
    "            # Replace comma with dot for float conversion if necessary\n",
    "            rating_str = match.group(1).replace(',', '.')\n",
    "            return float(rating_str)\n",
    "        else:\n",
    "            return None\n",
    "\n",
    "    def collect_reviews(self):\n",
    "        common_parents = self.driver.find_elements(By.XPATH, self.REVIEW_BLOCK_XPATH)\n",
    "        print(f\"Found {len(common_parents)} common parent elements.\")\n",
    "\n",
    "        # Initialize count of non-empty reviews collected\n",
    "        count_non_empty_reviews = 0\n",
    "\n",
    "        for i, common_parent_element in enumerate(common_parents, start=1):\n",
    "            try:\n",
    "                review_element = common_parent_element.find_element(By.XPATH, \".//div[contains(@class, 'OA1nbd')]\")\n",
    "                rating_element = common_parent_element.find_element(By.XPATH,\n",
    "                                                                    \".//div[@role='img'][contains(@aria-label, 'Ocijenjeno s')]\")\n",
    "\n",
    "                review_text = review_element.text.strip()\n",
    "                if review_text:  # Ensure review text is not empty\n",
    "                    rating_text = rating_element.get_attribute('aria-label')\n",
    "                    rating = self.extract_rating(rating_text)  # Extract numerical rating\n",
    "\n",
    "                    if rating is not None:  # Check if rating extraction was successful\n",
    "                        # Append review and rating to DataFrame\n",
    "                        self.reviews_df.loc[len(self.reviews_df)] = [review_text, rating]\n",
    "                        count_non_empty_reviews += 1  # Increment count of collected reviews\n",
    "\n",
    "            except NoSuchElementException:\n",
    "                print(f\"Review or rating not found for block {i}. Skipping...\")\n",
    "\n",
    "        print(f\"Collection completed. Total reviews collected: {count_non_empty_reviews}\")\n",
    "\n",
    "    def save_reviews_to_csv(self, filename='reviews_and_ratings.csv'):\n",
    "        project_root = os.path.dirname(os.getcwd())\n",
    "        directory = os.path.join(project_root, 'data', 'raw')\n",
    "\n",
    "        if not os.path.exists(directory):\n",
    "            os.makedirs(directory)\n",
    "\n",
    "        filepath = os.path.join(directory, filename)\n",
    "\n",
    "        try:\n",
    "            self.reviews_df.to_csv(filepath, index=False)\n",
    "            print(f\"Saved reviews to {filepath}\")\n",
    "        except Exception as e:\n",
    "            print(f\"Error saving reviews to CSV: {e}\")\n"
   ],
   "metadata": {
    "collapsed": false,
    "ExecuteTime": {
     "end_time": "2024-03-06T13:26:49.823120Z",
     "start_time": "2024-03-06T13:26:49.763963Z"
    }
   },
   "id": "be42ebfa7f24c6ca",
   "execution_count": 8
  },
  {
   "cell_type": "code",
   "outputs": [],
   "source": [
    "review_scraper = ReviewScraper(driver=driver)"
   ],
   "metadata": {
    "collapsed": false,
    "ExecuteTime": {
     "end_time": "2024-03-06T13:26:49.838197Z",
     "start_time": "2024-03-06T13:26:49.827195Z"
    }
   },
   "id": "4238b08cc5b46681",
   "execution_count": 9
  },
  {
   "cell_type": "code",
   "outputs": [
    {
     "name": "stderr",
     "output_type": "stream",
     "text": [
      "\n",
      "KeyboardInterrupt\n",
      "\n"
     ]
    }
   ],
   "source": [
    "review_scraper.load_reviews()"
   ],
   "metadata": {
    "collapsed": false,
    "ExecuteTime": {
     "end_time": "2024-03-06T13:26:54.266211Z",
     "start_time": "2024-03-06T13:26:49.842195Z"
    }
   },
   "id": "7d77da306b8f9e97",
   "execution_count": 10
  },
  {
   "cell_type": "code",
   "outputs": [],
   "source": [
    "review_scraper.click_more_buttons()"
   ],
   "metadata": {
    "collapsed": false,
    "ExecuteTime": {
     "start_time": "2024-03-06T13:26:54.270574Z"
    }
   },
   "id": "94aaf0054a56a3df",
   "execution_count": null
  },
  {
   "cell_type": "code",
   "outputs": [],
   "source": [
    "review_scraper.collect_reviews()"
   ],
   "metadata": {
    "collapsed": false
   },
   "id": "24e036671cc805c4",
   "execution_count": null
  },
  {
   "cell_type": "code",
   "outputs": [],
   "source": [
    "review_scraper.save_reviews_to_csv()"
   ],
   "metadata": {
    "collapsed": false
   },
   "id": "cbf40f15b8e9af88",
   "execution_count": null
  },
  {
   "cell_type": "markdown",
   "source": [
    "todo: dodaj neki counter za % reviewa koji su collectani, usporedi loadanje reviewe sa ukupnim "
   ],
   "metadata": {
    "collapsed": false
   },
   "id": "bcfe939cac053fee"
  }
 ],
 "metadata": {
  "kernelspec": {
   "name": "redditsentimentanalysis",
   "language": "python",
   "display_name": "Reddit Sentiment Analysis Env"
  },
  "language_info": {
   "codemirror_mode": {
    "name": "ipython",
    "version": 2
   },
   "file_extension": ".py",
   "mimetype": "text/x-python",
   "name": "python",
   "nbconvert_exporter": "python",
   "pygments_lexer": "ipython2",
   "version": "2.7.6"
  }
 },
 "nbformat": 4,
 "nbformat_minor": 5
}
