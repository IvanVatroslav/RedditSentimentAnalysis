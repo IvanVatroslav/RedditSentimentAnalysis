{
 "cells": [
  {
   "cell_type": "code",
   "outputs": [],
   "source": [
    "from selenium import webdriver\n",
    "from selenium.webdriver.common.by import By\n",
    "from selenium.webdriver.support.ui import WebDriverWait\n",
    "from selenium.webdriver.support import expected_conditions as EC\n",
    "from selenium.common.exceptions import ElementNotInteractableException, ElementClickInterceptedException\n",
    "import pandas as pd\n",
    "from pathlib import Path\n",
    "import unicodedata\n",
    "import re\n",
    "class DriverInit:\n",
    "    ACCEPT_COOKIES_XPATH = \"//button[@id='L2AGLb']\"\n",
    "    REVIEWS_TAB_XPATH = \"//span[text()='Reviews']\"\n",
    "    GOOGLE_SEARCH_XPATH = \"//textarea[@class='gLFyf']\"\n",
    "\n",
    "\n",
    "def __init__(self):\n",
    "    self.driver = webdriver.Chrome()\n",
    "    self.wait = WebDriverWait(self.driver, 10)\n",
    "    self.short_wait = WebDriverWait(self.driver, 5, poll_frequency=0.5)\n",
    "    self.driver.maximize_window()\n",
    "\n",
    "\n",
    "def navigate_to_url(self, url):\n",
    "    self.driver.get(url)\n",
    "    accept_cookies = self.wait.until(EC.element_to_be_clickable((By.XPATH, self.ACCEPT_COOKIES_XPATH)))\n",
    "    accept_cookies.click()\n",
    "\n",
    "\n",
    "def navigate_to_reviews_tab(self):\n",
    "    reviews_tab = self.wait.until(EC.element_to_be_clickable((By.XPATH, self.REVIEWS_TAB_XPATH)))\n",
    "    reviews_tab.click()\n",
    "\n",
    "\n",
    "def close_browser(self):\n",
    "    self.driver.quit()\n",
    "\n",
    "\n",
    "def go_to_restaurant_list(self):\n",
    "    self.wait.until(EC.element_to_be_clickable((By.XPATH, self.GOOGLE_SEARCH_XPATH))).send_keys('restorani')"
   ],
   "metadata": {
    "collapsed": false,
    "ExecuteTime": {
     "end_time": "2024-02-16T14:49:49.864031200Z",
     "start_time": "2024-02-16T14:49:49.804208200Z"
    }
   },
   "id": "94631cd15419b1f0",
   "execution_count": 26
  },
  {
   "cell_type": "code",
   "outputs": [],
   "source": [
    "city='Zagreb'"
   ],
   "metadata": {
    "collapsed": false,
    "ExecuteTime": {
     "end_time": "2024-02-16T12:33:17.149458200Z",
     "start_time": "2024-02-16T12:33:17.134486300Z"
    }
   },
   "id": "321f63b85f8c707",
   "execution_count": 2
  },
  {
   "cell_type": "code",
   "outputs": [],
   "source": [
    "url = 'https://www.google.hr'\n",
    "ACCEPT_COOKIES_XPATH = \"//button[@id='L2AGLb']\"\n",
    "REVIEWS_TAB_XPATH = \"//span[text()='Reviews']\"\n",
    "GOOGLE_SEARCH_XPATH = \"//textarea[@class='gLFyf']\"\n",
    "GO_TO_RESTAURANT_LIST_XPATH = \"//span[text()='Više mjesta']\""
   ],
   "metadata": {
    "collapsed": false,
    "ExecuteTime": {
     "end_time": "2024-02-16T12:33:17.174387500Z",
     "start_time": "2024-02-16T12:33:17.143111800Z"
    }
   },
   "id": "5a2dddd49f310d88",
   "execution_count": 3
  },
  {
   "cell_type": "code",
   "outputs": [],
   "source": [
    "driver = webdriver.Chrome()\n",
    "wait = WebDriverWait(driver, 10)\n",
    "short_wait = WebDriverWait(driver, 5, poll_frequency=0.5)\n",
    "driver.maximize_window()\n",
    "driver.get(url)"
   ],
   "metadata": {
    "collapsed": false,
    "ExecuteTime": {
     "end_time": "2024-02-16T12:33:23.022288200Z",
     "start_time": "2024-02-16T12:33:17.163810800Z"
    }
   },
   "id": "562ffda591c08c1a",
   "execution_count": 4
  },
  {
   "cell_type": "code",
   "outputs": [],
   "source": [
    "accept_cookies = wait.until(EC.element_to_be_clickable((By.XPATH, ACCEPT_COOKIES_XPATH)))\n",
    "accept_cookies.click()"
   ],
   "metadata": {
    "collapsed": false,
    "ExecuteTime": {
     "end_time": "2024-02-16T12:33:23.230131900Z",
     "start_time": "2024-02-16T12:33:23.032746600Z"
    }
   },
   "id": "1a4fdd40babe3400",
   "execution_count": 5
  },
  {
   "cell_type": "code",
   "outputs": [],
   "source": [
    "google_search_bar = wait.until(EC.element_to_be_clickable((By.XPATH, GOOGLE_SEARCH_XPATH)))\n",
    "google_search_bar.send_keys(f'restorani {city}')\n",
    "google_search_bar.submit()"
   ],
   "metadata": {
    "collapsed": false,
    "ExecuteTime": {
     "end_time": "2024-02-16T12:33:23.756954600Z",
     "start_time": "2024-02-16T12:33:23.231254100Z"
    }
   },
   "id": "7ac080bf6c2b3b6",
   "execution_count": 6
  },
  {
   "cell_type": "code",
   "outputs": [],
   "source": [
    "restaurant_list = wait.until(EC.element_to_be_clickable((By.XPATH, GO_TO_RESTAURANT_LIST_XPATH)))\n",
    "restaurant_list.click()"
   ],
   "metadata": {
    "collapsed": false,
    "ExecuteTime": {
     "end_time": "2024-02-16T12:33:31.681159800Z",
     "start_time": "2024-02-16T12:33:23.761484800Z"
    }
   },
   "id": "1a607bded863e742",
   "execution_count": 7
  },
  {
   "cell_type": "code",
   "outputs": [],
   "source": [
    "MORE_PLACES_XPATH = \"//span[text()='Više rezultata']\"\n",
    "LOADING_ICON_XPATH = \"//div[@data-hveid='CAQQAw']\"\n",
    "TITLE_XPATH = \"//span[@class='OSrXXb e62wic']\""
   ],
   "metadata": {
    "collapsed": false,
    "ExecuteTime": {
     "end_time": "2024-02-16T12:33:31.711095Z",
     "start_time": "2024-02-16T12:33:31.685445700Z"
    }
   },
   "id": "39a578b4849da342",
   "execution_count": 8
  },
  {
   "cell_type": "code",
   "outputs": [],
   "source": [
    "import time\n",
    "from selenium.common.exceptions import TimeoutException, NoSuchElementException\n",
    "\n",
    "def get_last_element_text(driver, xpath):\n",
    "    \"\"\"\n",
    "    Retrieves the text of the last element matching the given XPath.\n",
    "    Returns None if no elements are found.\n",
    "    \"\"\"\n",
    "    try:\n",
    "        elements = driver.find_elements(By.XPATH, xpath)\n",
    "        if elements:\n",
    "            return elements[-1].text\n",
    "        else:\n",
    "            return None\n",
    "    except NoSuchElementException:\n",
    "        return None\n",
    "\n",
    "last_unique_element_text = None\n",
    "\n",
    "def wait_for_loading_complete(driver, loading_icon_xpath, timeout=10):\n",
    "    \"\"\"\n",
    "    Waits for the loading icon to disappear and reappear if necessary,\n",
    "    indicating that loading sequences have completed.\n",
    "    \"\"\"\n",
    "    end_time = time.time() + timeout\n",
    "    while time.time() < end_time:\n",
    "        try:\n",
    "            # Check for the presence of the loading icon.\n",
    "            loading_icon_present = WebDriverWait(driver, 2).until(\n",
    "                EC.visibility_of_element_located((By.XPATH, loading_icon_xpath))\n",
    "            )\n",
    "            if loading_icon_present:\n",
    "                # Wait for the loading icon to disappear.\n",
    "                WebDriverWait(driver, 5).until(\n",
    "                    EC.invisibility_of_element_located((By.XPATH, loading_icon_xpath))\n",
    "                )\n",
    "        except TimeoutException:\n",
    "            # If the loading icon isn't found or disappears and doesn't reappear, break the loop.\n",
    "            break\n",
    "\n",
    "\n"
   ],
   "metadata": {
    "collapsed": false,
    "ExecuteTime": {
     "end_time": "2024-02-16T12:33:31.737096600Z",
     "start_time": "2024-02-16T12:33:31.704909400Z"
    }
   },
   "id": "642749ffaeeb23c1",
   "execution_count": 9
  },
  {
   "cell_type": "code",
   "outputs": [
    {
     "name": "stdout",
     "output_type": "stream",
     "text": [
      "No new content loaded. End of list reached.\n"
     ]
    }
   ],
   "source": [
    "while True:\n",
    "    try:\n",
    "        # Wait for the \"more places\" button to become visible\n",
    "        more_places_button = wait.until(EC.visibility_of_element_located((By.XPATH, MORE_PLACES_XPATH)))\n",
    "        driver.execute_script(\"arguments[0].scrollIntoView({block: 'center'});\", more_places_button)\n",
    "\n",
    "        # Click the button using JavaScript\n",
    "        driver.execute_script(\"arguments[0].click();\", more_places_button)\n",
    "\n",
    "        # Dynamically wait for loading to complete\n",
    "        wait_for_loading_complete(driver, LOADING_ICON_XPATH)\n",
    "\n",
    "        # Retrieve the text of the last element\n",
    "        current_last_element_text = get_last_element_text(driver, TITLE_XPATH)\n",
    "\n",
    "        if current_last_element_text == last_unique_element_text:\n",
    "            print(\"No new content loaded. End of list reached.\")\n",
    "            break\n",
    "        else:\n",
    "            last_unique_element_text = current_last_element_text\n",
    "\n",
    "        # Wait for the \"more places\" button to become visible again\n",
    "        WebDriverWait(driver, 5).until(EC.visibility_of_element_located((By.XPATH, MORE_PLACES_XPATH)))\n",
    "\n",
    "    except TimeoutException:\n",
    "        print(\"All 'Više mjesta' elements have been clicked, or no more are found.\")\n",
    "        break\n",
    "    except (ElementNotInteractableException, ElementClickInterceptedException, NoSuchElementException):\n",
    "        print(\"The 'Više mjesta' button is no longer interactable or clickable. All content loaded.\")\n",
    "        break"
   ],
   "metadata": {
    "collapsed": false,
    "ExecuteTime": {
     "end_time": "2024-02-16T12:34:47.930632300Z",
     "start_time": "2024-02-16T12:33:31.726513800Z"
    }
   },
   "id": "e4047ece5dcb390a",
   "execution_count": 10
  },
  {
   "cell_type": "code",
   "outputs": [
    {
     "name": "stdout",
     "output_type": "stream",
     "text": [
      "['Restoran Matrix', 'Bota-Šare Restaurant', 'Restoran Šarm', 'Mano2', 'Restoran C6', 'Restoran Marun', 'Restoran HAS', 'Restoran Zagreb', 'Vinodol', \"Restoran Zinfandel's\", 'Restoran Casablanca', 'Bistro Ribič Zagreb', 'Steakhouse El Toro', 'Restoran \"Dubravkin put\"', 'TIME Restaurant & Bar', 'Restoran Kvatrić', 'Restoran Nokturno', 'Restorani Rustica - ZAGREB', 'Restoran Vagabund', 'Restoran Sv. Nikola', 'Rougemarin Bistro', 'Restoran Korčula', 'Canzona - Trattoria', 'Sofra - Borovje', 'Pri Zvoncu', 'Gallo', 'Japanski restoran Tekka', 'Restoran Baltazar', 'Gostionica Ficlek', 'Gostionica Purger', 'Restoran Bon Appetit', 'Restoran Apetitlih', 'La Štruk', 'Restoran \"Mali Bar\"', 'Konoba Bracera', 'Restoran Kaiser', 'Restoran \"Kod Pere\"', 'Restoran \"Zlatna školjka\"', 'Kai street food', 'Bistro \"Kod Vukušića\"', 'Lari & Penati', 'Torero Restaurant', 'Noel', 'Ristorante Carpaccio', 'Restoran Ragusa', 'Restoran \"Odeon\"', 'Grill Tomislav', 'Trilogija Fino&vino', 'VODNJANKA Zagreb', \"O'brok Restoran\", 'Kaptolska klet', 'Savica Casual Urban Eatery', 'Boban caffe & restoran', 'Stella bar & Vip restoran', 'Restoran Korkyra', 'Fish _Restoran \"Ribice i tri točkice\"', 'Zrno bio bistro', 'Restoran Cydonia', 'Restoran Uspinjača', 'Takenoko Zagreb', 'Restoran Madera', 'Restoran Potkova', 'Pod Zidom', 'Maredo Zagreb', 'MS Grill', 'American Steak & Grill House Zagreb Restaurant', 'Buffet Antin Gaj', 'Rougemarin City', 'Kaptol Zagreb restoran i caffe bar', 'Al Dente Zagreb', 'Pani Zagreb', 'Restaurant and Caffe \"Muzej\"', 'Restaurant Piccolo Zagreb', 'Restoran Lido', 'Restoran Tač', 'Stari Fijaker', 'Konoba Mašklin i Lata', 'YEZI Zagreb', 'Mr. Chen', 'Konoba Didov San - Gornji Grad', 'Konoba Restaurant Time4Wine (Pizza| Grill| Seafood| Croatian restaurant)Gornji grad', \"Mime's\", 'Leonardo trattoria & pizzeria', \"Barbieri's\", 'Vallis Aurea', 'Lanterna na Dolcu', 'Umami Radnička', 'La Nostra Casa', 'Restoran Bicko', 'Pizzeria & Spaghtteria Capuciner', 'Restaurant & Bar Frida', 'Batak Tkalčićeva', 'SOL tapas na hrvatski', 'Pithos', 'Restoran Bonaca Nova', 'Čušpajz & Faširanac', 'Restoran NK Trnje', 'Restaurant All Saints', 'Theatrium by Filho', 'Restaurant Nav', 'Umami Branimir centar', 'Il Secondo', 'Bistro Apetit by Marin Rendić', 'Riblji Fast Food', \"Grill bar Chevo's\", 'Restaurant Tomassino', 'Ponistra', 'Bistro Fotić', 'Sakura Sushi Restaurant', 'Namaste Bistro', 'Fuego Fresh Latin', 'Pivnica Medvedgrad', 'Eateria', 'Vinska Klet', 'Buffet Mimice', 'Buffet Mrvica', 'Royal India', 'Bistro Amfora', 'Cro.K Restaurant', 'Otto & Frank', 'Bistro Beštija', 'Magazinska klet - Pri staroj smokvi', 'Restoran Vinkl', 'Bekal', 'Izletište Zelenjak', 'Pivnica Mali Medo', 'Restoran Prosikito', 'Ž𝒊𝒓𝒂𝒇𝒇𝒂 𝑭𝒐𝒐𝒅', 'Byblos Restaurant', 'El Greco', 'El Greco', 'Gajbica', 'EGGSPRESS', 'Pizzeria Basta', 'Market street food & drinks', 'Restoran Zelendvor', 'Restoran Stare Skaline', 'Burgeraj', 'Cheese Bar', 'Curry Bowl', 'Bistro Točkica', 'SILK - Pan-Asian Fresh Street Food - Zagreb', 'Chicken House Zagreb', 'Lobby Food&Mood', 'Food Garden', 'Kuća tete Ane', 'Cunami', 'Marenda Niko', 'Evergreen Sushi Bar', 'Restoran Vegehop', 'Restoran Potok', 'Bistro Radnić', 'Matsu Sv. Duh', 'Imenso Sushi', 'Purple Monkey Place', 'HERITAGE - Croatian Street Food & Shop', 'Kungfu Express', 'Pizzeria Lira Grill', 'Il camino grill & pasta bar', 'Plac Kitchen & Grill', 'Wok by Matija', 'Templar Club Zagreb', 'Bistro Bak', \"L' oro di Napoli\", 'Good Food', 'Restoran Izakaya', 'sopal - fun dining wine bar', 'Submarine Burger Frankopanska', \"Luca's Pizza & Pasta\", 'Good Food', 'Bistro Fetiš - gluten free food', \"Nico's Bar & Bistro\", 'Snogu - Zagreb', 'NOMU sushi & wine', 'Tvornica Pljeskavica Kosta - Kod Koste', 'Submarine Burger Tkalčićeva', 'Poke Poke', 'Salo', 'Black Piggy', \"Wok 'n' Walk\", 'Shambala', 'Bistro & Pizzeria BAS', 'Pizzeria Duksa - Bundek', 'Boogie Lab Zagreb', 'Pizzeria Zero Zero', 'fast food \"Big Mamma\"', 'Skenderica 1912', 'Oranž Bistro & Wine Bar', 'KAVKAZ kazališna kavana', 'Pivnica Budweiser', '5BigFive', 'Skenderica 1912', 'Pingvin', 'Pivnica i pivovara Mlinarica', 'Health n joy', 'Pizza Re”', 'Restoran ManO', 'Balance brunch & bakery', \"Domino's Pizza - Kneza Mislava\", 'Roots - juice & cocktail bar', 'Restoran', 'Hotel AS Zagreb', 'Esplanade Zagreb Hotel', 'superplanty', 'Kuhacha - domaća kuhinja', 'Brewbites', 'Max i Mir Zagreb', 'CHi LE MA Zagreb 吃了吗', 'Al Papone - grill, pasta & breakfast', '3Hugs Vegan Brunch Bar']\n"
     ]
    }
   ],
   "source": [
    "titles = [element.text for element in driver.find_elements(By.XPATH, \"//span[@class='OSrXXb e62wic']\")]\n",
    "\n",
    "# Print or use the titles as needed\n",
    "print(titles)"
   ],
   "metadata": {
    "collapsed": false,
    "ExecuteTime": {
     "end_time": "2024-02-16T12:34:51.575434Z",
     "start_time": "2024-02-16T12:34:47.916878800Z"
    }
   },
   "id": "d0dbe5de931f8c4b",
   "execution_count": 11
  },
  {
   "cell_type": "code",
   "outputs": [
    {
     "data": {
      "text/plain": "210"
     },
     "execution_count": 12,
     "metadata": {},
     "output_type": "execute_result"
    }
   ],
   "source": [
    "len(titles)"
   ],
   "metadata": {
    "collapsed": false,
    "ExecuteTime": {
     "end_time": "2024-02-16T12:34:51.604058700Z",
     "start_time": "2024-02-16T12:34:51.578795100Z"
    }
   },
   "id": "bb3a0a54cdec97ca",
   "execution_count": 12
  },
  {
   "cell_type": "code",
   "outputs": [
    {
     "name": "stdout",
     "output_type": "stream",
     "text": [
      "File saved at C:\\Users\\ivan.zeljeznjak\\DataspellProjects\\RedditSentimentAnalysis\\data\\Zagreb\\restaurant_list.csv\n"
     ]
    }
   ],
   "source": [
    "import pandas as pd\n",
    "from pathlib import Path\n",
    "\n",
    "# Create a DataFrame\n",
    "df_titles = pd.DataFrame(titles, columns=['Restaurant Title'])\n",
    "\n",
    "# Define the city variable\n",
    "city = 'Zagreb'  # Replace with the actual city name as needed\n",
    "\n",
    "# Specify the output file path relative to the project's root directory\n",
    "output_file_path = Path(f'../data/{city}/restaurant_list.csv')\n",
    "\n",
    "# Ensure the directory exists\n",
    "output_file_path.parent.mkdir(parents=True, exist_ok=True)\n",
    "\n",
    "# Save to CSV\n",
    "df_titles.to_csv(output_file_path, index=False)\n",
    "\n",
    "# Confirm the save\n",
    "# Print the absolute path of the file for confirmation\n",
    "print(f'File saved at {output_file_path.resolve()}')\n"
   ],
   "metadata": {
    "collapsed": false,
    "ExecuteTime": {
     "end_time": "2024-02-16T13:32:44.901025300Z",
     "start_time": "2024-02-16T13:32:44.845556400Z"
    }
   },
   "id": "2c95b440f97a5293",
   "execution_count": 18
  },
  {
   "cell_type": "code",
   "outputs": [],
   "source": [
    "import pandas as pd\n",
    "import re\n",
    "import unicodedata\n",
    "\n",
    "def clean_name(name):\n",
    "    # Normalize to handle special characters and convert to lowercase\n",
    "    name = unicodedata.normalize('NFKD', name).encode('ascii', 'ignore').decode().lower()\n",
    "\n",
    "    # Remove generic words and handle special cases\n",
    "    for word in generic_words:\n",
    "        pattern = r'\\b' + re.escape(word) + r'\\b'\n",
    "        name = re.sub(pattern, '', name, flags=re.IGNORECASE)\n",
    "\n",
    "    # Replace & and - with space to handle cases like \"Lari & Penati\", \"Sofra - Borovje\"\n",
    "    name = name.replace('&', ' ').replace('-', ' ')\n",
    "\n",
    "    # Remove unwanted characters, keeping spaces and alphanumeric characters\n",
    "    name = re.sub(r\"[^a-z0-9\\s]\", '', name)\n",
    "\n",
    "    # Replace multiple spaces with a single space\n",
    "    name = re.sub(r'\\s+', ' ', name)\n",
    "\n",
    "    # Trim leading and trailing spaces\n",
    "    name = name.strip()\n",
    "\n",
    "    # Replace spaces with a single underscore for the file name\n",
    "    name_for_filename = name.replace(' ', '_')\n",
    "\n",
    "    # Fix casing for the cleaned title\n",
    "    cleaned_name = ' '.join(name.split()).title()\n",
    "\n",
    "    return cleaned_name, name_for_filename\n",
    "\n",
    "# Apply the enhanced cleaning function\n",
    "df[['Cleaned Title', 'File Name']] = df.apply(lambda x: pd.Series(clean_name(x['Restaurant Title'])), axis=1)\n"
   ],
   "metadata": {
    "collapsed": false,
    "ExecuteTime": {
     "end_time": "2024-02-16T14:53:58.098918600Z",
     "start_time": "2024-02-16T14:53:57.972686700Z"
    }
   },
   "id": "a7eef8f3bed6a3a9",
   "execution_count": 30
  },
  {
   "cell_type": "code",
   "outputs": [
    {
     "data": {
      "text/plain": "                         Restaurant Title              Cleaned Title  \\\n0                         Restoran Matrix                     Matrix   \n1                    Bota-Šare Restaurant                  Bota Sare   \n2                           Restoran Šarm                       Sarm   \n3                                   Mano2                      Mano2   \n4                             Restoran C6                         C6   \n..                                    ...                        ...   \n205                             Brewbites                  Brewbites   \n206                      Max i Mir Zagreb           Max I Mir Zagreb   \n207                  CHi LE MA Zagreb 吃了吗           Chi Le Ma Zagreb   \n208  Al Papone - grill, pasta & breakfast  Al Papone Pasta Breakfast   \n209                3Hugs Vegan Brunch Bar         3Hugs Vegan Brunch   \n\n                     File Name  \n0                       matrix  \n1                    bota_sare  \n2                         sarm  \n3                        mano2  \n4                           c6  \n..                         ...  \n205                  brewbites  \n206           max_i_mir_zagreb  \n207           chi_le_ma_zagreb  \n208  al_papone_pasta_breakfast  \n209         3hugs_vegan_brunch  \n\n[210 rows x 3 columns]",
      "text/html": "<div>\n<style scoped>\n    .dataframe tbody tr th:only-of-type {\n        vertical-align: middle;\n    }\n\n    .dataframe tbody tr th {\n        vertical-align: top;\n    }\n\n    .dataframe thead th {\n        text-align: right;\n    }\n</style>\n<table border=\"1\" class=\"dataframe\">\n  <thead>\n    <tr style=\"text-align: right;\">\n      <th></th>\n      <th>Restaurant Title</th>\n      <th>Cleaned Title</th>\n      <th>File Name</th>\n    </tr>\n  </thead>\n  <tbody>\n    <tr>\n      <th>0</th>\n      <td>Restoran Matrix</td>\n      <td>Matrix</td>\n      <td>matrix</td>\n    </tr>\n    <tr>\n      <th>1</th>\n      <td>Bota-Šare Restaurant</td>\n      <td>Bota Sare</td>\n      <td>bota_sare</td>\n    </tr>\n    <tr>\n      <th>2</th>\n      <td>Restoran Šarm</td>\n      <td>Sarm</td>\n      <td>sarm</td>\n    </tr>\n    <tr>\n      <th>3</th>\n      <td>Mano2</td>\n      <td>Mano2</td>\n      <td>mano2</td>\n    </tr>\n    <tr>\n      <th>4</th>\n      <td>Restoran C6</td>\n      <td>C6</td>\n      <td>c6</td>\n    </tr>\n    <tr>\n      <th>...</th>\n      <td>...</td>\n      <td>...</td>\n      <td>...</td>\n    </tr>\n    <tr>\n      <th>205</th>\n      <td>Brewbites</td>\n      <td>Brewbites</td>\n      <td>brewbites</td>\n    </tr>\n    <tr>\n      <th>206</th>\n      <td>Max i Mir Zagreb</td>\n      <td>Max I Mir Zagreb</td>\n      <td>max_i_mir_zagreb</td>\n    </tr>\n    <tr>\n      <th>207</th>\n      <td>CHi LE MA Zagreb 吃了吗</td>\n      <td>Chi Le Ma Zagreb</td>\n      <td>chi_le_ma_zagreb</td>\n    </tr>\n    <tr>\n      <th>208</th>\n      <td>Al Papone - grill, pasta &amp; breakfast</td>\n      <td>Al Papone Pasta Breakfast</td>\n      <td>al_papone_pasta_breakfast</td>\n    </tr>\n    <tr>\n      <th>209</th>\n      <td>3Hugs Vegan Brunch Bar</td>\n      <td>3Hugs Vegan Brunch</td>\n      <td>3hugs_vegan_brunch</td>\n    </tr>\n  </tbody>\n</table>\n<p>210 rows × 3 columns</p>\n</div>"
     },
     "execution_count": 31,
     "metadata": {},
     "output_type": "execute_result"
    }
   ],
   "source": [
    "df"
   ],
   "metadata": {
    "collapsed": false,
    "ExecuteTime": {
     "end_time": "2024-02-16T14:53:59.687232500Z",
     "start_time": "2024-02-16T14:53:59.617629300Z"
    }
   },
   "id": "a793e972b71cc345",
   "execution_count": 31
  }
 ],
 "metadata": {
  "kernelspec": {
   "display_name": "Python 3",
   "language": "python",
   "name": "python3"
  },
  "language_info": {
   "codemirror_mode": {
    "name": "ipython",
    "version": 2
   },
   "file_extension": ".py",
   "mimetype": "text/x-python",
   "name": "python",
   "nbconvert_exporter": "python",
   "pygments_lexer": "ipython2",
   "version": "2.7.6"
  }
 },
 "nbformat": 4,
 "nbformat_minor": 5
}
