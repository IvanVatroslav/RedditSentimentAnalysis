{
 "cells": [
  {
   "cell_type": "code",
   "outputs": [],
   "source": [
    "import random\n",
    "\n",
    "from selenium import webdriver\n",
    "from selenium.webdriver.common.by import By\n",
    "from selenium.webdriver.support.ui import WebDriverWait\n",
    "from selenium.webdriver.support import expected_conditions as EC\n",
    "from selenium.common.exceptions import ElementNotInteractableException, ElementClickInterceptedException\n",
    "import pandas as pd\n",
    "from pathlib import Path\n",
    "import unicodedata\n",
    "import re\n",
    "class DriverInit:\n",
    "    ACCEPT_COOKIES_XPATH = \"//button[@id='L2AGLb']\"\n",
    "    REVIEWS_TAB_XPATH = \"//span[text()='Reviews']\"\n",
    "    GOOGLE_SEARCH_XPATH = \"//textarea[@class='gLFyf']\"\n",
    "\n",
    "\n",
    "def __init__(self):\n",
    "    self.driver = webdriver.Chrome()\n",
    "    self.wait = WebDriverWait(self.driver, 10)\n",
    "    self.short_wait = WebDriverWait(self.driver, 5, poll_frequency=0.5)\n",
    "    self.driver.maximize_window()\n",
    "\n",
    "\n",
    "def navigate_to_url(self, url):\n",
    "    self.driver.get(url)\n",
    "    accept_cookies = self.wait.until(EC.element_to_be_clickable((By.XPATH, self.ACCEPT_COOKIES_XPATH)))\n",
    "    accept_cookies.click()\n",
    "\n",
    "\n",
    "def navigate_to_reviews_tab(self):\n",
    "    reviews_tab = self.wait.until(EC.element_to_be_clickable((By.XPATH, self.REVIEWS_TAB_XPATH)))\n",
    "    reviews_tab.click()\n",
    "\n",
    "\n",
    "def close_browser(self):\n",
    "    self.driver.quit()\n",
    "\n",
    "\n",
    "def go_to_restaurant_list(self):\n",
    "    self.wait.until(EC.element_to_be_clickable((By.XPATH, self.GOOGLE_SEARCH_XPATH))).send_keys('restorani')"
   ],
   "metadata": {
    "collapsed": false,
    "ExecuteTime": {
     "end_time": "2024-02-19T10:57:16.689951Z",
     "start_time": "2024-02-19T10:56:44.566925200Z"
    }
   },
   "id": "94631cd15419b1f0",
   "execution_count": 3
  },
  {
   "cell_type": "code",
   "outputs": [],
   "source": [
    "city='Zagreb'"
   ],
   "metadata": {
    "collapsed": false,
    "ExecuteTime": {
     "end_time": "2024-02-18T21:25:44.052804800Z",
     "start_time": "2024-02-18T21:25:43.932931100Z"
    }
   },
   "id": "321f63b85f8c707",
   "execution_count": 6
  },
  {
   "cell_type": "code",
   "outputs": [],
   "source": [
    "url = 'https://www.google.hr'\n",
    "ACCEPT_COOKIES_XPATH = \"//button[@id='L2AGLb']\"\n",
    "REVIEWS_TAB_XPATH = \"//span[text()='Reviews']\"\n",
    "GOOGLE_SEARCH_XPATH = \"//textarea[@class='gLFyf']\"\n",
    "GO_TO_RESTAURANT_LIST_XPATH = \"//span[text()='Više mjesta']\""
   ],
   "metadata": {
    "collapsed": false,
    "ExecuteTime": {
     "end_time": "2024-02-18T17:44:53.082061300Z",
     "start_time": "2024-02-18T17:44:53.068818900Z"
    }
   },
   "id": "5a2dddd49f310d88",
   "execution_count": 3
  },
  {
   "cell_type": "code",
   "outputs": [],
   "source": [
    "driver = webdriver.Chrome()\n",
    "wait = WebDriverWait(driver, 10)\n",
    "short_wait = WebDriverWait(driver, 5, poll_frequency=0.5)\n",
    "driver.maximize_window()\n",
    "driver.get(url)"
   ],
   "metadata": {
    "collapsed": false,
    "ExecuteTime": {
     "end_time": "2024-02-18T17:44:57.970472400Z",
     "start_time": "2024-02-18T17:44:53.084331600Z"
    }
   },
   "id": "562ffda591c08c1a",
   "execution_count": 4
  },
  {
   "cell_type": "code",
   "outputs": [],
   "source": [
    "accept_cookies = wait.until(EC.element_to_be_clickable((By.XPATH, ACCEPT_COOKIES_XPATH)))\n",
    "accept_cookies.click()"
   ],
   "metadata": {
    "collapsed": false,
    "ExecuteTime": {
     "end_time": "2024-02-18T17:44:58.180882700Z",
     "start_time": "2024-02-18T17:44:57.974197100Z"
    }
   },
   "id": "1a4fdd40babe3400",
   "execution_count": 5
  },
  {
   "cell_type": "code",
   "outputs": [],
   "source": [
    "google_search_bar = wait.until(EC.element_to_be_clickable((By.XPATH, GOOGLE_SEARCH_XPATH)))\n",
    "google_search_bar.send_keys(f'restorani {city}')\n",
    "google_search_bar.submit()"
   ],
   "metadata": {
    "collapsed": false,
    "ExecuteTime": {
     "end_time": "2024-02-18T17:44:58.632852400Z",
     "start_time": "2024-02-18T17:44:58.155513Z"
    }
   },
   "id": "7ac080bf6c2b3b6",
   "execution_count": 6
  },
  {
   "cell_type": "code",
   "outputs": [],
   "source": [
    "restaurant_list = wait.until(EC.element_to_be_clickable((By.XPATH, GO_TO_RESTAURANT_LIST_XPATH)))\n",
    "restaurant_list.click()"
   ],
   "metadata": {
    "collapsed": false,
    "ExecuteTime": {
     "end_time": "2024-02-18T17:45:04.898250700Z",
     "start_time": "2024-02-18T17:44:58.624026300Z"
    }
   },
   "id": "1a607bded863e742",
   "execution_count": 7
  },
  {
   "cell_type": "code",
   "outputs": [],
   "source": [
    "MORE_PLACES_XPATH = \"//span[text()='Više rezultata']\"\n",
    "LOADING_ICON_XPATH = \"//div[@data-hveid='CAQQAw']\"\n",
    "TITLE_XPATH = \"//span[@class='OSrXXb e62wic']\""
   ],
   "metadata": {
    "collapsed": false,
    "ExecuteTime": {
     "end_time": "2024-02-18T17:45:04.925569Z",
     "start_time": "2024-02-18T17:45:04.899815100Z"
    }
   },
   "id": "39a578b4849da342",
   "execution_count": 8
  },
  {
   "cell_type": "code",
   "outputs": [],
   "source": [
    "import time\n",
    "from selenium.common.exceptions import TimeoutException, NoSuchElementException\n",
    "\n",
    "def get_last_element_text(driver, xpath):\n",
    "    \"\"\"\n",
    "    Retrieves the text of the last element matching the given XPath.\n",
    "    Returns None if no elements are found.\n",
    "    \"\"\"\n",
    "    try:\n",
    "        elements = driver.find_elements(By.XPATH, xpath)\n",
    "        if elements:\n",
    "            return elements[-1].text\n",
    "        else:\n",
    "            return None\n",
    "    except NoSuchElementException:\n",
    "        return None\n",
    "\n",
    "last_unique_element_text = None\n",
    "\n",
    "def wait_for_loading_complete(driver, loading_icon_xpath, timeout=10):\n",
    "    \"\"\"\n",
    "    Waits for the loading icon to disappear and reappear if necessary,\n",
    "    indicating that loading sequences have completed.\n",
    "    \"\"\"\n",
    "    end_time = time.time() + timeout\n",
    "    while time.time() < end_time:\n",
    "        try:\n",
    "            # Check for the presence of the loading icon.\n",
    "            loading_icon_present = WebDriverWait(driver, 2).until(\n",
    "                EC.visibility_of_element_located((By.XPATH, loading_icon_xpath))\n",
    "            )\n",
    "            if loading_icon_present:\n",
    "                # Wait for the loading icon to disappear.\n",
    "                WebDriverWait(driver, 5).until(\n",
    "                    EC.invisibility_of_element_located((By.XPATH, loading_icon_xpath))\n",
    "                )\n",
    "        except TimeoutException:\n",
    "            # If the loading icon isn't found or disappears and doesn't reappear, break the loop.\n",
    "            break\n",
    "\n",
    "\n"
   ],
   "metadata": {
    "collapsed": false,
    "ExecuteTime": {
     "end_time": "2024-02-18T17:45:04.997233500Z",
     "start_time": "2024-02-18T17:45:04.916817900Z"
    }
   },
   "id": "642749ffaeeb23c1",
   "execution_count": 9
  },
  {
   "cell_type": "code",
   "outputs": [
    {
     "name": "stdout",
     "output_type": "stream",
     "text": [
      "All 'Više mjesta' elements have been clicked, or no more are found.\n"
     ]
    }
   ],
   "source": [
    "while True:\n",
    "    try:\n",
    "        # Wait for the \"more places\" button to become visible\n",
    "        more_places_button = wait.until(EC.visibility_of_element_located((By.XPATH, MORE_PLACES_XPATH)))\n",
    "        driver.execute_script(\"arguments[0].scrollIntoView({block: 'center'});\", more_places_button)\n",
    "\n",
    "        # Click the button using JavaScript\n",
    "        driver.execute_script(\"arguments[0].click();\", more_places_button)\n",
    "\n",
    "        # Dynamically wait for loading to complete\n",
    "        wait_for_loading_complete(driver, LOADING_ICON_XPATH)\n",
    "\n",
    "        # Retrieve the text of the last element\n",
    "        current_last_element_text = get_last_element_text(driver, TITLE_XPATH)\n",
    "\n",
    "        if current_last_element_text == last_unique_element_text:\n",
    "            print(\"No new content loaded. End of list reached.\")\n",
    "            break\n",
    "        else:\n",
    "            last_unique_element_text = current_last_element_text\n",
    "\n",
    "        # Wait for the \"more places\" button to become visible again\n",
    "        WebDriverWait(driver, 5).until(EC.visibility_of_element_located((By.XPATH, MORE_PLACES_XPATH)))\n",
    "\n",
    "    except TimeoutException:\n",
    "        print(\"All 'Više mjesta' elements have been clicked, or no more are found.\")\n",
    "        break\n",
    "    except (ElementNotInteractableException, ElementClickInterceptedException, NoSuchElementException):\n",
    "        print(\"The 'Više mjesta' button is no longer interactable or clickable. All content loaded.\")\n",
    "        break"
   ],
   "metadata": {
    "collapsed": false,
    "ExecuteTime": {
     "end_time": "2024-02-18T18:01:24.284713600Z",
     "start_time": "2024-02-18T18:01:14.018866Z"
    }
   },
   "id": "e4047ece5dcb390a",
   "execution_count": 46
  },
  {
   "cell_type": "code",
   "outputs": [
    {
     "data": {
      "text/plain": "208"
     },
     "execution_count": 12,
     "metadata": {},
     "output_type": "execute_result"
    }
   ],
   "source": [
    "len(titles)"
   ],
   "metadata": {
    "collapsed": false,
    "ExecuteTime": {
     "end_time": "2024-02-18T17:45:57.855849500Z",
     "start_time": "2024-02-18T17:45:57.835551900Z"
    }
   },
   "id": "bb3a0a54cdec97ca",
   "execution_count": 12
  },
  {
   "cell_type": "code",
   "outputs": [
    {
     "name": "stdout",
     "output_type": "stream",
     "text": [
      "File saved at C:\\Users\\ivan.zeljeznjak\\DataspellProjects\\RedditSentimentAnalysis\\data\\Zagreb\\restaurant_list.csv\n"
     ]
    }
   ],
   "source": [
    "import pandas as pd\n",
    "from pathlib import Path\n",
    "\n",
    "# Create a DataFrame\n",
    "df_titles = pd.DataFrame(titles, columns=['Restaurant Title'])\n",
    "\n",
    "# Define the city variable\n",
    "city = 'Zagreb'  # Replace with the actual city name as needed\n",
    "\n",
    "# Specify the output file path relative to the project's root directory\n",
    "output_file_path = Path(f'../data/{city}/restaurant_list.csv')\n",
    "\n",
    "# Ensure the directory exists\n",
    "output_file_path.parent.mkdir(parents=True, exist_ok=True)\n",
    "\n",
    "# Save to CSV\n",
    "df_titles.to_csv(output_file_path, index=False)\n",
    "\n",
    "# Confirm the save\n",
    "# Print the absolute path of the file for confirmation\n",
    "print(f'File saved at {output_file_path.resolve()}')\n"
   ],
   "metadata": {
    "collapsed": false,
    "ExecuteTime": {
     "end_time": "2024-02-18T17:45:58.022382800Z",
     "start_time": "2024-02-18T17:45:57.853632800Z"
    }
   },
   "id": "2c95b440f97a5293",
   "execution_count": 13
  },
  {
   "cell_type": "code",
   "outputs": [],
   "source": [
    "df=pd.read_csv(output_file_path)"
   ],
   "metadata": {
    "collapsed": false,
    "ExecuteTime": {
     "end_time": "2024-02-18T17:45:58.057496200Z",
     "start_time": "2024-02-18T17:45:57.897832400Z"
    }
   },
   "id": "b84c53c50f45aa87",
   "execution_count": 14
  },
  {
   "cell_type": "code",
   "outputs": [],
   "source": [
    "import pandas as pd\n",
    "import re\n",
    "import unicodedata\n",
    "\n",
    "def clean_name(name):\n",
    "    # Normalize to handle special characters and convert to lowercase\n",
    "    name = unicodedata.normalize('NFKD', name).encode('ascii', 'ignore').decode().lower()\n",
    "    generic_words = ['restoran', 'pizzeria']\n",
    "\n",
    "    # Remove generic words and handle special cases\n",
    "    for word in generic_words:\n",
    "        pattern = r'\\b' + re.escape(word) + r'\\b'\n",
    "        name = re.sub(pattern, '', name, flags=re.IGNORECASE)\n",
    "\n",
    "    # Replace & and - with space to handle cases like \"Lari & Penati\", \"Sofra - Borovje\"\n",
    "    name = name.replace('&', ' ').replace('-', ' ')\n",
    "\n",
    "    # Remove unwanted characters, keeping spaces and alphanumeric characters\n",
    "    name = re.sub(r\"[^a-z0-9\\s]\", '', name)\n",
    "\n",
    "    # Replace multiple spaces with a single space\n",
    "    name = re.sub(r'\\s+', ' ', name)\n",
    "\n",
    "    # Trim leading and trailing spaces\n",
    "    name = name.strip()\n",
    "\n",
    "    # If the name is empty after cleaning, return None\n",
    "    if not name:\n",
    "        return None, None\n",
    "\n",
    "    # Replace spaces with a single underscore for the file name\n",
    "    name_for_filename = name.replace(' ', '_')\n",
    "\n",
    "    # Fix casing for the cleaned title\n",
    "    cleaned_name = ' '.join(name.split()).title()\n",
    "\n",
    "    return cleaned_name, name_for_filename\n",
    "\n",
    "# Apply the enhanced cleaning function\n",
    "df[['Cleaned Title', 'File Name']] = df.apply(lambda x: pd.Series(clean_name(x['Restaurant Title'])), axis=1)\n",
    "\n",
    "# Drop rows where 'Cleaned Title' is None\n",
    "df.dropna(subset=['Cleaned Title'], inplace=True)\n"
   ],
   "metadata": {
    "collapsed": false,
    "ExecuteTime": {
     "end_time": "2024-02-18T17:45:58.154202200Z",
     "start_time": "2024-02-18T17:45:57.928197Z"
    }
   },
   "id": "a7eef8f3bed6a3a9",
   "execution_count": 15
  },
  {
   "cell_type": "code",
   "outputs": [
    {
     "data": {
      "text/plain": "                         Restaurant Title                    Cleaned Title  \\\n0                        Plješivička Klet                 Pljesivicka Klet   \n1                                 Vinodol                          Vinodol   \n2                              Pri Zvoncu                       Pri Zvoncu   \n3                     Batak Grill - Rudeš                Batak Grill Rudes   \n4                         Restoran Taurus                           Taurus   \n..                                    ...                              ...   \n203                  CHi LE MA Zagreb 吃了吗                 Chi Le Ma Zagreb   \n204                Esplanade Zagreb Hotel           Esplanade Zagreb Hotel   \n205                3Hugs Vegan Brunch Bar           3Hugs Vegan Brunch Bar   \n206                               VeganKO                          Veganko   \n207  Al Papone - grill, pasta & breakfast  Al Papone Grill Pasta Breakfast   \n\n                           File Name  \n0                   pljesivicka_klet  \n1                            vinodol  \n2                         pri_zvoncu  \n3                  batak_grill_rudes  \n4                             taurus  \n..                               ...  \n203                 chi_le_ma_zagreb  \n204           esplanade_zagreb_hotel  \n205           3hugs_vegan_brunch_bar  \n206                          veganko  \n207  al_papone_grill_pasta_breakfast  \n\n[207 rows x 3 columns]",
      "text/html": "<div>\n<style scoped>\n    .dataframe tbody tr th:only-of-type {\n        vertical-align: middle;\n    }\n\n    .dataframe tbody tr th {\n        vertical-align: top;\n    }\n\n    .dataframe thead th {\n        text-align: right;\n    }\n</style>\n<table border=\"1\" class=\"dataframe\">\n  <thead>\n    <tr style=\"text-align: right;\">\n      <th></th>\n      <th>Restaurant Title</th>\n      <th>Cleaned Title</th>\n      <th>File Name</th>\n    </tr>\n  </thead>\n  <tbody>\n    <tr>\n      <th>0</th>\n      <td>Plješivička Klet</td>\n      <td>Pljesivicka Klet</td>\n      <td>pljesivicka_klet</td>\n    </tr>\n    <tr>\n      <th>1</th>\n      <td>Vinodol</td>\n      <td>Vinodol</td>\n      <td>vinodol</td>\n    </tr>\n    <tr>\n      <th>2</th>\n      <td>Pri Zvoncu</td>\n      <td>Pri Zvoncu</td>\n      <td>pri_zvoncu</td>\n    </tr>\n    <tr>\n      <th>3</th>\n      <td>Batak Grill - Rudeš</td>\n      <td>Batak Grill Rudes</td>\n      <td>batak_grill_rudes</td>\n    </tr>\n    <tr>\n      <th>4</th>\n      <td>Restoran Taurus</td>\n      <td>Taurus</td>\n      <td>taurus</td>\n    </tr>\n    <tr>\n      <th>...</th>\n      <td>...</td>\n      <td>...</td>\n      <td>...</td>\n    </tr>\n    <tr>\n      <th>203</th>\n      <td>CHi LE MA Zagreb 吃了吗</td>\n      <td>Chi Le Ma Zagreb</td>\n      <td>chi_le_ma_zagreb</td>\n    </tr>\n    <tr>\n      <th>204</th>\n      <td>Esplanade Zagreb Hotel</td>\n      <td>Esplanade Zagreb Hotel</td>\n      <td>esplanade_zagreb_hotel</td>\n    </tr>\n    <tr>\n      <th>205</th>\n      <td>3Hugs Vegan Brunch Bar</td>\n      <td>3Hugs Vegan Brunch Bar</td>\n      <td>3hugs_vegan_brunch_bar</td>\n    </tr>\n    <tr>\n      <th>206</th>\n      <td>VeganKO</td>\n      <td>Veganko</td>\n      <td>veganko</td>\n    </tr>\n    <tr>\n      <th>207</th>\n      <td>Al Papone - grill, pasta &amp; breakfast</td>\n      <td>Al Papone Grill Pasta Breakfast</td>\n      <td>al_papone_grill_pasta_breakfast</td>\n    </tr>\n  </tbody>\n</table>\n<p>207 rows × 3 columns</p>\n</div>"
     },
     "execution_count": 16,
     "metadata": {},
     "output_type": "execute_result"
    }
   ],
   "source": [
    "df"
   ],
   "metadata": {
    "collapsed": false,
    "ExecuteTime": {
     "end_time": "2024-02-18T17:45:58.217107800Z",
     "start_time": "2024-02-18T17:45:58.014346700Z"
    }
   },
   "id": "a793e972b71cc345",
   "execution_count": 16
  },
  {
   "cell_type": "code",
   "outputs": [
    {
     "data": {
      "text/plain": "'Vinodol'"
     },
     "execution_count": 17,
     "metadata": {},
     "output_type": "execute_result"
    }
   ],
   "source": [
    "df.iloc[1,0]"
   ],
   "metadata": {
    "collapsed": false,
    "ExecuteTime": {
     "end_time": "2024-02-18T17:45:58.240180600Z",
     "start_time": "2024-02-18T17:45:58.044698800Z"
    }
   },
   "id": "f74e976aa921dae4",
   "execution_count": 17
  },
  {
   "cell_type": "code",
   "outputs": [
    {
     "name": "stdout",
     "output_type": "stream",
     "text": [
      "Plješivička Klet\n",
      "Vinodol\n",
      "Pri Zvoncu\n",
      "Batak Grill - Rudeš\n",
      "Restoran Taurus\n",
      "Restoran Nokturno\n",
      "Restoran Potkova\n",
      "Restoran Konoba Didov San - Kajzerica\n",
      "Restoran \"Dubravkin put\"\n",
      "Umami\n",
      "Restoran Kaiser\n",
      "Restoran HAS\n",
      "Restoran Baltazar\n",
      "Restoran Lido\n",
      "Restoran Zagreb\n",
      "Zalogajnica Dolma\n",
      "VODNJANKA Zagreb\n",
      "Steakhouse El Toro\n",
      "Fidel Gastro\n",
      "Restaurant Balon\n",
      "Restoran Pupa kod Ljubice\n",
      "Il Secondo\n",
      "Restoran Zinfandel's\n",
      "Maredo Zagreb\n",
      "Restoran Botanist\n",
      "Restoran \"Mali Bar\"\n",
      "Restoran Uspinjača\n",
      "La Štruk\n",
      "Restoran \"Kod Pere\"\n",
      "Torero Restaurant\n",
      "Mano2\n",
      "Restoran Bicko\n",
      "Restoran Sofra Vrbani\n",
      "Stari Kotač\n",
      "Ristorante Carpaccio\n",
      "R&B Food\n",
      "Boban caffe & restoran\n",
      "Il camino grill & pasta bar\n",
      "Kaptol Zagreb restoran i caffe bar\n",
      "Konoba Didov San - Gornji Grad\n",
      "Trilogija Fino&vino\n",
      "Kaptolska klet\n",
      "Brenner\n",
      "Gostionica Ficlek\n",
      "Bota-Šare Restaurant\n",
      "American Steak & Grill House Zagreb Restaurant\n",
      "Takenoko Zagreb\n",
      "Gostionica Purger\n",
      "Le Bistro\n",
      "Pod Zidom\n",
      "Bistro Točkica\n",
      "Ponistra\n",
      "Restoran Bonaca Nova\n",
      "Restaurant and Caffe \"Muzej\"\n",
      "Restoran Bonaca\n",
      "Stari Fijaker\n",
      "Marenda Niko\n",
      "Restorani Rustica - ZAGREB\n",
      "Lari & Penati\n",
      "Kai street food\n",
      "Konoba Restaurant Time4Wine (Pizza| Grill| Seafood| Croatian restaurant)Gornji grad\n",
      "Ristorante Paesano\n",
      "Restoran Tač\n",
      "Bistro Amfora\n",
      "Restoran Kvatrić\n",
      "Batak Kajzerica\n",
      "Mag Burger & Bistro\n",
      "Bistro Apetit by Marin Rendić\n",
      "Gallo\n",
      "Lanterna na Dolcu\n",
      "Canzona - Trattoria\n",
      "Restoran Sv. Nikola\n",
      "Konoba Bracera\n",
      "Restoran Vinkl\n",
      "Fish _Restoran \"Ribice i tri točkice\"\n",
      "Restoran Bon Appetit\n",
      "Restoran \"Zlatna školjka\"\n",
      "Restoran Vagabund\n",
      "Theatrium by Filho\n",
      "Restoran Izakaya\n",
      "Vallis Aurea\n",
      "Restoran Apetitlih\n",
      "Buffet Mrvica\n",
      "Noel\n",
      "Bistro Fotić\n",
      "Konoba Mašklin i Lata\n",
      "Japanski restoran Tekka\n",
      "Pizzeria Basta\n",
      "Bistro Beštija\n",
      "Pithos\n",
      "Bistro Beštija\n",
      "Pithos\n",
      "Čušpajz & Faširanac\n",
      "MS Grill\n",
      "Pizzeria & Spaghtteria Capuciner\n",
      "Zrno bio bistro\n",
      "Salut! Gastro Pub\n",
      "Restaurant Nav\n",
      "Restaurant & Bar Frida\n",
      "Batak Centar Cvjetni\n",
      "Matsu Sv. Duh\n",
      "Stella bar & Vip restoran\n",
      "O'brok Restoran\n",
      "Bistro&Pizzeria Public\n",
      "Barbieri's\n",
      "Bakina kuhinja\n",
      "Restaurant All Saints\n",
      "Savica Casual Urban Eatery\n",
      "Spare Ribs Grill\n",
      "Restoran NK Trnje\n",
      "TIME Restaurant & Bar\n",
      "Plac Kitchen & Grill\n",
      "River pub\n",
      "Al Dente Zagreb\n",
      "Bistro Ribič Zagreb\n",
      "Royal India\n",
      "Pizzeria Fianona\n",
      "Tvornica Pljeskavica Kosta - Kod Koste\n",
      "Good Food\n",
      "Buffet Antin Gaj\n",
      "Leonardo trattoria & pizzeria\n",
      "SOL tapas na hrvatski\n",
      "HERITAGE - Croatian Street Food & Shop\n",
      "SOI fusion\n",
      "Hotel i restoran Mali raj\n",
      "Namaste Bistro\n",
      "Grill Tomislav\n",
      "Bekal\n",
      "Fuego Fresh Latin\n",
      "Restoran Matrix\n",
      "Health n joy\n",
      "Dva Potoka Restaurant & Bar\n",
      "Pivnica Medvedgrad\n",
      "Eateria\n",
      "Bistro \"Kod Vukušića\"\n",
      "Zalogajnica Kod Šime\n",
      "Evergreen Sushi Bar\n",
      "Kuća tete Ane\n",
      "Mime's\n",
      "Curry Bowl\n",
      "Byblos Restaurant\n",
      "Pizzeria Duksa\n",
      "El Greco\n",
      "Lobby Food&Mood\n",
      "Cheese Bar\n",
      "Otto & Frank\n",
      "Restoran Potok\n",
      "Buffet Mimice\n",
      "Ginger Sushi\n",
      "Vinska Klet\n",
      "Vinska Klet\n",
      "L' oro di Napoli\n",
      "Food Garden\n",
      "Riblji Fast Food\n",
      "Lašćinska Klet - Restoran - Ferenčina\n",
      "SILK - Pan-Asian Fresh Street Food - Zagreb\n",
      "Burgeraj\n",
      "Submarine Burger Frankopanska\n",
      "Restaurant Tomassino\n",
      "Templar Club Zagreb\n",
      "Pizzeria Lira Grill\n",
      "Restoran Vegehop\n",
      "sopal - fun dining wine bar\n",
      "Purple Monkey Place\n",
      "Pizzeria \"San Pietro\" Zagreb\n",
      "Bistro Radnić\n",
      "TAIYO Sushi Restaurant Zagreb\n",
      "Thai Thai street food\n",
      "Snogu - Zagreb\n",
      "Imenso Sushi\n",
      "Food Avenue Arena Centar\n",
      "Bistro Fetiš - gluten free food\n",
      "Salo\n",
      "Shambala\n",
      "Wok 'n' Walk\n",
      "EGGSPRESS\n",
      "Torikaya Ramen Bar\n",
      "YEZI Zagreb\n",
      "NOMU sushi & wine\n",
      "Good Food\n",
      "Chicken House Zagreb\n",
      "Bistro Bak\n",
      "Fish House Zagreb\n",
      "Ž𝒊𝒓𝒂𝒇𝒇𝒂 𝑭𝒐𝒐𝒅\n",
      "Bistro & Pizzeria BAS\n",
      "Pizza Re”\n",
      "Skenderica 1912\n",
      "Pivnica i pivovara Mlinarica\n",
      "Pivnica Budweiser\n",
      "Restoran ManO\n",
      "Proof 33\n",
      "Oranž Bistro & Wine Bar\n",
      "Kavana i restoran Johann Franck\n",
      "Boogie Lab Zagreb\n",
      "Hotel AS Zagreb\n",
      "Domino's Pizza - Kneza Mislava\n",
      "Balance brunch & bakery\n",
      "Mr Miyagi Sushi\n",
      "Vinoteka / Wine bar - Wine & Friends -\n",
      "superplanty\n",
      "Le Kolač Park Kneževa\n",
      "Aryana grill, zagreb\n",
      "CHi LE MA Zagreb 吃了吗\n",
      "Esplanade Zagreb Hotel\n",
      "3Hugs Vegan Brunch Bar\n",
      "VeganKO\n",
      "Al Papone - grill, pasta & breakfast\n"
     ]
    }
   ],
   "source": [
    "for index, row in df.iterrows():\n",
    "    restaurant_name = row['Restaurant Title']\n",
    "    print(restaurant_name)"
   ],
   "metadata": {
    "collapsed": false,
    "ExecuteTime": {
     "end_time": "2024-02-18T17:45:58.303318700Z",
     "start_time": "2024-02-18T17:45:58.065639100Z"
    }
   },
   "id": "ef5132af94cab83e",
   "execution_count": 18
  },
  {
   "cell_type": "code",
   "outputs": [],
   "source": [
    "url = 'https://www.google.hr'\n",
    "city = 'Zagreb'\n",
    "ACCEPT_COOKIES_XPATH = \"//button[@id='L2AGLb']\"\n",
    "REVIEWS_TAB_XPATH = \"//span[text()='Reviews']\"\n",
    "GOOGLE_SEARCH_XPATH = \"//textarea[@class='gLFyf']\"\n",
    "RESTAURANT_REVIEWS_REDIRECT_XPATH = '//a[contains(text(), \" recenzija\")]'\n",
    "RESTAURANT_REVIEWS_LINK_XPATH = '//a[@class=\"Ky0SRd\"]'"
   ],
   "metadata": {
    "collapsed": false,
    "ExecuteTime": {
     "end_time": "2024-02-19T10:58:28.930921700Z",
     "start_time": "2024-02-19T10:58:28.531474Z"
    }
   },
   "id": "210e5b89e1e7282f",
   "execution_count": 12
  },
  {
   "cell_type": "code",
   "outputs": [],
   "source": [
    "driver = webdriver.Chrome()\n",
    "wait = WebDriverWait(driver, 60)\n",
    "short_wait = WebDriverWait(driver, 60, poll_frequency=0.5)\n",
    "driver.maximize_window()\n",
    "driver.get(url)"
   ],
   "metadata": {
    "collapsed": false,
    "ExecuteTime": {
     "end_time": "2024-02-19T10:58:36.415527700Z",
     "start_time": "2024-02-19T10:58:28.972138800Z"
    }
   },
   "id": "664ff89d9632c30d",
   "execution_count": 13
  },
  {
   "cell_type": "code",
   "outputs": [],
   "source": [
    "accept_cookies = wait.until(EC.element_to_be_clickable((By.XPATH, ACCEPT_COOKIES_XPATH)))\n",
    "accept_cookies.click()"
   ],
   "metadata": {
    "collapsed": false,
    "ExecuteTime": {
     "end_time": "2024-02-19T10:58:36.628621600Z",
     "start_time": "2024-02-19T10:58:36.441838800Z"
    }
   },
   "id": "9322087922fc1a92",
   "execution_count": 14
  },
  {
   "cell_type": "code",
   "outputs": [],
   "source": [
    "google_search_bar = wait.until(EC.element_to_be_clickable((By.XPATH, GOOGLE_SEARCH_XPATH)))\n",
    "google_search_bar.send_keys(f'Kavana i restoran Johann Franck {city}')\n",
    "google_search_bar.submit()"
   ],
   "metadata": {
    "collapsed": false,
    "ExecuteTime": {
     "end_time": "2024-02-19T10:58:37.242181300Z",
     "start_time": "2024-02-19T10:58:36.634430400Z"
    }
   },
   "id": "e98b95ddd62c2bac",
   "execution_count": 15
  },
  {
   "cell_type": "code",
   "outputs": [
    {
     "name": "stdout",
     "output_type": "stream",
     "text": [
      "5986\n"
     ]
    }
   ],
   "source": [
    "# Wait for the element to be clickable\n",
    "review_count_element = wait.until(EC.element_to_be_clickable((By.XPATH, RESTAURANT_REVIEWS_REDIRECT_XPATH)))\n",
    "\n",
    "# Extract the text from the element\n",
    "review_count_text = review_count_element.text  # Corrected here, no parentheses\n",
    "\n",
    "# Remove the dot and convert to integer\n",
    "review_count = int(review_count_text.split()[0].replace('.', ''))\n",
    "\n",
    "print(review_count, 'number of reviews')  # Output should be 5986\n",
    "\n",
    "# Click on the element to redirect to reviews\n",
    "reviews_redirect = wait.until(EC.element_to_be_clickable((By.XPATH, RESTAURANT_REVIEWS_REDIRECT_XPATH)))\n",
    "reviews_redirect.click()"
   ],
   "metadata": {
    "collapsed": false,
    "ExecuteTime": {
     "end_time": "2024-02-19T11:07:31.941774700Z",
     "start_time": "2024-02-19T11:07:27.421391100Z"
    }
   },
   "id": "8f4bf458ef905a08",
   "execution_count": 19
  },
  {
   "cell_type": "code",
   "outputs": [],
   "source": [
    "reviews_link = wait.until(EC.element_to_be_clickable((By.XPATH , RESTAURANT_REVIEWS_LINK_XPATH)))\n",
    "reviews_link.click()"
   ],
   "metadata": {
    "collapsed": false,
    "ExecuteTime": {
     "end_time": "2024-02-19T10:58:22.721102Z",
     "start_time": "2024-02-19T10:58:22.693238900Z"
    }
   },
   "id": "9af3fe62eceaf646",
   "execution_count": null
  },
  {
   "cell_type": "code",
   "outputs": [],
   "source": [
    "from selenium.common.exceptions import NoSuchElementException, TimeoutException\n",
    "from selenium.webdriver.common.by import By\n",
    "from selenium.webdriver.support import expected_conditions as EC\n",
    "import pandas as pd\n",
    "import re\n",
    "import os\n",
    "\n",
    "from selenium.webdriver.support.wait import WebDriverWait\n",
    "\n",
    "\n",
    "class ReviewScraper:\n",
    "    FIRST_REVIEW_XPATH = (\"//*[@id='akp_tsuid_13']/div/div[1]/div/g-sticky-content-container/div/block-component/div\"\n",
    "                          \"/div[1]/div/div/div/div[1]/div/div/div[6]/g-flippy-carousel/div/div/ol/li[\"\n",
    "                          \"3]/span/div/div/div/div[2]/c-wiz/div/div[2]/div[1]/div[1]\")\n",
    "    REVIEW_ELEMENTS_XPATH = \"//*[@data-hveid='2']/following-sibling::*//div[@class='OA1nbd']\"\n",
    "    TRANSLATE_BUTTON_XPATH = (\"//div[@data-attrid='kc:/local:all reviews']//div[3]/div/div[{i}]/div[3]//button[\"\n",
    "                              \"contains(@class, 'qGGAec') and .//span[contains(text(), 'Translated by Google')]]\")\n",
    "    MORE_BUTTON_XPATH = \"//div[@class='OA1nbd']//a[@role='button' and contains(text(), 'Više')]\"\n",
    "    REVIEW_XPATH = \"//div[@class='OA1nbd']\"\n",
    "    RATING_XPATH = (\"//div[@data-attrid='kc:/local:all reviews']//div[3]/div/div[{i}]//div[contains(@aria-label, \"\n",
    "                    \"'Rated') and contains(@role, 'img')]\")\n",
    "    #LOADING_INDICATOR = \"//div[string-length(@data-loadingmessage) > 0]\"\n",
    "    LOADING_INDICATOR = \"//div[@jscontroller='qAKInc'][string-length(@data-loadingmessage) > 0]\"\n",
    "    REVIEW_BLOCK_XPATH = \"//div[contains(@class, 'bwb7ce')]\"\n",
    "\n",
    "    def __init__(self, driver_init=None, driver=None):\n",
    "        self.previous_total_reviews = None\n",
    "        if driver is not None:\n",
    "            self.driver = driver\n",
    "            self.wait = WebDriverWait(driver, 10)\n",
    "            self.short_wait = WebDriverWait(driver, 5, poll_frequency=0.5)\n",
    "        elif driver_init is not None:\n",
    "            self.driver = driver_init.driver\n",
    "            self.wait = driver_init.wait\n",
    "            self.short_wait = driver_init.short_wait\n",
    "        else:\n",
    "            raise ValueError(\"Either driver_init or driver must be provided.\")\n",
    "\n",
    "        self.previous_last_review_text = None\n",
    "        self.reviews_df = pd.DataFrame(columns=['Review', 'Rating'])\n",
    "        self.review_with_text_count = 0\n",
    "\n",
    "    def return_to_first_review(self):\n",
    "        try:\n",
    "            first_review_element = self.wait.until(\n",
    "                EC.visibility_of_element_located((By.XPATH, self.REVIEW_BLOCK_XPATH)))\n",
    "            self.driver.execute_script(\"arguments[0].scrollIntoView(true);\", first_review_element)\n",
    "        except Exception as e:\n",
    "            print(f\"Error scrolling to first review: {e}\")\n",
    "\n",
    "    def load_reviews(self):\n",
    "        self.previous_total_reviews = 0\n",
    "        # Ensure visibility of initial reviews\n",
    "        self.wait.until(EC.visibility_of_element_located((By.XPATH, self.REVIEW_BLOCK_XPATH)))\n",
    "        while True:\n",
    "            # Wait for any loading indicators to disappear, ensuring the page is ready\n",
    "            self.short_wait.until(EC.invisibility_of_element((By.XPATH, self.LOADING_INDICATOR)))\n",
    "\n",
    "            review_elements = self.driver.find_elements(By.XPATH, self.REVIEW_BLOCK_XPATH)\n",
    "            current_total_reviews = len(review_elements)\n",
    "\n",
    "            if not review_elements or current_total_reviews == self.previous_total_reviews:\n",
    "                # If no new reviews are loaded or if the count hasn't changed, exit the loop\n",
    "                break\n",
    "\n",
    "            scroll_target_xpath = \".//div[4]\"  # Adjust based on the precise element you need to scroll to\n",
    "            scroll_target = review_elements[-1].find_element(By.XPATH, scroll_target_xpath)\n",
    "\n",
    "            # Scroll to the specific target element to trigger loading more reviews\n",
    "            self.driver.execute_script(\"arguments[0].scrollIntoView(true);\", scroll_target)\n",
    "\n",
    "            # Use WebDriverWait to explicitly wait for the number of reviews to increase\n",
    "            try:\n",
    "                WebDriverWait(self.driver, 10).until(\n",
    "                    lambda driver: len(driver.find_elements(By.XPATH, self.REVIEW_BLOCK_XPATH)) > self.previous_total_reviews)\n",
    "                # Update current count after waiting\n",
    "                current_total_reviews = len(self.driver.find_elements(By.XPATH, self.REVIEW_BLOCK_XPATH))\n",
    "            except TimeoutException:\n",
    "                # If no new reviews are loaded within the timeout, assume all reviews are loaded\n",
    "                break\n",
    "\n",
    "            self.previous_total_reviews = current_total_reviews\n",
    "            self.short_wait.until(EC.invisibility_of_element((By.XPATH, self.LOADING_INDICATOR)))\n",
    "        print(f\"Final count of reviews loaded: {current_total_reviews}\")\n",
    "\n",
    "    def click_translate_buttons(self):\n",
    "        try:\n",
    "            review_elements = self.driver.find_elements(By.XPATH, self.REVIEW_ELEMENTS_XPATH)\n",
    "            for i, _ in enumerate(review_elements, start=1):\n",
    "                translate_button_xpath = self.TRANSLATE_BUTTON_XPATH.format(i=i)\n",
    "                translate_buttons = self.driver.find_elements(By.XPATH, translate_button_xpath)\n",
    "                if translate_buttons:\n",
    "                    translate_buttons[0].click()\n",
    "        except Exception as e:\n",
    "            print(f\"Error clicking translate buttons: {e}\")\n",
    "\n",
    "    def click_more_buttons(self):\n",
    "        try:\n",
    "            more_buttons = self.driver.find_elements(By.XPATH, self.MORE_BUTTON_XPATH)\n",
    "            for button in more_buttons:\n",
    "                if button.is_displayed():\n",
    "                    self.driver.execute_script(\"arguments[0].scrollIntoView();\", button)\n",
    "                    try:\n",
    "                        button.click()\n",
    "                    except Exception as e:\n",
    "                        print(f\"Skipping a non-interactable 'More' button: {e}\")\n",
    "        except Exception as e:\n",
    "            print(f\"Error clicking 'More' buttons: {e}\")\n",
    "\n",
    "    @staticmethod\n",
    "    def extract_rating(aria_label):\n",
    "        # Assuming the format is \"Ocijenjeno s 5,0 od ukupno 5\"\n",
    "        # Adjust the regular expression to match this format\n",
    "        match = re.search(r\"Ocijenjeno s (\\d+,\\d+|\\d+) od ukupno 5\", aria_label)\n",
    "        if match:\n",
    "            # Replace comma with dot for float conversion if necessary\n",
    "            rating_str = match.group(1).replace(',', '.')\n",
    "            return float(rating_str)\n",
    "        else:\n",
    "            return None\n",
    "\n",
    "    def collect_reviews(self):\n",
    "        common_parents = self.driver.find_elements(By.XPATH, self.REVIEW_BLOCK_XPATH)\n",
    "        print(f\"Found {len(common_parents)} common parent elements.\")\n",
    "\n",
    "        # Initialize count of non-empty reviews collected\n",
    "        count_non_empty_reviews = 0\n",
    "\n",
    "        for i, common_parent_element in enumerate(common_parents, start=1):\n",
    "            try:\n",
    "                review_element = common_parent_element.find_element(By.XPATH, \".//div[contains(@class, 'OA1nbd')]\")\n",
    "                rating_element = common_parent_element.find_element(By.XPATH,\n",
    "                                                                    \".//div[@role='img'][contains(@aria-label, 'Ocijenjeno s')]\")\n",
    "\n",
    "                review_text = review_element.text.strip()\n",
    "                if review_text:  # Ensure review text is not empty\n",
    "                    rating_text = rating_element.get_attribute('aria-label')\n",
    "                    rating = self.extract_rating(rating_text)  # Extract numerical rating\n",
    "\n",
    "                    if rating is not None:  # Check if rating extraction was successful\n",
    "                        # Append review and rating to DataFrame\n",
    "                        self.reviews_df.loc[len(self.reviews_df)] = [review_text, rating]\n",
    "                        count_non_empty_reviews += 1  # Increment count of collected reviews\n",
    "\n",
    "            except NoSuchElementException:\n",
    "                print(f\"Review or rating not found for block {i}. Skipping...\")\n",
    "\n",
    "        print(f\"Collection completed. Total reviews collected: {count_non_empty_reviews}\")\n",
    "\n",
    "    def save_reviews_to_csv(self, filename='reviews_and_ratings.csv'):\n",
    "        project_root = os.path.dirname(os.getcwd())\n",
    "        directory = os.path.join(project_root, 'data', 'raw')\n",
    "\n",
    "        if not os.path.exists(directory):\n",
    "            os.makedirs(directory)\n",
    "\n",
    "        filepath = os.path.join(directory, filename)\n",
    "\n",
    "        try:\n",
    "            self.reviews_df.to_csv(filepath, index=False)\n",
    "            print(f\"Saved reviews to {filepath}\")\n",
    "        except Exception as e:\n",
    "            print(f\"Error saving reviews to CSV: {e}\")\n"
   ],
   "metadata": {
    "collapsed": false,
    "ExecuteTime": {
     "start_time": "2024-02-19T10:57:24.800361200Z"
    }
   },
   "id": "be42ebfa7f24c6ca",
   "execution_count": null
  },
  {
   "cell_type": "code",
   "outputs": [],
   "source": [
    "review_scraper = ReviewScraper(driver=driver)"
   ],
   "metadata": {
    "collapsed": false,
    "ExecuteTime": {
     "end_time": "2024-02-19T10:57:24.818334800Z",
     "start_time": "2024-02-19T10:57:24.805800800Z"
    }
   },
   "id": "4238b08cc5b46681",
   "execution_count": null
  },
  {
   "cell_type": "code",
   "outputs": [
    {
     "name": "stdout",
     "output_type": "stream",
     "text": [
      "Final count of reviews loaded: 2143\n"
     ]
    }
   ],
   "source": [
    "review_scraper.load_reviews()"
   ],
   "metadata": {
    "collapsed": false,
    "ExecuteTime": {
     "end_time": "2024-02-18T21:59:31.822394600Z",
     "start_time": "2024-02-18T21:52:33.228383500Z"
    }
   },
   "id": "7d77da306b8f9e97",
   "execution_count": 77
  },
  {
   "cell_type": "code",
   "outputs": [],
   "source": [
    "review_scraper.click_more_buttons()"
   ],
   "metadata": {
    "collapsed": false,
    "ExecuteTime": {
     "end_time": "2024-02-18T22:02:35.693293300Z",
     "start_time": "2024-02-18T22:00:31.699506300Z"
    }
   },
   "id": "94aaf0054a56a3df",
   "execution_count": 78
  },
  {
   "cell_type": "code",
   "outputs": [
    {
     "name": "stdout",
     "output_type": "stream",
     "text": [
      "Found 2223 common parent elements.\n",
      "Review or rating not found for block 1734. Skipping...\n",
      "Review or rating not found for block 1795. Skipping...\n",
      "Review or rating not found for block 1803. Skipping...\n",
      "Review or rating not found for block 1809. Skipping...\n",
      "Review or rating not found for block 1816. Skipping...\n",
      "Review or rating not found for block 1825. Skipping...\n",
      "Review or rating not found for block 1839. Skipping...\n",
      "Review or rating not found for block 1841. Skipping...\n",
      "Review or rating not found for block 1845. Skipping...\n",
      "Review or rating not found for block 1850. Skipping...\n",
      "Review or rating not found for block 1853. Skipping...\n",
      "Review or rating not found for block 1892. Skipping...\n",
      "Review or rating not found for block 1904. Skipping...\n",
      "Review or rating not found for block 1908. Skipping...\n",
      "Review or rating not found for block 1917. Skipping...\n",
      "Review or rating not found for block 1931. Skipping...\n",
      "Review or rating not found for block 1935. Skipping...\n",
      "Review or rating not found for block 1956. Skipping...\n",
      "Review or rating not found for block 1960. Skipping...\n",
      "Review or rating not found for block 1969. Skipping...\n",
      "Review or rating not found for block 1980. Skipping...\n",
      "Review or rating not found for block 1981. Skipping...\n",
      "Review or rating not found for block 1993. Skipping...\n",
      "Review or rating not found for block 1994. Skipping...\n",
      "Review or rating not found for block 1996. Skipping...\n",
      "Review or rating not found for block 1998. Skipping...\n",
      "Review or rating not found for block 2002. Skipping...\n",
      "Review or rating not found for block 2003. Skipping...\n",
      "Review or rating not found for block 2014. Skipping...\n",
      "Review or rating not found for block 2016. Skipping...\n",
      "Review or rating not found for block 2018. Skipping...\n",
      "Review or rating not found for block 2019. Skipping...\n",
      "Review or rating not found for block 2027. Skipping...\n",
      "Review or rating not found for block 2028. Skipping...\n",
      "Review or rating not found for block 2035. Skipping...\n",
      "Review or rating not found for block 2038. Skipping...\n",
      "Review or rating not found for block 2046. Skipping...\n",
      "Review or rating not found for block 2173. Skipping...\n",
      "Review or rating not found for block 2179. Skipping...\n",
      "Review or rating not found for block 2180. Skipping...\n",
      "Review or rating not found for block 2185. Skipping...\n",
      "Review or rating not found for block 2186. Skipping...\n",
      "Review or rating not found for block 2187. Skipping...\n",
      "Review or rating not found for block 2188. Skipping...\n",
      "Review or rating not found for block 2189. Skipping...\n",
      "Review or rating not found for block 2190. Skipping...\n",
      "Review or rating not found for block 2191. Skipping...\n",
      "Review or rating not found for block 2192. Skipping...\n",
      "Review or rating not found for block 2193. Skipping...\n",
      "Review or rating not found for block 2194. Skipping...\n",
      "Review or rating not found for block 2195. Skipping...\n",
      "Review or rating not found for block 2196. Skipping...\n",
      "Review or rating not found for block 2197. Skipping...\n",
      "Review or rating not found for block 2198. Skipping...\n",
      "Review or rating not found for block 2199. Skipping...\n",
      "Review or rating not found for block 2200. Skipping...\n",
      "Review or rating not found for block 2201. Skipping...\n",
      "Review or rating not found for block 2202. Skipping...\n",
      "Review or rating not found for block 2203. Skipping...\n",
      "Review or rating not found for block 2204. Skipping...\n",
      "Review or rating not found for block 2205. Skipping...\n",
      "Review or rating not found for block 2206. Skipping...\n",
      "Review or rating not found for block 2207. Skipping...\n",
      "Review or rating not found for block 2208. Skipping...\n",
      "Review or rating not found for block 2209. Skipping...\n",
      "Review or rating not found for block 2210. Skipping...\n",
      "Review or rating not found for block 2211. Skipping...\n",
      "Review or rating not found for block 2212. Skipping...\n",
      "Review or rating not found for block 2213. Skipping...\n",
      "Review or rating not found for block 2214. Skipping...\n",
      "Review or rating not found for block 2215. Skipping...\n",
      "Review or rating not found for block 2216. Skipping...\n",
      "Review or rating not found for block 2217. Skipping...\n",
      "Review or rating not found for block 2218. Skipping...\n",
      "Review or rating not found for block 2219. Skipping...\n",
      "Review or rating not found for block 2220. Skipping...\n",
      "Review or rating not found for block 2221. Skipping...\n",
      "Review or rating not found for block 2222. Skipping...\n",
      "Review or rating not found for block 2223. Skipping...\n",
      "Collection completed. Total reviews collected: 1095\n"
     ]
    }
   ],
   "source": [
    "review_scraper.collect_reviews()"
   ],
   "metadata": {
    "collapsed": false,
    "ExecuteTime": {
     "end_time": "2024-02-18T22:08:53.921342300Z",
     "start_time": "2024-02-18T22:02:35.698647200Z"
    }
   },
   "id": "24e036671cc805c4",
   "execution_count": 79
  },
  {
   "cell_type": "code",
   "outputs": [
    {
     "name": "stdout",
     "output_type": "stream",
     "text": [
      "Saved reviews to C:\\Users\\ivan.zeljeznjak\\DataspellProjects\\RedditSentimentAnalysis\\data\\raw\\reviews_and_ratings.csv\n"
     ]
    }
   ],
   "source": [
    "review_scraper.save_reviews_to_csv()"
   ],
   "metadata": {
    "collapsed": false,
    "ExecuteTime": {
     "end_time": "2024-02-18T21:41:31.049737500Z",
     "start_time": "2024-02-18T21:41:30.882155200Z"
    }
   },
   "id": "cbf40f15b8e9af88",
   "execution_count": 57
  },
  {
   "cell_type": "markdown",
   "source": [
    "todo: dodaj neki counter za % reviewa koji su collectani, usporedi loadanje reviewe sa ukupnim "
   ],
   "metadata": {
    "collapsed": false
   },
   "id": "bcfe939cac053fee"
  }
 ],
 "metadata": {
  "kernelspec": {
   "display_name": "Python 3",
   "language": "python",
   "name": "python3"
  },
  "language_info": {
   "codemirror_mode": {
    "name": "ipython",
    "version": 2
   },
   "file_extension": ".py",
   "mimetype": "text/x-python",
   "name": "python",
   "nbconvert_exporter": "python",
   "pygments_lexer": "ipython2",
   "version": "2.7.6"
  }
 },
 "nbformat": 4,
 "nbformat_minor": 5
}
