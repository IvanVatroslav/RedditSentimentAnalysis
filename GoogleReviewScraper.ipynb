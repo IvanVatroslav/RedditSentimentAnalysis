{
 "cells": [
  {
   "cell_type": "code",
   "execution_count": 187,
   "id": "initial_id",
   "metadata": {
    "collapsed": true,
    "ExecuteTime": {
     "end_time": "2024-01-31T14:26:46.859319100Z",
     "start_time": "2024-01-31T14:26:46.822793600Z"
    }
   },
   "outputs": [],
   "source": [
    "from selenium import webdriver\n",
    "from selenium.webdriver.common.by import By\n",
    "from selenium.webdriver.support.ui import WebDriverWait\n",
    "from selenium.webdriver.support import expected_conditions as EC\n",
    "import time\n",
    "from selenium.common import NoSuchElementException\n",
    "from selenium.common import TimeoutException\n",
    "import numpy as np\n",
    "from selenium.webdriver import ActionChains\n",
    "import pandas as pd\n",
    "import re"
   ]
  },
  {
   "cell_type": "code",
   "outputs": [],
   "source": [
    "url='https://www.google.com/search?rlz=1C1GCEA_enHR1085HR1085&q=Casablanca%20Reviews&rflfq=1&num=20&stick=H4sIAAAAAAAAAONgkxI2sTQzMjUzsDC2NDUzMTMzN7W03MDI-IpRyDmxODEpJzEvOVEhKLUsM7W8eBErFkEAULFNy0QAAAA&rldimm=4962560839564667599&tbm=lcl&hl=en&sa=X&ved=0CAYQ5foLahcKEwiAzYbJzIKEAxUAAAAAHQAAAAAQCg&biw=1536&bih=729&dpr=1.25#lkt=LocalPoiReviews&arid=ChZDSUhNMG9nS0VJQ0FnSURSNWJlRUhnEAE'"
   ],
   "metadata": {
    "collapsed": false,
    "ExecuteTime": {
     "end_time": "2024-01-31T14:26:04.369293300Z",
     "start_time": "2024-01-31T14:26:04.340197Z"
    }
   },
   "id": "de5ac36b4c8fdcbc",
   "execution_count": 184
  },
  {
   "cell_type": "code",
   "outputs": [],
   "source": [
    "driver = webdriver.Chrome()\n",
    "wait = WebDriverWait(driver, 10)\n",
    "\n",
    "driver.get(url)\n",
    "\n",
    "AcceptCookies = wait.until(EC.element_to_be_clickable((By.XPATH, \"//button[contains(., 'Accept all')]\")))\n",
    "AcceptCookies.click()\n",
    "driver.maximize_window()"
   ],
   "metadata": {
    "collapsed": false,
    "ExecuteTime": {
     "end_time": "2024-01-31T14:27:29.033244500Z",
     "start_time": "2024-01-31T14:27:12.823157600Z"
    }
   },
   "id": "961fc9816f15ada",
   "execution_count": 189
  },
  {
   "cell_type": "code",
   "outputs": [],
   "source": [
    "driver.quit()\n"
   ],
   "metadata": {
    "collapsed": false,
    "ExecuteTime": {
     "end_time": "2024-01-31T14:27:07.831176500Z",
     "start_time": "2024-01-31T14:27:03.862154900Z"
    }
   },
   "id": "a0ed085d6aacb9ca",
   "execution_count": 188
  },
  {
   "cell_type": "code",
   "outputs": [],
   "source": [
    "ReviewsTab = wait.until(EC.element_to_be_clickable((By.XPATH, \"//div[contains(@class, 'SVWlSe') and contains(@class, 't35a5d')]//span[text()='Reviews']\")))\n",
    "ReviewsTab.click()"
   ],
   "metadata": {
    "collapsed": false,
    "ExecuteTime": {
     "end_time": "2024-01-31T14:27:34.503682400Z",
     "start_time": "2024-01-31T14:27:33.612844500Z"
    }
   },
   "id": "ba1a346bf6dc84a8",
   "execution_count": 190
  },
  {
   "cell_type": "code",
   "outputs": [],
   "source": [
    "total_reviews_element=driver.find_element(By.XPATH, \"//*[@id='akp_tsuid_13']/div/div[1]/div/g-sticky-content-container/div/block-component/div/div[1]/div/div/div/div[1]/div/div/div[6]/g-flippy-carousel/div/div/ol/li[3]/span/div/div/div/div[1]/div/div[3]/div/div/div[1]/div[2]/div/div/span/span\")\n",
    "total_reviews_text = total_reviews_element.text\n",
    "total_reviews = int(total_reviews_text.split()[0])"
   ],
   "metadata": {
    "collapsed": false,
    "ExecuteTime": {
     "end_time": "2024-01-31T14:27:42.288919900Z",
     "start_time": "2024-01-31T14:27:42.207401600Z"
    }
   },
   "id": "88adfd56cddf260f",
   "execution_count": 191
  },
  {
   "cell_type": "code",
   "outputs": [],
   "source": [],
   "metadata": {
    "collapsed": false,
    "ExecuteTime": {
     "end_time": "2024-01-29T21:34:46.597457100Z",
     "start_time": "2024-01-29T21:34:46.551582200Z"
    }
   },
   "id": "fcf3bd714a7f32f1"
  },
  {
   "cell_type": "code",
   "outputs": [],
   "source": [
    "%%sql\n"
   ],
   "metadata": {
    "collapsed": false,
    "SqlCellData": {
     "variableName$1": "df_sql"
    },
    "ExecuteTime": {
     "start_time": "2024-01-29T21:34:46.570529200Z"
    }
   },
   "id": "558ce0f34e3a3e09"
  },
  {
   "cell_type": "code",
   "outputs": [],
   "source": [
    "# Initialize a variable to store the text of the last review from the previous iteration\n",
    "previous_last_review_text = None\n",
    "\n",
    "while True:\n",
    "    review_elements = driver.find_elements(By.XPATH, \"//*[@data-hveid='2']/following-sibling::*//div[@class='OA1nbd']\")\n",
    "    if not review_elements:\n",
    "        break  # Break if no reviews are found\n",
    "\n",
    "    last_element = review_elements[-1]\n",
    "    last_element.location_once_scrolled_into_view\n",
    "    time.sleep(2)  # Waiting for potential loading of new reviews\n",
    "\n",
    "    current_last_review_text = last_element.text.strip()\n",
    "\n",
    "    # Check if the last review text is the same as in the previous iteration\n",
    "    if current_last_review_text == previous_last_review_text:\n",
    "        break  # Break the loop if we are seeing the same last review as before\n",
    "\n",
    "    previous_last_review_text = current_last_review_text  # Update the last review text for the next iteration\n",
    "\n",
    "# Continue with the rest of your code...\n"
   ],
   "metadata": {
    "collapsed": false,
    "ExecuteTime": {
     "end_time": "2024-01-31T14:28:22.801602900Z",
     "start_time": "2024-01-31T14:27:46.653709400Z"
    }
   },
   "id": "9966f9feeb038942",
   "execution_count": 192
  },
  {
   "cell_type": "code",
   "outputs": [],
   "source": [
    "first_review = driver.find_element(By.XPATH, \"//div[@data-attrid='kc:/local:all reviews']//div[3]/div/div[1]//div[@class='OA1nbd']\")\n",
    "first_review.location_once_scrolled_into_view\n",
    "driver.execute_script(\"arguments[0].scrollIntoView();\", first_review)\n"
   ],
   "metadata": {
    "collapsed": false,
    "ExecuteTime": {
     "end_time": "2024-01-31T14:28:29.666537100Z",
     "start_time": "2024-01-31T14:28:29.543999100Z"
    }
   },
   "id": "e6f05305b74ddaa1",
   "execution_count": 193
  },
  {
   "cell_type": "code",
   "outputs": [],
   "source": [],
   "metadata": {
    "collapsed": false,
    "ExecuteTime": {
     "end_time": "2024-01-31T11:28:26.937749800Z",
     "start_time": "2024-01-31T11:28:26.926671100Z"
    }
   },
   "id": "e53c5c44569e0e42",
   "execution_count": 118
  },
  {
   "cell_type": "code",
   "outputs": [],
   "source": [
    "# Fetch all review elements\n",
    "review_elements_xpath = \"//div[@data-attrid='kc:/local:all reviews']//div[3]/div/div//div[@class='OA1nbd']\"\n",
    "review_elements = driver.find_elements(By.XPATH, review_elements_xpath)\n",
    "\n",
    "# First pass: Click all 'Translate' buttons\n",
    "for i in range(1, len(review_elements) + 1):\n",
    "    translate_button_xpath = f\"//div[@data-attrid='kc:/local:all reviews']//div[3]/div/div[{i}]/div[3]//button[contains(@class, 'qGGAec') and .//span[contains(text(), 'Translated by Google')]]\"\n",
    "    translate_buttons = driver.find_elements(By.XPATH, translate_button_xpath)\n",
    "    if translate_buttons:\n",
    "        translate_buttons[0].click()\n",
    "        #time.sleep(1)  # Adjust timing as necessary"
   ],
   "metadata": {
    "collapsed": false,
    "ExecuteTime": {
     "end_time": "2024-01-31T14:30:48.757418600Z",
     "start_time": "2024-01-31T14:29:45.597179100Z"
    }
   },
   "id": "ccebc51438fddc4",
   "execution_count": 194
  },
  {
   "cell_type": "code",
   "outputs": [],
   "source": [
    "# Second pass: Click all 'More' buttons\n",
    "for i in range(1, len(review_elements) + 1):\n",
    "    more_button_xpath = f\"//div[@data-attrid='kc:/local:all reviews']//div[3]/div/div[{i}]//div[@class='OA1nbd']//a[@role='button' and contains(text(), 'More')]\"\n",
    "    more_buttons = driver.find_elements(By.XPATH, more_button_xpath)\n",
    "    if more_buttons and more_buttons[0].is_displayed():\n",
    "        driver.execute_script(\"arguments[0].scrollIntoView();\", more_buttons[0])\n",
    "        time.sleep(0.5)  # Allow time for scrolling\n",
    "        try:\n",
    "            more_buttons[0].click()\n",
    "            time.sleep(0.5)  # Adjust timing as necessary\n",
    "        except Exception as e:\n",
    "            print(f\"Skipping a non-interactable 'More' button at index {i}: {e}\")\n"
   ],
   "metadata": {
    "collapsed": false,
    "ExecuteTime": {
     "end_time": "2024-01-31T12:01:15.770721600Z",
     "start_time": "2024-01-31T11:59:41.042869500Z"
    }
   },
   "id": "c1d375b32e0abc95",
   "execution_count": 129
  },
  {
   "cell_type": "code",
   "outputs": [],
   "source": [
    "def extract_rating(aria_label):\n",
    "    match = re.search(r\"Rated (\\d+(\\.\\d+)?) out of 5\", aria_label)\n",
    "    return float(match.group(1)) if match else None"
   ],
   "metadata": {
    "collapsed": false,
    "ExecuteTime": {
     "end_time": "2024-01-31T13:01:09.723403100Z",
     "start_time": "2024-01-31T13:01:09.669181400Z"
    }
   },
   "id": "ed4debb74c2b90cc",
   "execution_count": 158
  },
  {
   "cell_type": "code",
   "outputs": [],
   "source": [],
   "metadata": {
    "collapsed": false,
    "ExecuteTime": {
     "end_time": "2024-01-31T12:59:52.539330100Z",
     "start_time": "2024-01-31T12:59:52.449118100Z"
    }
   },
   "id": "3a19705fb75312e2",
   "execution_count": 156
  },
  {
   "cell_type": "code",
   "outputs": [],
   "source": [
    "# Initialize lists for reviews and ratings\n",
    "reviews = []\n",
    "ratings = []\n",
    "\n",
    "# Start of the main scraping process\n",
    "previous_last_review_text = None\n",
    "\n",
    "# Scrape the first review and rating as a starting point\n",
    "first_review = driver.find_element(By.XPATH, \"//div[@data-attrid='kc:/local:all reviews']//div[3]/div/div[1]//div[@class='OA1nbd']\")\n",
    "first_review_rating_element = driver.find_element(By.XPATH, \"//div[@data-attrid='kc:/local:all reviews']//div[3]/div/div[1]//div[contains(@aria-label, 'Rated') and contains(@role, 'img')]\")\n",
    "\n",
    "reviews.append(first_review.text.strip())\n",
    "ratings.append(extract_rating(first_review_rating_element.get_attribute('aria-label')))\n",
    "\n",
    "# Main loop to scrape reviews and ratings\n",
    "while True:\n",
    "    review_elements = driver.find_elements(By.XPATH, \"//*[@data-hveid='2']/following-sibling::*//div[@class='OA1nbd']\")\n",
    "\n",
    "    if not review_elements:\n",
    "        break  # Break if no reviews are found\n",
    "\n",
    "    last_element = review_elements[-1]\n",
    "    driver.execute_script(\"arguments[0].scrollIntoView();\", last_element)\n",
    "\n",
    "    # Refresh the list of review elements after scrolling\n",
    "    review_elements = driver.find_elements(By.XPATH, \"//*[@data-hveid='2']/following-sibling::*//div[@class='OA1nbd']\")\n",
    "    rating_elements = driver.find_elements(By.XPATH, \"//*[@data-hveid='2']/following-sibling::*//div[contains(@aria-label, 'Rated') and contains(@role, 'img')]\")\n",
    "\n",
    "    current_last_review_text = review_elements[-1].text.strip()\n",
    "\n",
    "    # Check if the last review text is the same as in the previous iteration\n",
    "    if current_last_review_text == previous_last_review_text:\n",
    "        break  # Break the loop if we are seeing the same last review as before\n",
    "\n",
    "    for review_element, rating_element in zip(review_elements, rating_elements):\n",
    "        review_text = review_element.text.strip()\n",
    "        rating_text = rating_element.get_attribute('aria-label')\n",
    "\n",
    "        if review_text and (review_text not in reviews):\n",
    "            reviews.append(review_text)\n",
    "            ratings.append(extract_rating(rating_text))\n",
    "\n",
    "    previous_last_review_text = current_last_review_text\n",
    "\n",
    "# Print the reviews and ratings for confirmation\n",
    "for review, rating in zip(reviews, ratings):\n",
    "    print(f\"Review: {review}, Rating: {rating}\")"
   ],
   "metadata": {
    "collapsed": false
   },
   "id": "f85f4a0442ca6289",
   "execution_count": null
  },
  {
   "cell_type": "code",
   "outputs": [],
   "source": [],
   "metadata": {
    "collapsed": false
   },
   "id": "6da20ec1ba34e5dc"
  }
 ],
 "metadata": {
  "kernelspec": {
   "display_name": "Python 3",
   "language": "python",
   "name": "python3"
  },
  "language_info": {
   "codemirror_mode": {
    "name": "ipython",
    "version": 2
   },
   "file_extension": ".py",
   "mimetype": "text/x-python",
   "name": "python",
   "nbconvert_exporter": "python",
   "pygments_lexer": "ipython2",
   "version": "2.7.6"
  }
 },
 "nbformat": 4,
 "nbformat_minor": 5
}
