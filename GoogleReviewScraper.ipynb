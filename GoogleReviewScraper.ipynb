{
 "cells": [
  {
   "cell_type": "code",
   "execution_count": 1,
   "id": "initial_id",
   "metadata": {
    "collapsed": true,
    "ExecuteTime": {
     "end_time": "2024-01-30T07:49:33.454576Z",
     "start_time": "2024-01-30T07:49:32.416352400Z"
    }
   },
   "outputs": [],
   "source": [
    "from selenium import webdriver\n",
    "from selenium.webdriver.common.by import By\n",
    "from selenium.webdriver.support.ui import WebDriverWait\n",
    "from selenium.webdriver.support import expected_conditions as EC\n",
    "import time\n",
    "from selenium.common import NoSuchElementException\n",
    "from selenium.common import TimeoutException\n",
    "import numpy as np\n",
    "from selenium.webdriver import ActionChains\n",
    "import pandas as pd"
   ]
  },
  {
   "cell_type": "code",
   "outputs": [],
   "source": [
    "url='https://www.google.com/search?rlz=1C1GCEA_enHR1085HR1085&q=Casablanca%20Reviews&rflfq=1&num=20&stick=H4sIAAAAAAAAAONgkxI2sTQzMjUzsDC2NDUzMTMzN7W03MDI-IpRyDmxODEpJzEvOVEhKLUsM7W8eBErFkEAULFNy0QAAAA&rldimm=4962560839564667599&tbm=lcl&hl=en&sa=X&ved=0CAYQ5foLahcKEwiAzYbJzIKEAxUAAAAAHQAAAAAQCg&biw=1536&bih=729&dpr=1.25#lkt=LocalPoiReviews&arid=ChZDSUhNMG9nS0VJQ0FnSURSNWJlRUhnEAE'"
   ],
   "metadata": {
    "collapsed": false,
    "ExecuteTime": {
     "end_time": "2024-01-30T07:49:33.468546600Z",
     "start_time": "2024-01-30T07:49:33.454576Z"
    }
   },
   "id": "de5ac36b4c8fdcbc",
   "execution_count": 2
  },
  {
   "cell_type": "code",
   "outputs": [],
   "source": [
    "driver = webdriver.Chrome()\n",
    "wait = WebDriverWait(driver, 10)\n",
    "\n",
    "driver.get(url)\n",
    "\n",
    "AcceptCookies = wait.until(EC.element_to_be_clickable((By.XPATH, \"//button[contains(., 'Accept all')]\")))\n",
    "AcceptCookies.click()\n",
    "driver.maximize_window()"
   ],
   "metadata": {
    "collapsed": false,
    "ExecuteTime": {
     "end_time": "2024-01-30T07:49:40.210379300Z",
     "start_time": "2024-01-30T07:49:33.461559Z"
    }
   },
   "id": "961fc9816f15ada",
   "execution_count": 3
  },
  {
   "cell_type": "code",
   "outputs": [],
   "source": [
    "driver.quit()\n"
   ],
   "metadata": {
    "collapsed": false,
    "ExecuteTime": {
     "end_time": "2024-01-30T07:30:39.931144100Z",
     "start_time": "2024-01-30T07:30:37.706236200Z"
    }
   },
   "id": "a0ed085d6aacb9ca",
   "execution_count": 13
  },
  {
   "cell_type": "code",
   "outputs": [],
   "source": [
    "ReviewsTab = wait.until(EC.element_to_be_clickable((By.XPATH, \"//div[contains(@class, 'SVWlSe') and contains(@class, 't35a5d')]//span[text()='Reviews']\")))\n",
    "ReviewsTab.click()"
   ],
   "metadata": {
    "collapsed": false,
    "ExecuteTime": {
     "end_time": "2024-01-30T07:49:41.198385500Z",
     "start_time": "2024-01-30T07:49:41.032828600Z"
    }
   },
   "id": "ba1a346bf6dc84a8",
   "execution_count": 4
  },
  {
   "cell_type": "code",
   "outputs": [],
   "source": [
    "total_reviews_element=driver.find_element(By.XPATH, \"//*[@id='akp_tsuid_13']/div/div[1]/div/g-sticky-content-container/div/block-component/div/div[1]/div/div/div/div[1]/div/div/div[6]/g-flippy-carousel/div/div/ol/li[3]/span/div/div/div/div[1]/div/div[3]/div/div/div[1]/div[2]/div/div/span/span\")\n",
    "total_reviews_text = total_reviews_element.text\n",
    "total_reviews = int(total_reviews_text.split()[0])"
   ],
   "metadata": {
    "collapsed": false,
    "ExecuteTime": {
     "end_time": "2024-01-30T07:49:45.163344200Z",
     "start_time": "2024-01-30T07:49:45.117461600Z"
    }
   },
   "id": "88adfd56cddf260f",
   "execution_count": 5
  },
  {
   "cell_type": "code",
   "outputs": [],
   "source": [],
   "metadata": {
    "collapsed": false,
    "ExecuteTime": {
     "end_time": "2024-01-29T21:34:46.597457100Z",
     "start_time": "2024-01-29T21:34:46.551582200Z"
    }
   },
   "id": "fcf3bd714a7f32f1"
  },
  {
   "cell_type": "code",
   "outputs": [],
   "source": [],
   "metadata": {
    "collapsed": false,
    "ExecuteTime": {
     "start_time": "2024-01-29T21:34:46.556581400Z"
    }
   },
   "id": "865c95ed8678730c"
  },
  {
   "cell_type": "code",
   "outputs": [],
   "source": [],
   "metadata": {
    "collapsed": false,
    "ExecuteTime": {
     "start_time": "2024-01-29T21:34:46.560557600Z"
    }
   },
   "id": "7a7f8132235f0503"
  },
  {
   "cell_type": "code",
   "outputs": [],
   "source": [],
   "metadata": {
    "collapsed": false,
    "ExecuteTime": {
     "start_time": "2024-01-29T21:34:46.567539600Z"
    }
   },
   "id": "60af7ac50a0f9828",
   "execution_count": null
  },
  {
   "cell_type": "code",
   "outputs": [],
   "source": [
    "%%sql\n"
   ],
   "metadata": {
    "collapsed": false,
    "SqlCellData": {
     "variableName$1": "df_sql"
    },
    "ExecuteTime": {
     "start_time": "2024-01-29T21:34:46.570529200Z"
    }
   },
   "id": "558ce0f34e3a3e09"
  },
  {
   "cell_type": "code",
   "outputs": [
    {
     "ename": "KeyboardInterrupt",
     "evalue": "",
     "output_type": "error",
     "traceback": [
      "\u001B[1;31m---------------------------------------------------------------------------\u001B[0m",
      "\u001B[1;31mKeyboardInterrupt\u001B[0m                         Traceback (most recent call last)",
      "Cell \u001B[1;32mIn[9], line 12\u001B[0m\n\u001B[0;32m     10\u001B[0m \u001B[38;5;28;01mif\u001B[39;00m loaded_reviews_count \u001B[38;5;241m<\u001B[39m total_reviews:\n\u001B[0;32m     11\u001B[0m     driver\u001B[38;5;241m.\u001B[39mexecute_script(\u001B[38;5;124m\"\u001B[39m\u001B[38;5;124marguments[0].scrollIntoView();\u001B[39m\u001B[38;5;124m\"\u001B[39m, loaded_reviews_elements[\u001B[38;5;241m-\u001B[39m\u001B[38;5;241m1\u001B[39m])\n\u001B[1;32m---> 12\u001B[0m     \u001B[43mtime\u001B[49m\u001B[38;5;241;43m.\u001B[39;49m\u001B[43msleep\u001B[49m\u001B[43m(\u001B[49m\u001B[38;5;241;43m5\u001B[39;49m\u001B[43m)\u001B[49m\n",
      "\u001B[1;31mKeyboardInterrupt\u001B[0m: "
     ]
    }
   ],
   "source": [
    "\n",
    "while loaded_reviews_count < total_reviews:\n",
    "    loaded_reviews_elements = driver.find_elements(By.XPATH, \"//*[@data-hveid='2']/following-sibling::*//div[@class='OA1nbd']\")\n",
    "    for review_element in loaded_reviews_elements[loaded_reviews_count:]:\n",
    "        reviews.append(review_element.text)\n",
    "\n",
    "    loaded_reviews_count = len(loaded_reviews_elements)\n",
    "\n",
    "    if loaded_reviews_count < total_reviews:\n",
    "        driver.execute_script(\"arguments[0].scrollIntoView();\", loaded_reviews_elements[-1])\n",
    "        time.sleep(5)"
   ],
   "metadata": {
    "collapsed": false,
    "ExecuteTime": {
     "end_time": "2024-01-30T07:56:29.509050300Z",
     "start_time": "2024-01-30T07:56:13.886571800Z"
    }
   },
   "id": "3bf1ab43074a394c",
   "execution_count": 9
  },
  {
   "cell_type": "code",
   "outputs": [],
   "source": [
    "reviews_df = pd.DataFrame(reviews, columns=['Review'])"
   ],
   "metadata": {
    "collapsed": false,
    "ExecuteTime": {
     "start_time": "2024-01-29T21:34:46.575520900Z"
    }
   },
   "id": "93248235f02d11ca",
   "execution_count": null
  },
  {
   "cell_type": "code",
   "outputs": [],
   "source": [],
   "metadata": {
    "collapsed": false,
    "ExecuteTime": {
     "start_time": "2024-01-29T21:34:46.578515400Z"
    }
   },
   "id": "da889b957169c22f",
   "execution_count": null
  },
  {
   "cell_type": "code",
   "outputs": [
    {
     "ename": "NoSuchElementException",
     "evalue": "Message: no such element: Unable to locate element: {\"method\":\"xpath\",\"selector\":\"//div[@data-attrid='kc:/local:all reviews']//div[3]/div/div[24]//div[@class='OA1nbd']\"}\n  (Session info: chrome=121.0.6167.85); For documentation on this error, please visit: https://www.selenium.dev/documentation/webdriver/troubleshooting/errors#no-such-element-exception\nStacktrace:\n\tGetHandleVerifier [0x00007FF7EC375E42+3538674]\n\t(No symbol) [0x00007FF7EBF94C02]\n\t(No symbol) [0x00007FF7EBE45AEB]\n\t(No symbol) [0x00007FF7EBE8BF4E]\n\t(No symbol) [0x00007FF7EBE8C0CC]\n\t(No symbol) [0x00007FF7EBECE477]\n\t(No symbol) [0x00007FF7EBEAF0EF]\n\t(No symbol) [0x00007FF7EBECBDE3]\n\t(No symbol) [0x00007FF7EBEAEE53]\n\t(No symbol) [0x00007FF7EBE7F514]\n\t(No symbol) [0x00007FF7EBE80631]\n\tGetHandleVerifier [0x00007FF7EC3A6CAD+3738973]\n\tGetHandleVerifier [0x00007FF7EC3FC506+4089270]\n\tGetHandleVerifier [0x00007FF7EC3F4823+4057299]\n\tGetHandleVerifier [0x00007FF7EC0C5C49+720121]\n\t(No symbol) [0x00007FF7EBFA126F]\n\t(No symbol) [0x00007FF7EBF9C304]\n\t(No symbol) [0x00007FF7EBF9C432]\n\t(No symbol) [0x00007FF7EBF8BD04]\n\tBaseThreadInitThunk [0x00007FFC09BE7344+20]\n\tRtlUserThreadStart [0x00007FFC0B0026B1+33]\n",
     "output_type": "error",
     "traceback": [
      "\u001B[1;31m---------------------------------------------------------------------------\u001B[0m",
      "\u001B[1;31mNoSuchElementException\u001B[0m                    Traceback (most recent call last)",
      "Cell \u001B[1;32mIn[41], line 12\u001B[0m\n\u001B[0;32m     10\u001B[0m \u001B[38;5;28;01mfor\u001B[39;00m index, element \u001B[38;5;129;01min\u001B[39;00m \u001B[38;5;28menumerate\u001B[39m(review_elements, start\u001B[38;5;241m=\u001B[39m\u001B[38;5;241m1\u001B[39m):\n\u001B[0;32m     11\u001B[0m     current_review_xpath \u001B[38;5;241m=\u001B[39m \u001B[38;5;124mf\u001B[39m\u001B[38;5;124m\"\u001B[39m\u001B[38;5;124m//div[@data-attrid=\u001B[39m\u001B[38;5;124m'\u001B[39m\u001B[38;5;124mkc:/local:all reviews\u001B[39m\u001B[38;5;124m'\u001B[39m\u001B[38;5;124m]//div[3]/div/div[\u001B[39m\u001B[38;5;132;01m{\u001B[39;00mindex\u001B[38;5;132;01m}\u001B[39;00m\u001B[38;5;124m]//div[@class=\u001B[39m\u001B[38;5;124m'\u001B[39m\u001B[38;5;124mOA1nbd\u001B[39m\u001B[38;5;124m'\u001B[39m\u001B[38;5;124m]\u001B[39m\u001B[38;5;124m\"\u001B[39m\n\u001B[1;32m---> 12\u001B[0m     current_review \u001B[38;5;241m=\u001B[39m \u001B[43mdriver\u001B[49m\u001B[38;5;241;43m.\u001B[39;49m\u001B[43mfind_element\u001B[49m\u001B[43m(\u001B[49m\u001B[43mBy\u001B[49m\u001B[38;5;241;43m.\u001B[39;49m\u001B[43mXPATH\u001B[49m\u001B[43m,\u001B[49m\u001B[43m \u001B[49m\u001B[43mcurrent_review_xpath\u001B[49m\u001B[43m)\u001B[49m\n\u001B[0;32m     14\u001B[0m     \u001B[38;5;66;03m# Check for empty review\u001B[39;00m\n\u001B[0;32m     15\u001B[0m     review_text \u001B[38;5;241m=\u001B[39m current_review\u001B[38;5;241m.\u001B[39mtext\u001B[38;5;241m.\u001B[39mstrip()\n",
      "File \u001B[1;32m~\\DataspellProjects\\RedditSentimentAnalysis\\venv\\lib\\site-packages\\selenium\\webdriver\\remote\\webdriver.py:741\u001B[0m, in \u001B[0;36mWebDriver.find_element\u001B[1;34m(self, by, value)\u001B[0m\n\u001B[0;32m    738\u001B[0m     by \u001B[38;5;241m=\u001B[39m By\u001B[38;5;241m.\u001B[39mCSS_SELECTOR\n\u001B[0;32m    739\u001B[0m     value \u001B[38;5;241m=\u001B[39m \u001B[38;5;124mf\u001B[39m\u001B[38;5;124m'\u001B[39m\u001B[38;5;124m[name=\u001B[39m\u001B[38;5;124m\"\u001B[39m\u001B[38;5;132;01m{\u001B[39;00mvalue\u001B[38;5;132;01m}\u001B[39;00m\u001B[38;5;124m\"\u001B[39m\u001B[38;5;124m]\u001B[39m\u001B[38;5;124m'\u001B[39m\n\u001B[1;32m--> 741\u001B[0m \u001B[38;5;28;01mreturn\u001B[39;00m \u001B[38;5;28;43mself\u001B[39;49m\u001B[38;5;241;43m.\u001B[39;49m\u001B[43mexecute\u001B[49m\u001B[43m(\u001B[49m\u001B[43mCommand\u001B[49m\u001B[38;5;241;43m.\u001B[39;49m\u001B[43mFIND_ELEMENT\u001B[49m\u001B[43m,\u001B[49m\u001B[43m \u001B[49m\u001B[43m{\u001B[49m\u001B[38;5;124;43m\"\u001B[39;49m\u001B[38;5;124;43musing\u001B[39;49m\u001B[38;5;124;43m\"\u001B[39;49m\u001B[43m:\u001B[49m\u001B[43m \u001B[49m\u001B[43mby\u001B[49m\u001B[43m,\u001B[49m\u001B[43m \u001B[49m\u001B[38;5;124;43m\"\u001B[39;49m\u001B[38;5;124;43mvalue\u001B[39;49m\u001B[38;5;124;43m\"\u001B[39;49m\u001B[43m:\u001B[49m\u001B[43m \u001B[49m\u001B[43mvalue\u001B[49m\u001B[43m}\u001B[49m\u001B[43m)\u001B[49m[\u001B[38;5;124m\"\u001B[39m\u001B[38;5;124mvalue\u001B[39m\u001B[38;5;124m\"\u001B[39m]\n",
      "File \u001B[1;32m~\\DataspellProjects\\RedditSentimentAnalysis\\venv\\lib\\site-packages\\selenium\\webdriver\\remote\\webdriver.py:347\u001B[0m, in \u001B[0;36mWebDriver.execute\u001B[1;34m(self, driver_command, params)\u001B[0m\n\u001B[0;32m    345\u001B[0m response \u001B[38;5;241m=\u001B[39m \u001B[38;5;28mself\u001B[39m\u001B[38;5;241m.\u001B[39mcommand_executor\u001B[38;5;241m.\u001B[39mexecute(driver_command, params)\n\u001B[0;32m    346\u001B[0m \u001B[38;5;28;01mif\u001B[39;00m response:\n\u001B[1;32m--> 347\u001B[0m     \u001B[38;5;28;43mself\u001B[39;49m\u001B[38;5;241;43m.\u001B[39;49m\u001B[43merror_handler\u001B[49m\u001B[38;5;241;43m.\u001B[39;49m\u001B[43mcheck_response\u001B[49m\u001B[43m(\u001B[49m\u001B[43mresponse\u001B[49m\u001B[43m)\u001B[49m\n\u001B[0;32m    348\u001B[0m     response[\u001B[38;5;124m\"\u001B[39m\u001B[38;5;124mvalue\u001B[39m\u001B[38;5;124m\"\u001B[39m] \u001B[38;5;241m=\u001B[39m \u001B[38;5;28mself\u001B[39m\u001B[38;5;241m.\u001B[39m_unwrap_value(response\u001B[38;5;241m.\u001B[39mget(\u001B[38;5;124m\"\u001B[39m\u001B[38;5;124mvalue\u001B[39m\u001B[38;5;124m\"\u001B[39m, \u001B[38;5;28;01mNone\u001B[39;00m))\n\u001B[0;32m    349\u001B[0m     \u001B[38;5;28;01mreturn\u001B[39;00m response\n",
      "File \u001B[1;32m~\\DataspellProjects\\RedditSentimentAnalysis\\venv\\lib\\site-packages\\selenium\\webdriver\\remote\\errorhandler.py:229\u001B[0m, in \u001B[0;36mErrorHandler.check_response\u001B[1;34m(self, response)\u001B[0m\n\u001B[0;32m    227\u001B[0m         alert_text \u001B[38;5;241m=\u001B[39m value[\u001B[38;5;124m\"\u001B[39m\u001B[38;5;124malert\u001B[39m\u001B[38;5;124m\"\u001B[39m]\u001B[38;5;241m.\u001B[39mget(\u001B[38;5;124m\"\u001B[39m\u001B[38;5;124mtext\u001B[39m\u001B[38;5;124m\"\u001B[39m)\n\u001B[0;32m    228\u001B[0m     \u001B[38;5;28;01mraise\u001B[39;00m exception_class(message, screen, stacktrace, alert_text)  \u001B[38;5;66;03m# type: ignore[call-arg]  # mypy is not smart enough here\u001B[39;00m\n\u001B[1;32m--> 229\u001B[0m \u001B[38;5;28;01mraise\u001B[39;00m exception_class(message, screen, stacktrace)\n",
      "\u001B[1;31mNoSuchElementException\u001B[0m: Message: no such element: Unable to locate element: {\"method\":\"xpath\",\"selector\":\"//div[@data-attrid='kc:/local:all reviews']//div[3]/div/div[24]//div[@class='OA1nbd']\"}\n  (Session info: chrome=121.0.6167.85); For documentation on this error, please visit: https://www.selenium.dev/documentation/webdriver/troubleshooting/errors#no-such-element-exception\nStacktrace:\n\tGetHandleVerifier [0x00007FF7EC375E42+3538674]\n\t(No symbol) [0x00007FF7EBF94C02]\n\t(No symbol) [0x00007FF7EBE45AEB]\n\t(No symbol) [0x00007FF7EBE8BF4E]\n\t(No symbol) [0x00007FF7EBE8C0CC]\n\t(No symbol) [0x00007FF7EBECE477]\n\t(No symbol) [0x00007FF7EBEAF0EF]\n\t(No symbol) [0x00007FF7EBECBDE3]\n\t(No symbol) [0x00007FF7EBEAEE53]\n\t(No symbol) [0x00007FF7EBE7F514]\n\t(No symbol) [0x00007FF7EBE80631]\n\tGetHandleVerifier [0x00007FF7EC3A6CAD+3738973]\n\tGetHandleVerifier [0x00007FF7EC3FC506+4089270]\n\tGetHandleVerifier [0x00007FF7EC3F4823+4057299]\n\tGetHandleVerifier [0x00007FF7EC0C5C49+720121]\n\t(No symbol) [0x00007FF7EBFA126F]\n\t(No symbol) [0x00007FF7EBF9C304]\n\t(No symbol) [0x00007FF7EBF9C432]\n\t(No symbol) [0x00007FF7EBF8BD04]\n\tBaseThreadInitThunk [0x00007FFC09BE7344+20]\n\tRtlUserThreadStart [0x00007FFC0B0026B1+33]\n"
     ]
    }
   ],
   "source": [
    "loaded_reviews_count = 0\n",
    "reviews = []\n",
    "\n",
    "# Load Reviews Until Empty Ones are Encountered\n",
    "while True:\n",
    "    review_elements = driver.find_elements(By.XPATH, \"//div[@data-attrid='kc:/local:all reviews']//div[3]/div/div\")\n",
    "    if not review_elements:\n",
    "        break\n",
    "\n",
    "    for index, element in enumerate(review_elements, start=1):\n",
    "        current_review_xpath = f\"//div[@data-attrid='kc:/local:all reviews']//div[3]/div/div[{index}]//div[@class='OA1nbd']\"\n",
    "        current_review = driver.find_element(By.XPATH, current_review_xpath)\n",
    "\n",
    "        # Check for empty review\n",
    "        review_text = current_review.text.strip()\n",
    "        if not review_text:\n",
    "            break\n",
    "\n",
    "        # Click Translate if Available\n",
    "        translate_button = current_review.find_elements(By.XPATH, \".//button[contains(text(), 'Translated by Google')]\")\n",
    "        if translate_button:\n",
    "            translate_button[0].location_once_scrolled_into_view\n",
    "            translate_button[0].click()\n",
    "            time.sleep(1)\n",
    "\n",
    "        # Click More if Available\n",
    "        more_button = current_review.find_elements(By.XPATH, \".//a[@role='button' and contains(text(), 'More')]\")\n",
    "        if more_button:\n",
    "            more_button[0].location_once_scrolled_into_view\n",
    "            more_button[0].click()\n",
    "            time.sleep(1)\n",
    "\n",
    "        # Add Review Text to Array\n",
    "        if review_text:\n",
    "            reviews.append(review_text)\n",
    "\n",
    "        loaded_reviews_count += 1\n",
    "\n",
    "    # Scroll to the last element\n",
    "    last_element = review_elements[-1]\n",
    "    last_element.location_once_scrolled_into_view\n",
    "    time.sleep(2)\n"
   ],
   "metadata": {
    "collapsed": false,
    "ExecuteTime": {
     "end_time": "2024-01-30T09:33:28.027380500Z",
     "start_time": "2024-01-30T09:33:18.859514100Z"
    }
   },
   "id": "6ff0a8b9fd4b6928",
   "execution_count": 41
  },
  {
   "cell_type": "code",
   "outputs": [],
   "source": [
    "df_reviews= pd.DataFrame(reviews, columns=['Review'])"
   ],
   "metadata": {
    "collapsed": false,
    "ExecuteTime": {
     "end_time": "2024-01-30T10:31:54.025060600Z",
     "start_time": "2024-01-30T10:31:53.985166800Z"
    }
   },
   "id": "9f985fd340889d05",
   "execution_count": 61
  },
  {
   "cell_type": "code",
   "outputs": [],
   "source": [
    "df_reviews.to_csv('reviews.csv', index=False)\n"
   ],
   "metadata": {
    "collapsed": false,
    "ExecuteTime": {
     "end_time": "2024-01-30T10:31:54.895734600Z",
     "start_time": "2024-01-30T10:31:54.824926900Z"
    }
   },
   "id": "8aa7458a1e9154d3",
   "execution_count": 62
  },
  {
   "cell_type": "code",
   "outputs": [
    {
     "ename": "KeyboardInterrupt",
     "evalue": "",
     "output_type": "error",
     "traceback": [
      "\u001B[1;31m---------------------------------------------------------------------------\u001B[0m",
      "\u001B[1;31mKeyboardInterrupt\u001B[0m                         Traceback (most recent call last)",
      "Cell \u001B[1;32mIn[48], line 8\u001B[0m\n\u001B[0;32m      6\u001B[0m last_element \u001B[38;5;241m=\u001B[39m review_elements[\u001B[38;5;241m-\u001B[39m\u001B[38;5;241m1\u001B[39m]\n\u001B[0;32m      7\u001B[0m last_element\u001B[38;5;241m.\u001B[39mlocation_once_scrolled_into_view\n\u001B[1;32m----> 8\u001B[0m \u001B[43mtime\u001B[49m\u001B[38;5;241;43m.\u001B[39;49m\u001B[43msleep\u001B[49m\u001B[43m(\u001B[49m\u001B[38;5;241;43m2\u001B[39;49m\u001B[43m)\u001B[49m\n\u001B[0;32m      9\u001B[0m \u001B[38;5;28;01mif\u001B[39;00m \u001B[38;5;129;01mnot\u001B[39;00m last_element\u001B[38;5;241m.\u001B[39mtext\u001B[38;5;241m.\u001B[39mstrip():\n\u001B[0;32m     10\u001B[0m     \u001B[38;5;28;01mbreak\u001B[39;00m\n",
      "\u001B[1;31mKeyboardInterrupt\u001B[0m: "
     ]
    }
   ],
   "source": [
    "# Load Reviews Until Empty Ones are Encountered\n",
    "# Load Reviews Until Empty Ones are Encountered\n",
    "while True:\n",
    "    review_elements = driver.find_elements(By.XPATH, \"//*[@data-hveid='2']/following-sibling::*//div[@class='OA1nbd']\")\n",
    "    if review_elements:\n",
    "        last_element = review_elements[-1]\n",
    "        last_element.location_once_scrolled_into_view\n",
    "        time.sleep(2)\n",
    "        if not last_element.text.strip():\n",
    "            break\n",
    "\n",
    "# Scroll Back to First Review\n",
    "first_review = driver.find_element(By.XPATH, f\"//div[@data-attrid='kc:/local:all reviews']//div[3]/div/div[{1}]//div[@class='OA1nbd']\")\n",
    "first_review.location_once_scrolled_into_view\n",
    "time.sleep(2)\n",
    "\n",
    "# Process Each Review\n",
    "reviews = []\n",
    "for i in range(len(review_elements)):\n",
    "    # Fetch the review element again to avoid stale element reference\n",
    "    current_review = driver.find_elements(By.XPATH, f\"//div[@data-attrid='kc:/local:all reviews']//div[3]/div/div[{i}]//div[@class='OA1nbd']\")\n",
    "\n",
    "    # Click Translate if Available\n",
    "    translate_button = current_review.find_elements(By.XPATH, \".//button[contains(text(), 'Translated by Google')]\")\n",
    "    if translate_button:\n",
    "        translate_button[0].location_once_scrolled_into_view\n",
    "        translate_button[0].click()\n",
    "        time.sleep(1)\n",
    "\n",
    "    # Click More if Available\n",
    "    more_button = current_review.find_elements(By.XPATH, \".//a[@role='button' and contains(text(), 'More')]\")\n",
    "    if more_button:\n",
    "        more_button[0].location_once_scrolled_into_view\n",
    "        more_button[0].click()\n",
    "        time.sleep(1)\n",
    "\n",
    "    # Re-fetch the current review to get the updated text\n",
    "    current_review = driver.find_elements(By.XPATH, f\"//div[@data-attrid='kc:/local:all reviews']//div[3]/div/div[{i}]//div[@class='OA1nbd']\")\n",
    "    review_text = current_review.text.strip()\n",
    "    if review_text:\n",
    "        reviews.append(review_text)\n",
    "\n",
    "    # Scroll to Next Review, if not the last review\n",
    "    if i < len(review_elements) - 1:\n",
    "        next_review = driver.find_elements(By.XPATH, f\"//div[@data-attrid='kc:/local:all reviews']//div[3]/div/div[{i+1}]//div[@class='OA1nbd']\")\n",
    "        next_review.location_once_scrolled_into_view\n",
    "        time.sleep(1)\n",
    "\n"
   ],
   "metadata": {
    "collapsed": false,
    "ExecuteTime": {
     "end_time": "2024-01-30T10:12:09.142297500Z",
     "start_time": "2024-01-30T10:11:12.557712700Z"
    }
   },
   "id": "339d0b3a055199af",
   "execution_count": 48
  },
  {
   "cell_type": "code",
   "outputs": [],
   "source": [
    "# Initialize a variable to store the text of the last review from the previous iteration\n",
    "previous_last_review_text = None\n",
    "\n",
    "while True:\n",
    "    review_elements = driver.find_elements(By.XPATH, \"//*[@data-hveid='2']/following-sibling::*//div[@class='OA1nbd']\")\n",
    "    if not review_elements:\n",
    "        break  # Break if no reviews are found\n",
    "\n",
    "    last_element = review_elements[-1]\n",
    "    last_element.location_once_scrolled_into_view\n",
    "    time.sleep(2)  # Waiting for potential loading of new reviews\n",
    "\n",
    "    current_last_review_text = last_element.text.strip()\n",
    "\n",
    "    # Check if the last review text is the same as in the previous iteration\n",
    "    if current_last_review_text == previous_last_review_text:\n",
    "        break  # Break the loop if we are seeing the same last review as before\n",
    "\n",
    "    previous_last_review_text = current_last_review_text  # Update the last review text for the next iteration\n",
    "\n",
    "# Continue with the rest of your code...\n"
   ],
   "metadata": {
    "collapsed": false,
    "ExecuteTime": {
     "end_time": "2024-01-30T10:29:55.172544500Z",
     "start_time": "2024-01-30T10:29:19.267454Z"
    }
   },
   "id": "9966f9feeb038942",
   "execution_count": 58
  },
  {
   "cell_type": "code",
   "outputs": [],
   "source": [
    "first_review = driver.find_element(By.XPATH, \"//div[@data-attrid='kc:/local:all reviews']//div[3]/div/div[2]//div[@class='OA1nbd']\")\n",
    "first_review.location_once_scrolled_into_view\n",
    "time.sleep(2)\n",
    "driver.execute_script(\"arguments[0].scrollIntoView();\", first_review)\n"
   ],
   "metadata": {
    "collapsed": false,
    "ExecuteTime": {
     "end_time": "2024-01-30T10:30:09.582502800Z",
     "start_time": "2024-01-30T10:30:07.399459500Z"
    }
   },
   "id": "e6f05305b74ddaa1",
   "execution_count": 59
  },
  {
   "cell_type": "code",
   "outputs": [
    {
     "ename": "ElementNotInteractableException",
     "evalue": "Message: element not interactable\n  (Session info: chrome=121.0.6167.85)\nStacktrace:\n\tGetHandleVerifier [0x00007FF7EC375E42+3538674]\n\t(No symbol) [0x00007FF7EBF94C02]\n\t(No symbol) [0x00007FF7EBE4599D]\n\t(No symbol) [0x00007FF7EBE8D406]\n\t(No symbol) [0x00007FF7EBE81950]\n\t(No symbol) [0x00007FF7EBEAF0AA]\n\t(No symbol) [0x00007FF7EBE8124A]\n\t(No symbol) [0x00007FF7EBEAF2C0]\n\t(No symbol) [0x00007FF7EBECBDE3]\n\t(No symbol) [0x00007FF7EBEAEE53]\n\t(No symbol) [0x00007FF7EBE7F514]\n\t(No symbol) [0x00007FF7EBE80631]\n\tGetHandleVerifier [0x00007FF7EC3A6CAD+3738973]\n\tGetHandleVerifier [0x00007FF7EC3FC506+4089270]\n\tGetHandleVerifier [0x00007FF7EC3F4823+4057299]\n\tGetHandleVerifier [0x00007FF7EC0C5C49+720121]\n\t(No symbol) [0x00007FF7EBFA126F]\n\t(No symbol) [0x00007FF7EBF9C304]\n\t(No symbol) [0x00007FF7EBF9C432]\n\t(No symbol) [0x00007FF7EBF8BD04]\n\tBaseThreadInitThunk [0x00007FFC09BE7344+20]\n\tRtlUserThreadStart [0x00007FFC0B0026B1+33]\n",
     "output_type": "error",
     "traceback": [
      "\u001B[1;31m---------------------------------------------------------------------------\u001B[0m",
      "\u001B[1;31mElementNotInteractableException\u001B[0m           Traceback (most recent call last)",
      "Cell \u001B[1;32mIn[60], line 21\u001B[0m\n\u001B[0;32m     19\u001B[0m \u001B[38;5;28;01mif\u001B[39;00m more_button:\n\u001B[0;32m     20\u001B[0m     more_button[\u001B[38;5;241m0\u001B[39m]\u001B[38;5;241m.\u001B[39mlocation_once_scrolled_into_view\n\u001B[1;32m---> 21\u001B[0m     \u001B[43mmore_button\u001B[49m\u001B[43m[\u001B[49m\u001B[38;5;241;43m0\u001B[39;49m\u001B[43m]\u001B[49m\u001B[38;5;241;43m.\u001B[39;49m\u001B[43mclick\u001B[49m\u001B[43m(\u001B[49m\u001B[43m)\u001B[49m\n\u001B[0;32m     22\u001B[0m     time\u001B[38;5;241m.\u001B[39msleep(\u001B[38;5;241m1\u001B[39m)\n\u001B[0;32m     24\u001B[0m \u001B[38;5;66;03m# Re-fetch the current review to get the updated text\u001B[39;00m\n",
      "File \u001B[1;32m~\\DataspellProjects\\RedditSentimentAnalysis\\venv\\lib\\site-packages\\selenium\\webdriver\\remote\\webelement.py:94\u001B[0m, in \u001B[0;36mWebElement.click\u001B[1;34m(self)\u001B[0m\n\u001B[0;32m     92\u001B[0m \u001B[38;5;28;01mdef\u001B[39;00m \u001B[38;5;21mclick\u001B[39m(\u001B[38;5;28mself\u001B[39m) \u001B[38;5;241m-\u001B[39m\u001B[38;5;241m>\u001B[39m \u001B[38;5;28;01mNone\u001B[39;00m:\n\u001B[0;32m     93\u001B[0m \u001B[38;5;250m    \u001B[39m\u001B[38;5;124;03m\"\"\"Clicks the element.\"\"\"\u001B[39;00m\n\u001B[1;32m---> 94\u001B[0m     \u001B[38;5;28;43mself\u001B[39;49m\u001B[38;5;241;43m.\u001B[39;49m\u001B[43m_execute\u001B[49m\u001B[43m(\u001B[49m\u001B[43mCommand\u001B[49m\u001B[38;5;241;43m.\u001B[39;49m\u001B[43mCLICK_ELEMENT\u001B[49m\u001B[43m)\u001B[49m\n",
      "File \u001B[1;32m~\\DataspellProjects\\RedditSentimentAnalysis\\venv\\lib\\site-packages\\selenium\\webdriver\\remote\\webelement.py:395\u001B[0m, in \u001B[0;36mWebElement._execute\u001B[1;34m(self, command, params)\u001B[0m\n\u001B[0;32m    393\u001B[0m     params \u001B[38;5;241m=\u001B[39m {}\n\u001B[0;32m    394\u001B[0m params[\u001B[38;5;124m\"\u001B[39m\u001B[38;5;124mid\u001B[39m\u001B[38;5;124m\"\u001B[39m] \u001B[38;5;241m=\u001B[39m \u001B[38;5;28mself\u001B[39m\u001B[38;5;241m.\u001B[39m_id\n\u001B[1;32m--> 395\u001B[0m \u001B[38;5;28;01mreturn\u001B[39;00m \u001B[38;5;28;43mself\u001B[39;49m\u001B[38;5;241;43m.\u001B[39;49m\u001B[43m_parent\u001B[49m\u001B[38;5;241;43m.\u001B[39;49m\u001B[43mexecute\u001B[49m\u001B[43m(\u001B[49m\u001B[43mcommand\u001B[49m\u001B[43m,\u001B[49m\u001B[43m \u001B[49m\u001B[43mparams\u001B[49m\u001B[43m)\u001B[49m\n",
      "File \u001B[1;32m~\\DataspellProjects\\RedditSentimentAnalysis\\venv\\lib\\site-packages\\selenium\\webdriver\\remote\\webdriver.py:347\u001B[0m, in \u001B[0;36mWebDriver.execute\u001B[1;34m(self, driver_command, params)\u001B[0m\n\u001B[0;32m    345\u001B[0m response \u001B[38;5;241m=\u001B[39m \u001B[38;5;28mself\u001B[39m\u001B[38;5;241m.\u001B[39mcommand_executor\u001B[38;5;241m.\u001B[39mexecute(driver_command, params)\n\u001B[0;32m    346\u001B[0m \u001B[38;5;28;01mif\u001B[39;00m response:\n\u001B[1;32m--> 347\u001B[0m     \u001B[38;5;28;43mself\u001B[39;49m\u001B[38;5;241;43m.\u001B[39;49m\u001B[43merror_handler\u001B[49m\u001B[38;5;241;43m.\u001B[39;49m\u001B[43mcheck_response\u001B[49m\u001B[43m(\u001B[49m\u001B[43mresponse\u001B[49m\u001B[43m)\u001B[49m\n\u001B[0;32m    348\u001B[0m     response[\u001B[38;5;124m\"\u001B[39m\u001B[38;5;124mvalue\u001B[39m\u001B[38;5;124m\"\u001B[39m] \u001B[38;5;241m=\u001B[39m \u001B[38;5;28mself\u001B[39m\u001B[38;5;241m.\u001B[39m_unwrap_value(response\u001B[38;5;241m.\u001B[39mget(\u001B[38;5;124m\"\u001B[39m\u001B[38;5;124mvalue\u001B[39m\u001B[38;5;124m\"\u001B[39m, \u001B[38;5;28;01mNone\u001B[39;00m))\n\u001B[0;32m    349\u001B[0m     \u001B[38;5;28;01mreturn\u001B[39;00m response\n",
      "File \u001B[1;32m~\\DataspellProjects\\RedditSentimentAnalysis\\venv\\lib\\site-packages\\selenium\\webdriver\\remote\\errorhandler.py:229\u001B[0m, in \u001B[0;36mErrorHandler.check_response\u001B[1;34m(self, response)\u001B[0m\n\u001B[0;32m    227\u001B[0m         alert_text \u001B[38;5;241m=\u001B[39m value[\u001B[38;5;124m\"\u001B[39m\u001B[38;5;124malert\u001B[39m\u001B[38;5;124m\"\u001B[39m]\u001B[38;5;241m.\u001B[39mget(\u001B[38;5;124m\"\u001B[39m\u001B[38;5;124mtext\u001B[39m\u001B[38;5;124m\"\u001B[39m)\n\u001B[0;32m    228\u001B[0m     \u001B[38;5;28;01mraise\u001B[39;00m exception_class(message, screen, stacktrace, alert_text)  \u001B[38;5;66;03m# type: ignore[call-arg]  # mypy is not smart enough here\u001B[39;00m\n\u001B[1;32m--> 229\u001B[0m \u001B[38;5;28;01mraise\u001B[39;00m exception_class(message, screen, stacktrace)\n",
      "\u001B[1;31mElementNotInteractableException\u001B[0m: Message: element not interactable\n  (Session info: chrome=121.0.6167.85)\nStacktrace:\n\tGetHandleVerifier [0x00007FF7EC375E42+3538674]\n\t(No symbol) [0x00007FF7EBF94C02]\n\t(No symbol) [0x00007FF7EBE4599D]\n\t(No symbol) [0x00007FF7EBE8D406]\n\t(No symbol) [0x00007FF7EBE81950]\n\t(No symbol) [0x00007FF7EBEAF0AA]\n\t(No symbol) [0x00007FF7EBE8124A]\n\t(No symbol) [0x00007FF7EBEAF2C0]\n\t(No symbol) [0x00007FF7EBECBDE3]\n\t(No symbol) [0x00007FF7EBEAEE53]\n\t(No symbol) [0x00007FF7EBE7F514]\n\t(No symbol) [0x00007FF7EBE80631]\n\tGetHandleVerifier [0x00007FF7EC3A6CAD+3738973]\n\tGetHandleVerifier [0x00007FF7EC3FC506+4089270]\n\tGetHandleVerifier [0x00007FF7EC3F4823+4057299]\n\tGetHandleVerifier [0x00007FF7EC0C5C49+720121]\n\t(No symbol) [0x00007FF7EBFA126F]\n\t(No symbol) [0x00007FF7EBF9C304]\n\t(No symbol) [0x00007FF7EBF9C432]\n\t(No symbol) [0x00007FF7EBF8BD04]\n\tBaseThreadInitThunk [0x00007FFC09BE7344+20]\n\tRtlUserThreadStart [0x00007FFC0B0026B1+33]\n"
     ]
    }
   ],
   "source": [
    "\n",
    "# Scroll Back to First Review\n",
    "\n",
    "# Process Each Review\n",
    "reviews = []\n",
    "for i in range(1, len(review_elements) + 1):\n",
    "    # Fetch the review element again to avoid stale element reference\n",
    "    current_review_xpath = f\"//div[@data-attrid='kc:/local:all reviews']//div[3]/div/div[{i}]//div[@class='OA1nbd']\"\n",
    "    current_review = driver.find_element(By.XPATH, current_review_xpath)\n",
    "\n",
    "    # Click Translate if Available\n",
    "    translate_button = current_review.find_elements(By.XPATH, \".//button[contains(text(), 'Translated by Google')]\")\n",
    "    if translate_button:\n",
    "        translate_button[0].location_once_scrolled_into_view\n",
    "        translate_button[0].click()\n",
    "        time.sleep(1)\n",
    "\n",
    "    # Click More if Available\n",
    "    more_button = current_review.find_elements(By.XPATH, \".//a[@role='button' and contains(text(), 'More')]\")\n",
    "    if more_button:\n",
    "        more_button[0].location_once_scrolled_into_view\n",
    "        more_button[0].click()\n",
    "        time.sleep(1)\n",
    "\n",
    "    # Re-fetch the current review to get the updated text\n",
    "    current_review = driver.find_element(By.XPATH, current_review_xpath)\n",
    "    review_text = current_review.text.strip()\n",
    "    if review_text:\n",
    "        reviews.append(review_text)\n",
    "\n",
    "    # Scroll to Next Review, if not the last review\n",
    "    if i < len(review_elements):\n",
    "        next_review_xpath = f\"//div[@data-attrid='kc:/local:all reviews']//div[3]/div/div[{i+1}]//div[@class='OA1nbd']\"\n",
    "        next_review = driver.find_element(By.XPATH, next_review_xpath)\n",
    "        next_review.location_once_scrolled_into_view\n",
    "        time.sleep(1)\n"
   ],
   "metadata": {
    "collapsed": false,
    "ExecuteTime": {
     "end_time": "2024-01-30T10:31:11.309142700Z",
     "start_time": "2024-01-30T10:30:20.023524700Z"
    }
   },
   "id": "749136d781867762",
   "execution_count": 60
  },
  {
   "cell_type": "code",
   "outputs": [],
   "source": [],
   "metadata": {
    "collapsed": false
   },
   "id": "ccebc51438fddc4"
  }
 ],
 "metadata": {
  "kernelspec": {
   "display_name": "Python 3",
   "language": "python",
   "name": "python3"
  },
  "language_info": {
   "codemirror_mode": {
    "name": "ipython",
    "version": 2
   },
   "file_extension": ".py",
   "mimetype": "text/x-python",
   "name": "python",
   "nbconvert_exporter": "python",
   "pygments_lexer": "ipython2",
   "version": "2.7.6"
  }
 },
 "nbformat": 4,
 "nbformat_minor": 5
}
